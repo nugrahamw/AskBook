{
 "cells": [
  {
   "cell_type": "code",
   "execution_count": 3,
   "metadata": {
    "id": "HThzjvlsYGFP"
   },
   "outputs": [],
   "source": [
    "import numpy as np\n",
    "import pandas as pd\n",
    "import matplotlib.pyplot as plt\n",
    "from sklearn.model_selection import train_test_split,cross_val_score\n",
    "from sklearn.neighbors import NearestCentroid,NearestNeighbors\n",
    "from sklearn.cluster import KMeans\n",
    "from sklearn.preprocessing import Normalizer,LabelEncoder\n",
    "from sklearn.metrics import accuracy_score,confusion_matrix,ConfusionMatrixDisplay,classification_report\n",
    "from sklearn.utils.extmath import randomized_svd\n",
    "from IPython.display import display\n",
    "from numpy import linalg as la\n",
    "from scipy.sparse import csr_matrix\n",
    "pd.set_option('display.max_colwidth',None)\n",
    "import os"
   ]
  },
  {
   "cell_type": "code",
   "execution_count": 4,
   "metadata": {
    "id": "iB0VCBeVYGFS"
   },
   "outputs": [],
   "source": [
    "users_df = pd.read_csv('https://drive.google.com/uc?export=download&id=1JsWiGOpXta47kyP9QQMH7rskZAtmkZxg',sep=\";\",on_bad_lines=\"skip\",encoding='latin-1')\n",
    "ratings_df = pd.read_csv('https://drive.google.com/uc?export=download&id=1YrOExeh28DHW3djtgPdAxjaYOTaQDtFl',sep=\";\",on_bad_lines=\"skip\",encoding='latin-1')\n",
    "books_df = pd.read_csv(\"https://drive.google.com/uc?export=download&id=1AsnxW_v4-J8F3ulQZF3Cvxtuk_13O5Jd\",sep=\";\",on_bad_lines='skip',encoding = 'latin-1',low_memory = False)"
   ]
  },
  {
   "cell_type": "code",
   "execution_count": 5,
   "metadata": {
    "colab": {
     "base_uri": "https://localhost:8080/"
    },
    "id": "wB8nvP83YGFS",
    "outputId": "35483259-859a-4b69-ed9b-ed1bd9da3415"
   },
   "outputs": [
    {
     "name": "stdout",
     "output_type": "stream",
     "text": [
      "Books dataframe shape:  (271360, 8)\n",
      "Ratings dataframe shape:  (1149780, 3)\n",
      "Users dataframe shape:  (278858, 3)\n"
     ]
    }
   ],
   "source": [
    "print(\"Books dataframe shape: \" , books_df.shape)\n",
    "print(\"Ratings dataframe shape: \" , ratings_df.shape)\n",
    "print(\"Users dataframe shape: \" , users_df.shape)"
   ]
  },
  {
   "cell_type": "code",
   "execution_count": 6,
   "metadata": {
    "colab": {
     "base_uri": "https://localhost:8080/",
     "height": 573
    },
    "id": "sUu_GrYbYGFS",
    "outputId": "f5b60662-ad8e-4413-812f-cd868db277d3"
   },
   "outputs": [
    {
     "data": {
      "text/html": [
       "<div>\n",
       "<style scoped>\n",
       "    .dataframe tbody tr th:only-of-type {\n",
       "        vertical-align: middle;\n",
       "    }\n",
       "\n",
       "    .dataframe tbody tr th {\n",
       "        vertical-align: top;\n",
       "    }\n",
       "\n",
       "    .dataframe thead th {\n",
       "        text-align: right;\n",
       "    }\n",
       "</style>\n",
       "<table border=\"1\" class=\"dataframe\">\n",
       "  <thead>\n",
       "    <tr style=\"text-align: right;\">\n",
       "      <th></th>\n",
       "      <th>ISBN</th>\n",
       "      <th>Book-Title</th>\n",
       "      <th>Book-Author</th>\n",
       "      <th>Year-Of-Publication</th>\n",
       "      <th>Publisher</th>\n",
       "      <th>Image-URL-S</th>\n",
       "      <th>Image-URL-M</th>\n",
       "      <th>Image-URL-L</th>\n",
       "    </tr>\n",
       "  </thead>\n",
       "  <tbody>\n",
       "    <tr>\n",
       "      <th>0</th>\n",
       "      <td>0195153448</td>\n",
       "      <td>Classical Mythology</td>\n",
       "      <td>Mark P. O. Morford</td>\n",
       "      <td>2002</td>\n",
       "      <td>Oxford University Press</td>\n",
       "      <td>http://images.amazon.com/images/P/0195153448.01.THUMBZZZ.jpg</td>\n",
       "      <td>http://images.amazon.com/images/P/0195153448.01.MZZZZZZZ.jpg</td>\n",
       "      <td>http://images.amazon.com/images/P/0195153448.01.LZZZZZZZ.jpg</td>\n",
       "    </tr>\n",
       "    <tr>\n",
       "      <th>1</th>\n",
       "      <td>0002005018</td>\n",
       "      <td>Clara Callan</td>\n",
       "      <td>Richard Bruce Wright</td>\n",
       "      <td>2001</td>\n",
       "      <td>HarperFlamingo Canada</td>\n",
       "      <td>http://images.amazon.com/images/P/0002005018.01.THUMBZZZ.jpg</td>\n",
       "      <td>http://images.amazon.com/images/P/0002005018.01.MZZZZZZZ.jpg</td>\n",
       "      <td>http://images.amazon.com/images/P/0002005018.01.LZZZZZZZ.jpg</td>\n",
       "    </tr>\n",
       "    <tr>\n",
       "      <th>2</th>\n",
       "      <td>0060973129</td>\n",
       "      <td>Decision in Normandy</td>\n",
       "      <td>Carlo D'Este</td>\n",
       "      <td>1991</td>\n",
       "      <td>HarperPerennial</td>\n",
       "      <td>http://images.amazon.com/images/P/0060973129.01.THUMBZZZ.jpg</td>\n",
       "      <td>http://images.amazon.com/images/P/0060973129.01.MZZZZZZZ.jpg</td>\n",
       "      <td>http://images.amazon.com/images/P/0060973129.01.LZZZZZZZ.jpg</td>\n",
       "    </tr>\n",
       "    <tr>\n",
       "      <th>3</th>\n",
       "      <td>0374157065</td>\n",
       "      <td>Flu: The Story of the Great Influenza Pandemic of 1918 and the Search for the Virus That Caused It</td>\n",
       "      <td>Gina Bari Kolata</td>\n",
       "      <td>1999</td>\n",
       "      <td>Farrar Straus Giroux</td>\n",
       "      <td>http://images.amazon.com/images/P/0374157065.01.THUMBZZZ.jpg</td>\n",
       "      <td>http://images.amazon.com/images/P/0374157065.01.MZZZZZZZ.jpg</td>\n",
       "      <td>http://images.amazon.com/images/P/0374157065.01.LZZZZZZZ.jpg</td>\n",
       "    </tr>\n",
       "    <tr>\n",
       "      <th>4</th>\n",
       "      <td>0393045218</td>\n",
       "      <td>The Mummies of Urumchi</td>\n",
       "      <td>E. J. W. Barber</td>\n",
       "      <td>1999</td>\n",
       "      <td>W. W. Norton &amp;amp; Company</td>\n",
       "      <td>http://images.amazon.com/images/P/0393045218.01.THUMBZZZ.jpg</td>\n",
       "      <td>http://images.amazon.com/images/P/0393045218.01.MZZZZZZZ.jpg</td>\n",
       "      <td>http://images.amazon.com/images/P/0393045218.01.LZZZZZZZ.jpg</td>\n",
       "    </tr>\n",
       "  </tbody>\n",
       "</table>\n",
       "</div>"
      ],
      "text/plain": [
       "         ISBN  \\\n",
       "0  0195153448   \n",
       "1  0002005018   \n",
       "2  0060973129   \n",
       "3  0374157065   \n",
       "4  0393045218   \n",
       "\n",
       "                                                                                           Book-Title  \\\n",
       "0                                                                                 Classical Mythology   \n",
       "1                                                                                        Clara Callan   \n",
       "2                                                                                Decision in Normandy   \n",
       "3  Flu: The Story of the Great Influenza Pandemic of 1918 and the Search for the Virus That Caused It   \n",
       "4                                                                              The Mummies of Urumchi   \n",
       "\n",
       "            Book-Author Year-Of-Publication                   Publisher  \\\n",
       "0    Mark P. O. Morford                2002     Oxford University Press   \n",
       "1  Richard Bruce Wright                2001       HarperFlamingo Canada   \n",
       "2          Carlo D'Este                1991             HarperPerennial   \n",
       "3      Gina Bari Kolata                1999        Farrar Straus Giroux   \n",
       "4       E. J. W. Barber                1999  W. W. Norton &amp; Company   \n",
       "\n",
       "                                                    Image-URL-S  \\\n",
       "0  http://images.amazon.com/images/P/0195153448.01.THUMBZZZ.jpg   \n",
       "1  http://images.amazon.com/images/P/0002005018.01.THUMBZZZ.jpg   \n",
       "2  http://images.amazon.com/images/P/0060973129.01.THUMBZZZ.jpg   \n",
       "3  http://images.amazon.com/images/P/0374157065.01.THUMBZZZ.jpg   \n",
       "4  http://images.amazon.com/images/P/0393045218.01.THUMBZZZ.jpg   \n",
       "\n",
       "                                                    Image-URL-M  \\\n",
       "0  http://images.amazon.com/images/P/0195153448.01.MZZZZZZZ.jpg   \n",
       "1  http://images.amazon.com/images/P/0002005018.01.MZZZZZZZ.jpg   \n",
       "2  http://images.amazon.com/images/P/0060973129.01.MZZZZZZZ.jpg   \n",
       "3  http://images.amazon.com/images/P/0374157065.01.MZZZZZZZ.jpg   \n",
       "4  http://images.amazon.com/images/P/0393045218.01.MZZZZZZZ.jpg   \n",
       "\n",
       "                                                    Image-URL-L  \n",
       "0  http://images.amazon.com/images/P/0195153448.01.LZZZZZZZ.jpg  \n",
       "1  http://images.amazon.com/images/P/0002005018.01.LZZZZZZZ.jpg  \n",
       "2  http://images.amazon.com/images/P/0060973129.01.LZZZZZZZ.jpg  \n",
       "3  http://images.amazon.com/images/P/0374157065.01.LZZZZZZZ.jpg  \n",
       "4  http://images.amazon.com/images/P/0393045218.01.LZZZZZZZ.jpg  "
      ]
     },
     "execution_count": 6,
     "metadata": {},
     "output_type": "execute_result"
    }
   ],
   "source": [
    "books_df.head(5)"
   ]
  },
  {
   "cell_type": "code",
   "execution_count": 7,
   "metadata": {
    "colab": {
     "base_uri": "https://localhost:8080/",
     "height": 206
    },
    "id": "h0DTrrXWYGFS",
    "outputId": "82a95a3e-96c3-434d-866a-f6a42ba2be42"
   },
   "outputs": [
    {
     "data": {
      "text/html": [
       "<div>\n",
       "<style scoped>\n",
       "    .dataframe tbody tr th:only-of-type {\n",
       "        vertical-align: middle;\n",
       "    }\n",
       "\n",
       "    .dataframe tbody tr th {\n",
       "        vertical-align: top;\n",
       "    }\n",
       "\n",
       "    .dataframe thead th {\n",
       "        text-align: right;\n",
       "    }\n",
       "</style>\n",
       "<table border=\"1\" class=\"dataframe\">\n",
       "  <thead>\n",
       "    <tr style=\"text-align: right;\">\n",
       "      <th></th>\n",
       "      <th>User-ID</th>\n",
       "      <th>ISBN</th>\n",
       "      <th>Book-Rating</th>\n",
       "    </tr>\n",
       "  </thead>\n",
       "  <tbody>\n",
       "    <tr>\n",
       "      <th>0</th>\n",
       "      <td>276725</td>\n",
       "      <td>034545104X</td>\n",
       "      <td>0</td>\n",
       "    </tr>\n",
       "    <tr>\n",
       "      <th>1</th>\n",
       "      <td>276726</td>\n",
       "      <td>0155061224</td>\n",
       "      <td>5</td>\n",
       "    </tr>\n",
       "    <tr>\n",
       "      <th>2</th>\n",
       "      <td>276727</td>\n",
       "      <td>0446520802</td>\n",
       "      <td>0</td>\n",
       "    </tr>\n",
       "    <tr>\n",
       "      <th>3</th>\n",
       "      <td>276729</td>\n",
       "      <td>052165615X</td>\n",
       "      <td>3</td>\n",
       "    </tr>\n",
       "    <tr>\n",
       "      <th>4</th>\n",
       "      <td>276729</td>\n",
       "      <td>0521795028</td>\n",
       "      <td>6</td>\n",
       "    </tr>\n",
       "  </tbody>\n",
       "</table>\n",
       "</div>"
      ],
      "text/plain": [
       "   User-ID        ISBN  Book-Rating\n",
       "0   276725  034545104X            0\n",
       "1   276726  0155061224            5\n",
       "2   276727  0446520802            0\n",
       "3   276729  052165615X            3\n",
       "4   276729  0521795028            6"
      ]
     },
     "execution_count": 7,
     "metadata": {},
     "output_type": "execute_result"
    }
   ],
   "source": [
    "ratings_df.head(5)"
   ]
  },
  {
   "cell_type": "code",
   "execution_count": 8,
   "metadata": {
    "colab": {
     "base_uri": "https://localhost:8080/",
     "height": 206
    },
    "id": "VyV2vSsYYGFS",
    "outputId": "3a8a11a2-0b1f-48e6-a2a7-53379de21fec"
   },
   "outputs": [
    {
     "data": {
      "text/html": [
       "<div>\n",
       "<style scoped>\n",
       "    .dataframe tbody tr th:only-of-type {\n",
       "        vertical-align: middle;\n",
       "    }\n",
       "\n",
       "    .dataframe tbody tr th {\n",
       "        vertical-align: top;\n",
       "    }\n",
       "\n",
       "    .dataframe thead th {\n",
       "        text-align: right;\n",
       "    }\n",
       "</style>\n",
       "<table border=\"1\" class=\"dataframe\">\n",
       "  <thead>\n",
       "    <tr style=\"text-align: right;\">\n",
       "      <th></th>\n",
       "      <th>User-ID</th>\n",
       "      <th>Location</th>\n",
       "      <th>Age</th>\n",
       "    </tr>\n",
       "  </thead>\n",
       "  <tbody>\n",
       "    <tr>\n",
       "      <th>0</th>\n",
       "      <td>1</td>\n",
       "      <td>nyc, new york, usa</td>\n",
       "      <td>NaN</td>\n",
       "    </tr>\n",
       "    <tr>\n",
       "      <th>1</th>\n",
       "      <td>2</td>\n",
       "      <td>stockton, california, usa</td>\n",
       "      <td>18.0</td>\n",
       "    </tr>\n",
       "    <tr>\n",
       "      <th>2</th>\n",
       "      <td>3</td>\n",
       "      <td>moscow, yukon territory, russia</td>\n",
       "      <td>NaN</td>\n",
       "    </tr>\n",
       "    <tr>\n",
       "      <th>3</th>\n",
       "      <td>4</td>\n",
       "      <td>porto, v.n.gaia, portugal</td>\n",
       "      <td>17.0</td>\n",
       "    </tr>\n",
       "    <tr>\n",
       "      <th>4</th>\n",
       "      <td>5</td>\n",
       "      <td>farnborough, hants, united kingdom</td>\n",
       "      <td>NaN</td>\n",
       "    </tr>\n",
       "  </tbody>\n",
       "</table>\n",
       "</div>"
      ],
      "text/plain": [
       "   User-ID                            Location   Age\n",
       "0        1                  nyc, new york, usa   NaN\n",
       "1        2           stockton, california, usa  18.0\n",
       "2        3     moscow, yukon territory, russia   NaN\n",
       "3        4           porto, v.n.gaia, portugal  17.0\n",
       "4        5  farnborough, hants, united kingdom   NaN"
      ]
     },
     "execution_count": 8,
     "metadata": {},
     "output_type": "execute_result"
    }
   ],
   "source": [
    "users_df.head(5)"
   ]
  },
  {
   "cell_type": "markdown",
   "metadata": {
    "id": "6catlITpYGFT"
   },
   "source": [
    "PRE-PROCESSING"
   ]
  },
  {
   "cell_type": "code",
   "execution_count": 9,
   "metadata": {
    "colab": {
     "base_uri": "https://localhost:8080/",
     "height": 206
    },
    "id": "zxF72ckFYGFT",
    "outputId": "0eaa48b5-3bc2-43e3-c6ea-dc75f63e6fd3"
   },
   "outputs": [
    {
     "data": {
      "text/html": [
       "<div>\n",
       "<style scoped>\n",
       "    .dataframe tbody tr th:only-of-type {\n",
       "        vertical-align: middle;\n",
       "    }\n",
       "\n",
       "    .dataframe tbody tr th {\n",
       "        vertical-align: top;\n",
       "    }\n",
       "\n",
       "    .dataframe thead th {\n",
       "        text-align: right;\n",
       "    }\n",
       "</style>\n",
       "<table border=\"1\" class=\"dataframe\">\n",
       "  <thead>\n",
       "    <tr style=\"text-align: right;\">\n",
       "      <th></th>\n",
       "      <th>User-ID</th>\n",
       "      <th>Location</th>\n",
       "      <th>Age</th>\n",
       "    </tr>\n",
       "  </thead>\n",
       "  <tbody>\n",
       "    <tr>\n",
       "      <th>0</th>\n",
       "      <td>1</td>\n",
       "      <td>nyc, new york, usa</td>\n",
       "      <td>NaN</td>\n",
       "    </tr>\n",
       "    <tr>\n",
       "      <th>1</th>\n",
       "      <td>2</td>\n",
       "      <td>stockton, california, usa</td>\n",
       "      <td>18.0</td>\n",
       "    </tr>\n",
       "    <tr>\n",
       "      <th>2</th>\n",
       "      <td>3</td>\n",
       "      <td>moscow, yukon territory, russia</td>\n",
       "      <td>NaN</td>\n",
       "    </tr>\n",
       "    <tr>\n",
       "      <th>3</th>\n",
       "      <td>4</td>\n",
       "      <td>porto, v.n.gaia, portugal</td>\n",
       "      <td>17.0</td>\n",
       "    </tr>\n",
       "    <tr>\n",
       "      <th>4</th>\n",
       "      <td>5</td>\n",
       "      <td>farnborough, hants, united kingdom</td>\n",
       "      <td>NaN</td>\n",
       "    </tr>\n",
       "  </tbody>\n",
       "</table>\n",
       "</div>"
      ],
      "text/plain": [
       "   User-ID                            Location   Age\n",
       "0        1                  nyc, new york, usa   NaN\n",
       "1        2           stockton, california, usa  18.0\n",
       "2        3     moscow, yukon territory, russia   NaN\n",
       "3        4           porto, v.n.gaia, portugal  17.0\n",
       "4        5  farnborough, hants, united kingdom   NaN"
      ]
     },
     "execution_count": 9,
     "metadata": {},
     "output_type": "execute_result"
    }
   ],
   "source": [
    "users_df.head(5)"
   ]
  },
  {
   "cell_type": "markdown",
   "metadata": {
    "id": "rDb6n8eiYGFT"
   },
   "source": [
    "#### From the above result, we can see that location consists of city, state, country\n",
    "#### So, we will filter out the attribute having data less than 3 values"
   ]
  },
  {
   "cell_type": "code",
   "execution_count": 10,
   "metadata": {
    "id": "XSCYvujIYGFT"
   },
   "outputs": [],
   "source": [
    "# Getting the indices of location which is not equal to 3\n",
    "drop_indeces = users_df[users_df['Location'].str.split(\",\").str.len() != 3].index"
   ]
  },
  {
   "cell_type": "code",
   "execution_count": 11,
   "metadata": {
    "id": "buySbiKlYGFT"
   },
   "outputs": [],
   "source": [
    "## Dropping the above indices\n",
    "users_df = users_df.drop(index = drop_indeces)\n"
   ]
  },
  {
   "cell_type": "code",
   "execution_count": 12,
   "metadata": {
    "colab": {
     "base_uri": "https://localhost:8080/"
    },
    "id": "kRfWs5jTYGFT",
    "outputId": "67938a07-799f-4330-fd67-ab1ef52c1e91"
   },
   "outputs": [
    {
     "data": {
      "text/plain": [
       "Location\n",
       "True    277348\n",
       "Name: count, dtype: int64"
      ]
     },
     "execution_count": 12,
     "metadata": {},
     "output_type": "execute_result"
    }
   ],
   "source": [
    "## Computing the count whose location has all 3 values\n",
    "(users_df['Location'].str.split(\",\").str.len()==3).value_counts()"
   ]
  },
  {
   "cell_type": "code",
   "execution_count": 13,
   "metadata": {
    "id": "o3AUfHR1YGFT"
   },
   "outputs": [],
   "source": [
    "users_df[['City','State','Country']] = users_df['Location'].str.strip().str.split(\",\",expand = True,n=2)"
   ]
  },
  {
   "cell_type": "code",
   "execution_count": 14,
   "metadata": {
    "id": "tpfpG3qkYGFU"
   },
   "outputs": [],
   "source": [
    "users_df['City'] = users_df['City'].str.strip()\n",
    "users_df['State'] = users_df['State'].str.strip()\n",
    "users_df['Country'] = users_df['Country'].str.strip()"
   ]
  },
  {
   "cell_type": "code",
   "execution_count": 15,
   "metadata": {
    "colab": {
     "base_uri": "https://localhost:8080/",
     "height": 206
    },
    "id": "zLUbItb-YGFU",
    "outputId": "fef63e8c-faf7-44f0-96ea-8fbd7c6d4470"
   },
   "outputs": [
    {
     "data": {
      "text/html": [
       "<div>\n",
       "<style scoped>\n",
       "    .dataframe tbody tr th:only-of-type {\n",
       "        vertical-align: middle;\n",
       "    }\n",
       "\n",
       "    .dataframe tbody tr th {\n",
       "        vertical-align: top;\n",
       "    }\n",
       "\n",
       "    .dataframe thead th {\n",
       "        text-align: right;\n",
       "    }\n",
       "</style>\n",
       "<table border=\"1\" class=\"dataframe\">\n",
       "  <thead>\n",
       "    <tr style=\"text-align: right;\">\n",
       "      <th></th>\n",
       "      <th>User-ID</th>\n",
       "      <th>Location</th>\n",
       "      <th>Age</th>\n",
       "      <th>City</th>\n",
       "      <th>State</th>\n",
       "      <th>Country</th>\n",
       "    </tr>\n",
       "  </thead>\n",
       "  <tbody>\n",
       "    <tr>\n",
       "      <th>0</th>\n",
       "      <td>1</td>\n",
       "      <td>nyc, new york, usa</td>\n",
       "      <td>NaN</td>\n",
       "      <td>nyc</td>\n",
       "      <td>new york</td>\n",
       "      <td>usa</td>\n",
       "    </tr>\n",
       "    <tr>\n",
       "      <th>1</th>\n",
       "      <td>2</td>\n",
       "      <td>stockton, california, usa</td>\n",
       "      <td>18.0</td>\n",
       "      <td>stockton</td>\n",
       "      <td>california</td>\n",
       "      <td>usa</td>\n",
       "    </tr>\n",
       "    <tr>\n",
       "      <th>2</th>\n",
       "      <td>3</td>\n",
       "      <td>moscow, yukon territory, russia</td>\n",
       "      <td>NaN</td>\n",
       "      <td>moscow</td>\n",
       "      <td>yukon territory</td>\n",
       "      <td>russia</td>\n",
       "    </tr>\n",
       "    <tr>\n",
       "      <th>3</th>\n",
       "      <td>4</td>\n",
       "      <td>porto, v.n.gaia, portugal</td>\n",
       "      <td>17.0</td>\n",
       "      <td>porto</td>\n",
       "      <td>v.n.gaia</td>\n",
       "      <td>portugal</td>\n",
       "    </tr>\n",
       "    <tr>\n",
       "      <th>4</th>\n",
       "      <td>5</td>\n",
       "      <td>farnborough, hants, united kingdom</td>\n",
       "      <td>NaN</td>\n",
       "      <td>farnborough</td>\n",
       "      <td>hants</td>\n",
       "      <td>united kingdom</td>\n",
       "    </tr>\n",
       "  </tbody>\n",
       "</table>\n",
       "</div>"
      ],
      "text/plain": [
       "   User-ID                            Location   Age         City  \\\n",
       "0        1                  nyc, new york, usa   NaN          nyc   \n",
       "1        2           stockton, california, usa  18.0     stockton   \n",
       "2        3     moscow, yukon territory, russia   NaN       moscow   \n",
       "3        4           porto, v.n.gaia, portugal  17.0        porto   \n",
       "4        5  farnborough, hants, united kingdom   NaN  farnborough   \n",
       "\n",
       "             State         Country  \n",
       "0         new york             usa  \n",
       "1       california             usa  \n",
       "2  yukon territory          russia  \n",
       "3         v.n.gaia        portugal  \n",
       "4            hants  united kingdom  "
      ]
     },
     "execution_count": 15,
     "metadata": {},
     "output_type": "execute_result"
    }
   ],
   "source": [
    "users_df.head()"
   ]
  },
  {
   "cell_type": "markdown",
   "metadata": {
    "id": "B4x5zLeGYGFU"
   },
   "source": [
    "#### Dropping column 'Location' as it is split into (City,State,Country) columns"
   ]
  },
  {
   "cell_type": "code",
   "execution_count": 16,
   "metadata": {
    "colab": {
     "base_uri": "https://localhost:8080/",
     "height": 424
    },
    "id": "5ppp5wKyYGFU",
    "outputId": "652af80d-2ef8-4e41-acae-4015a4e60bc9"
   },
   "outputs": [
    {
     "data": {
      "text/html": [
       "<div>\n",
       "<style scoped>\n",
       "    .dataframe tbody tr th:only-of-type {\n",
       "        vertical-align: middle;\n",
       "    }\n",
       "\n",
       "    .dataframe tbody tr th {\n",
       "        vertical-align: top;\n",
       "    }\n",
       "\n",
       "    .dataframe thead th {\n",
       "        text-align: right;\n",
       "    }\n",
       "</style>\n",
       "<table border=\"1\" class=\"dataframe\">\n",
       "  <thead>\n",
       "    <tr style=\"text-align: right;\">\n",
       "      <th></th>\n",
       "      <th>User-ID</th>\n",
       "      <th>Age</th>\n",
       "      <th>City</th>\n",
       "      <th>State</th>\n",
       "      <th>Country</th>\n",
       "    </tr>\n",
       "  </thead>\n",
       "  <tbody>\n",
       "    <tr>\n",
       "      <th>0</th>\n",
       "      <td>1</td>\n",
       "      <td>NaN</td>\n",
       "      <td>nyc</td>\n",
       "      <td>new york</td>\n",
       "      <td>usa</td>\n",
       "    </tr>\n",
       "    <tr>\n",
       "      <th>1</th>\n",
       "      <td>2</td>\n",
       "      <td>18.0</td>\n",
       "      <td>stockton</td>\n",
       "      <td>california</td>\n",
       "      <td>usa</td>\n",
       "    </tr>\n",
       "    <tr>\n",
       "      <th>2</th>\n",
       "      <td>3</td>\n",
       "      <td>NaN</td>\n",
       "      <td>moscow</td>\n",
       "      <td>yukon territory</td>\n",
       "      <td>russia</td>\n",
       "    </tr>\n",
       "    <tr>\n",
       "      <th>3</th>\n",
       "      <td>4</td>\n",
       "      <td>17.0</td>\n",
       "      <td>porto</td>\n",
       "      <td>v.n.gaia</td>\n",
       "      <td>portugal</td>\n",
       "    </tr>\n",
       "    <tr>\n",
       "      <th>4</th>\n",
       "      <td>5</td>\n",
       "      <td>NaN</td>\n",
       "      <td>farnborough</td>\n",
       "      <td>hants</td>\n",
       "      <td>united kingdom</td>\n",
       "    </tr>\n",
       "    <tr>\n",
       "      <th>...</th>\n",
       "      <td>...</td>\n",
       "      <td>...</td>\n",
       "      <td>...</td>\n",
       "      <td>...</td>\n",
       "      <td>...</td>\n",
       "    </tr>\n",
       "    <tr>\n",
       "      <th>278853</th>\n",
       "      <td>278854</td>\n",
       "      <td>NaN</td>\n",
       "      <td>portland</td>\n",
       "      <td>oregon</td>\n",
       "      <td>usa</td>\n",
       "    </tr>\n",
       "    <tr>\n",
       "      <th>278854</th>\n",
       "      <td>278855</td>\n",
       "      <td>50.0</td>\n",
       "      <td>tacoma</td>\n",
       "      <td>washington</td>\n",
       "      <td>united kingdom</td>\n",
       "    </tr>\n",
       "    <tr>\n",
       "      <th>278855</th>\n",
       "      <td>278856</td>\n",
       "      <td>NaN</td>\n",
       "      <td>brampton</td>\n",
       "      <td>ontario</td>\n",
       "      <td>canada</td>\n",
       "    </tr>\n",
       "    <tr>\n",
       "      <th>278856</th>\n",
       "      <td>278857</td>\n",
       "      <td>NaN</td>\n",
       "      <td>knoxville</td>\n",
       "      <td>tennessee</td>\n",
       "      <td>usa</td>\n",
       "    </tr>\n",
       "    <tr>\n",
       "      <th>278857</th>\n",
       "      <td>278858</td>\n",
       "      <td>NaN</td>\n",
       "      <td>dublin</td>\n",
       "      <td>n/a</td>\n",
       "      <td>ireland</td>\n",
       "    </tr>\n",
       "  </tbody>\n",
       "</table>\n",
       "<p>277348 rows × 5 columns</p>\n",
       "</div>"
      ],
      "text/plain": [
       "        User-ID   Age         City            State         Country\n",
       "0             1   NaN          nyc         new york             usa\n",
       "1             2  18.0     stockton       california             usa\n",
       "2             3   NaN       moscow  yukon territory          russia\n",
       "3             4  17.0        porto         v.n.gaia        portugal\n",
       "4             5   NaN  farnborough            hants  united kingdom\n",
       "...         ...   ...          ...              ...             ...\n",
       "278853   278854   NaN     portland           oregon             usa\n",
       "278854   278855  50.0       tacoma       washington  united kingdom\n",
       "278855   278856   NaN     brampton          ontario          canada\n",
       "278856   278857   NaN    knoxville        tennessee             usa\n",
       "278857   278858   NaN       dublin              n/a         ireland\n",
       "\n",
       "[277348 rows x 5 columns]"
      ]
     },
     "execution_count": 16,
     "metadata": {},
     "output_type": "execute_result"
    }
   ],
   "source": [
    "users_df = users_df.drop('Location',axis = 1)\n",
    "users_df"
   ]
  },
  {
   "cell_type": "code",
   "execution_count": 17,
   "metadata": {
    "colab": {
     "base_uri": "https://localhost:8080/"
    },
    "id": "2JhR4Kq-YGFU",
    "outputId": "13140f98-59a4-4d70-d0d8-6efe4b7f333b"
   },
   "outputs": [
    {
     "data": {
      "text/plain": [
       "array([ nan,  18.,  17.,  61.,  26.,  14.,  25.,  19.,  46.,  55.,  32.,\n",
       "        24.,  20.,  34.,  23.,  51.,  31.,  21.,  44.,  30.,  57.,  43.,\n",
       "        37.,  41.,  54.,  42.,  50.,  39.,  53.,  47.,  36.,  28.,  35.,\n",
       "        13.,  58.,  49.,  38.,  45.,  62.,  63.,  27.,  33.,  29.,  66.,\n",
       "        40.,  15.,  60.,   0.,  79.,  22.,  16.,  65.,  59.,  48.,  72.,\n",
       "        56.,  67.,   1.,  80.,  52.,  69.,  71.,  73.,  78.,   9.,  64.,\n",
       "       103., 104.,  12.,  74.,  75., 231.,   3.,  76.,  83.,  68., 119.,\n",
       "        11.,   2.,  70.,  77.,  93.,   8.,   7.,   4.,  81., 114., 230.,\n",
       "       239.,  10.,   5., 148., 151.,   6., 101., 201.,  96.,  84.,  82.,\n",
       "        90., 123., 244., 133.,  91., 128.,  94.,  85., 141., 110.,  97.,\n",
       "       219.,  86., 124.,  92., 175., 172., 209., 212., 237.,  87., 162.,\n",
       "       100., 156., 136.,  95.,  89., 106.,  99., 108., 210.,  88., 199.,\n",
       "       147., 168., 132., 159., 186., 152., 102., 116., 200., 115., 226.,\n",
       "       137., 207., 229., 138., 109., 105., 228., 183., 204.,  98., 223.,\n",
       "       113., 208., 157., 111., 146., 118., 220., 143., 140., 189., 127.])"
      ]
     },
     "execution_count": 17,
     "metadata": {},
     "output_type": "execute_result"
    }
   ],
   "source": [
    "users_df['Age'].unique()"
   ]
  },
  {
   "cell_type": "markdown",
   "metadata": {
    "id": "I9fZMg6HYGFU"
   },
   "source": [
    "## Also we are considering age group between 10 to 90 to get more appropriate data"
   ]
  },
  {
   "cell_type": "code",
   "execution_count": 18,
   "metadata": {
    "colab": {
     "base_uri": "https://localhost:8080/"
    },
    "id": "ev5Neu9GYGFU",
    "outputId": "e9909e27-fbbd-4194-bf8c-1abc7bd5223d"
   },
   "outputs": [
    {
     "data": {
      "text/plain": [
       "array([  0.,   1.,   9., 103., 104., 231.,   3., 119.,   2.,  93.,   8.,\n",
       "         7.,   4., 114., 230., 239.,   5., 148., 151.,   6., 101., 201.,\n",
       "        96., 123., 244., 133.,  91., 128.,  94., 141., 110.,  97., 219.,\n",
       "       124.,  92., 175., 172., 209., 212., 237., 162., 100., 156., 136.,\n",
       "        95., 106.,  99., 108., 210., 199., 147., 168., 132., 159., 186.,\n",
       "       152., 102., 116., 200., 115., 226., 137., 207., 229., 138., 109.,\n",
       "       105., 228., 183., 204.,  98., 223., 113., 208., 157., 111., 146.,\n",
       "       118., 220., 143., 140., 189., 127.])"
      ]
     },
     "execution_count": 18,
     "metadata": {},
     "output_type": "execute_result"
    }
   ],
   "source": [
    "users_df[~users_df['Age'].between(10,90) & ~users_df['Age'].isnull()]['Age'].unique()"
   ]
  },
  {
   "cell_type": "code",
   "execution_count": 19,
   "metadata": {
    "colab": {
     "base_uri": "https://localhost:8080/",
     "height": 489
    },
    "id": "-F0ybA8mYGFU",
    "outputId": "a74c4020-7a21-4aa3-f208-527341409bc2"
   },
   "outputs": [
    {
     "data": {
      "text/plain": [
       "Text(0, 0.5, 'Frequency')"
      ]
     },
     "execution_count": 19,
     "metadata": {},
     "output_type": "execute_result"
    },
    {
     "data": {
      "image/png": "[encoded data removed]",
      "text/plain": [
       "<Figure size 640x480 with 1 Axes>"
      ]
     },
     "metadata": {},
     "output_type": "display_data"
    }
   ],
   "source": [
    "ages_graph_params = users_df.groupby('Age').size()\n",
    "plt.bar(ages_graph_params.index,ages_graph_params.values)\n",
    "plt.title('Distribution of Age')\n",
    "plt.xlabel('Age')\n",
    "plt.ylabel('Frequency')"
   ]
  },
  {
   "cell_type": "markdown",
   "metadata": {
    "id": "T2LIN1JdYGFU"
   },
   "source": [
    "#### Filtering the age group as mentioned"
   ]
  },
  {
   "cell_type": "code",
   "execution_count": 20,
   "metadata": {
    "colab": {
     "base_uri": "https://localhost:8080/"
    },
    "id": "MXnvF73MYGFU",
    "outputId": "0daae588-8f56-4640-8579-48e866e25c71"
   },
   "outputs": [
    {
     "data": {
      "text/plain": [
       "array([10., 11., 12., 13., 14., 15., 16., 17., 18., 19., 20., 21., 22.,\n",
       "       23., 24., 25., 26., 27., 28., 29., 30., 31., 32., 33., 34., 35.,\n",
       "       36., 37., 38., 39., 40., 41., 42., 43., 44., 45., 46., 47., 48.,\n",
       "       49., 50., 51., 52., 53., 54., 55., 56., 57., 58., 59., 60., 61.,\n",
       "       62., 63., 64., 65., 66., 67., 68., 69., 70., 71., 72., 73., 74.,\n",
       "       75., 76., 77., 78., 79., 80., 81., 82., 83., 84., 85., 86., 87.,\n",
       "       88., 89., 90., nan])"
      ]
     },
     "execution_count": 20,
     "metadata": {},
     "output_type": "execute_result"
    }
   ],
   "source": [
    "users_to_omit = ~users_df['Age'].between(10,90) & ~users_df['Age'].isnull()\n",
    "users_df.loc[users_to_omit] = np.nan\n",
    "users_df['Age'].sort_values().unique()"
   ]
  },
  {
   "cell_type": "code",
   "execution_count": 21,
   "metadata": {
    "colab": {
     "base_uri": "https://localhost:8080/",
     "height": 206
    },
    "id": "m_hLbQsNYGFV",
    "outputId": "f2c6173e-7fe9-4e22-9d9e-83636b2f266c"
   },
   "outputs": [
    {
     "data": {
      "text/html": [
       "<div>\n",
       "<style scoped>\n",
       "    .dataframe tbody tr th:only-of-type {\n",
       "        vertical-align: middle;\n",
       "    }\n",
       "\n",
       "    .dataframe tbody tr th {\n",
       "        vertical-align: top;\n",
       "    }\n",
       "\n",
       "    .dataframe thead th {\n",
       "        text-align: right;\n",
       "    }\n",
       "</style>\n",
       "<table border=\"1\" class=\"dataframe\">\n",
       "  <thead>\n",
       "    <tr style=\"text-align: right;\">\n",
       "      <th></th>\n",
       "      <th>User-ID</th>\n",
       "      <th>Age</th>\n",
       "      <th>City</th>\n",
       "      <th>State</th>\n",
       "      <th>Country</th>\n",
       "    </tr>\n",
       "  </thead>\n",
       "  <tbody>\n",
       "    <tr>\n",
       "      <th>0</th>\n",
       "      <td>1.0</td>\n",
       "      <td>NaN</td>\n",
       "      <td>nyc</td>\n",
       "      <td>new york</td>\n",
       "      <td>usa</td>\n",
       "    </tr>\n",
       "    <tr>\n",
       "      <th>1</th>\n",
       "      <td>2.0</td>\n",
       "      <td>18.0</td>\n",
       "      <td>stockton</td>\n",
       "      <td>california</td>\n",
       "      <td>usa</td>\n",
       "    </tr>\n",
       "    <tr>\n",
       "      <th>2</th>\n",
       "      <td>3.0</td>\n",
       "      <td>NaN</td>\n",
       "      <td>moscow</td>\n",
       "      <td>yukon territory</td>\n",
       "      <td>russia</td>\n",
       "    </tr>\n",
       "    <tr>\n",
       "      <th>3</th>\n",
       "      <td>4.0</td>\n",
       "      <td>17.0</td>\n",
       "      <td>porto</td>\n",
       "      <td>v.n.gaia</td>\n",
       "      <td>portugal</td>\n",
       "    </tr>\n",
       "    <tr>\n",
       "      <th>4</th>\n",
       "      <td>5.0</td>\n",
       "      <td>NaN</td>\n",
       "      <td>farnborough</td>\n",
       "      <td>hants</td>\n",
       "      <td>united kingdom</td>\n",
       "    </tr>\n",
       "  </tbody>\n",
       "</table>\n",
       "</div>"
      ],
      "text/plain": [
       "   User-ID   Age         City            State         Country\n",
       "0      1.0   NaN          nyc         new york             usa\n",
       "1      2.0  18.0     stockton       california             usa\n",
       "2      3.0   NaN       moscow  yukon territory          russia\n",
       "3      4.0  17.0        porto         v.n.gaia        portugal\n",
       "4      5.0   NaN  farnborough            hants  united kingdom"
      ]
     },
     "execution_count": 21,
     "metadata": {},
     "output_type": "execute_result"
    }
   ],
   "source": [
    "users_df.head()"
   ]
  },
  {
   "cell_type": "code",
   "execution_count": 22,
   "metadata": {
    "colab": {
     "base_uri": "https://localhost:8080/"
    },
    "id": "uYT2vEvuYGFV",
    "outputId": "53f2d1d7-566b-4960-f372-6bd0c0445a34"
   },
   "outputs": [
    {
     "data": {
      "text/plain": [
       "34.729518290474466"
      ]
     },
     "execution_count": 22,
     "metadata": {},
     "output_type": "execute_result"
    }
   ],
   "source": [
    "users_df['Age'].mean()"
   ]
  },
  {
   "cell_type": "markdown",
   "metadata": {
    "id": "YDlDhWocYGFV"
   },
   "source": [
    "#### Imputing age column with the mean age value of 34"
   ]
  },
  {
   "cell_type": "code",
   "execution_count": 23,
   "metadata": {
    "id": "Njcau95XYGFV"
   },
   "outputs": [],
   "source": [
    "null_age = users_df['Age'].isnull()\n",
    "users_df.loc[null_age,'Age'] = users_df['Age'].mean()"
   ]
  },
  {
   "cell_type": "code",
   "execution_count": 24,
   "metadata": {
    "colab": {
     "base_uri": "https://localhost:8080/",
     "height": 447
    },
    "id": "yHJV-O_kYGFV",
    "outputId": "034ee4ce-fd97-4838-b568-c03e605904c4"
   },
   "outputs": [
    {
     "data": {
      "text/plain": [
       "<BarContainer object of 82 artists>"
      ]
     },
     "execution_count": 24,
     "metadata": {},
     "output_type": "execute_result"
    },
    {
     "data": {
      "image/png": "[encoded data removed]",
      "text/plain": [
       "<Figure size 640x480 with 1 Axes>"
      ]
     },
     "metadata": {},
     "output_type": "display_data"
    }
   ],
   "source": [
    "ages_graph_params = users_df.groupby('Age').size()\n",
    "plt.bar(ages_graph_params.index,ages_graph_params.values)\n"
   ]
  },
  {
   "cell_type": "code",
   "execution_count": 25,
   "metadata": {
    "colab": {
     "base_uri": "https://localhost:8080/",
     "height": 206
    },
    "id": "frOLGByqYGFV",
    "outputId": "77c91a64-93d4-45c5-bae2-aa29f66f39bb"
   },
   "outputs": [
    {
     "data": {
      "text/html": [
       "<div>\n",
       "<style scoped>\n",
       "    .dataframe tbody tr th:only-of-type {\n",
       "        vertical-align: middle;\n",
       "    }\n",
       "\n",
       "    .dataframe tbody tr th {\n",
       "        vertical-align: top;\n",
       "    }\n",
       "\n",
       "    .dataframe thead th {\n",
       "        text-align: right;\n",
       "    }\n",
       "</style>\n",
       "<table border=\"1\" class=\"dataframe\">\n",
       "  <thead>\n",
       "    <tr style=\"text-align: right;\">\n",
       "      <th></th>\n",
       "      <th>User-ID</th>\n",
       "      <th>Age</th>\n",
       "      <th>City</th>\n",
       "      <th>State</th>\n",
       "      <th>Country</th>\n",
       "    </tr>\n",
       "  </thead>\n",
       "  <tbody>\n",
       "    <tr>\n",
       "      <th>0</th>\n",
       "      <td>1.0</td>\n",
       "      <td>34.729518</td>\n",
       "      <td>nyc</td>\n",
       "      <td>new york</td>\n",
       "      <td>usa</td>\n",
       "    </tr>\n",
       "    <tr>\n",
       "      <th>1</th>\n",
       "      <td>2.0</td>\n",
       "      <td>18.000000</td>\n",
       "      <td>stockton</td>\n",
       "      <td>california</td>\n",
       "      <td>usa</td>\n",
       "    </tr>\n",
       "    <tr>\n",
       "      <th>2</th>\n",
       "      <td>3.0</td>\n",
       "      <td>34.729518</td>\n",
       "      <td>moscow</td>\n",
       "      <td>yukon territory</td>\n",
       "      <td>russia</td>\n",
       "    </tr>\n",
       "    <tr>\n",
       "      <th>3</th>\n",
       "      <td>4.0</td>\n",
       "      <td>17.000000</td>\n",
       "      <td>porto</td>\n",
       "      <td>v.n.gaia</td>\n",
       "      <td>portugal</td>\n",
       "    </tr>\n",
       "    <tr>\n",
       "      <th>4</th>\n",
       "      <td>5.0</td>\n",
       "      <td>34.729518</td>\n",
       "      <td>farnborough</td>\n",
       "      <td>hants</td>\n",
       "      <td>united kingdom</td>\n",
       "    </tr>\n",
       "  </tbody>\n",
       "</table>\n",
       "</div>"
      ],
      "text/plain": [
       "   User-ID        Age         City            State         Country\n",
       "0      1.0  34.729518          nyc         new york             usa\n",
       "1      2.0  18.000000     stockton       california             usa\n",
       "2      3.0  34.729518       moscow  yukon territory          russia\n",
       "3      4.0  17.000000        porto         v.n.gaia        portugal\n",
       "4      5.0  34.729518  farnborough            hants  united kingdom"
      ]
     },
     "execution_count": 25,
     "metadata": {},
     "output_type": "execute_result"
    }
   ],
   "source": [
    "users_df.head()"
   ]
  },
  {
   "cell_type": "code",
   "execution_count": 26,
   "metadata": {
    "id": "SD67hk1-YGFV"
   },
   "outputs": [],
   "source": [
    "users_df['Age'] = users_df['Age'].astype('int')"
   ]
  },
  {
   "cell_type": "code",
   "execution_count": 27,
   "metadata": {
    "colab": {
     "base_uri": "https://localhost:8080/"
    },
    "id": "SGOaKDKhYGFW",
    "outputId": "203e03e0-0316-49d0-dd34-8b142df5734c"
   },
   "outputs": [
    {
     "data": {
      "text/plain": [
       "array([10, 11, 12, 13, 14, 15, 16, 17, 18, 19, 20, 21, 22, 23, 24, 25, 26,\n",
       "       27, 28, 29, 30, 31, 32, 33, 34, 35, 36, 37, 38, 39, 40, 41, 42, 43,\n",
       "       44, 45, 46, 47, 48, 49, 50, 51, 52, 53, 54, 55, 56, 57, 58, 59, 60,\n",
       "       61, 62, 63, 64, 65, 66, 67, 68, 69, 70, 71, 72, 73, 74, 75, 76, 77,\n",
       "       78, 79, 80, 81, 82, 83, 84, 85, 86, 87, 88, 89, 90])"
      ]
     },
     "execution_count": 27,
     "metadata": {},
     "output_type": "execute_result"
    }
   ],
   "source": [
    "users_df['Age'].sort_values().unique()"
   ]
  },
  {
   "cell_type": "markdown",
   "metadata": {
    "id": "bIq34WHjYGFW"
   },
   "source": [
    "#### Column country has garbage and reduntant values"
   ]
  },
  {
   "cell_type": "code",
   "execution_count": 28,
   "metadata": {
    "colab": {
     "base_uri": "https://localhost:8080/"
    },
    "id": "YRXM_nXtYGFW",
    "outputId": "062f87a5-46f7-4884-cb88-08bda1899f6c"
   },
   "outputs": [
    {
     "data": {
      "text/plain": [
       "array(['', '\"', '&#20013;&#22269;', '&#32654;&#22269;', '*', '-',\n",
       "       '-------', '.', '01776', '02458', '19104', '23232', '30064',\n",
       "       '5057chadwick ct.', '85021', '87510', '?ú?{', '\\\\\"n/a\\\\\"\"',\n",
       "       '\\\\n/a\\\\\"\"', '_ brasil', 'a', 'aaa', 'adsgfdr',\n",
       "       'afganstand holla !!', 'afghanistan', 'ahrensburg', 'alachua',\n",
       "       'albania', 'alderney', 'algeria', 'algérie', 'allen', 'ama lurra',\n",
       "       'america', 'american samoa', 'andorra', 'andorra\"', 'angola',\n",
       "       'antarctica', 'antigua & barbuda', 'antigua and barbuda',\n",
       "       'aotearoa', 'argentina', 'argentina\"', 'armenia', 'aroostook',\n",
       "       'aruba', 'asturies', 'auckland', 'australia', 'australia\"',\n",
       "       'australii', 'austria', 'austria\"', 'autralia', 'az', 'azerbaijan',\n",
       "       'bademn würtemberg', 'baden-württemberg', 'bahamas', 'bahrain',\n",
       "       'baltimore', 'bangladesh', 'bangladesh\"', 'barbados', 'basilicata',\n",
       "       'basque country', 'bavaria', 'baxter', 'bbbzzzzz', 'belarus',\n",
       "       'belgi', 'belgique', 'belgium', 'belgium\"', 'belize', 'bell',\n",
       "       'benin', 'berguedà', 'bermuda', 'bernalillo', 'bfe', 'bhutan',\n",
       "       'bih', 'bkk', 'bladen', 'bolivia', 'bosnia',\n",
       "       'bosnia and herzegovina', 'botswana', 'brasil', 'brazil',\n",
       "       'brazil\"', 'british virgin islands', 'brunei', 'brunei darussalam',\n",
       "       'bucks', 'bulgaria', 'buncombe', 'burkina faso', 'burkinafasu',\n",
       "       'burlington', 'burma', 'burma\"', 'butler', 'c', 'cadd0',\n",
       "       'calabria', 'california', 'cambodia', 'camden', 'cameroon', 'can',\n",
       "       'canada', 'canada eh', 'cananda', 'canda', 'cape may', 'cape town',\n",
       "       'cape verde', 'cape verde\"', 'caribbean sea', 'carter', 'cass',\n",
       "       'catalonia', 'catalunya', 'catalunya spain',\n",
       "       'catalunya(catalonia)', 'cayman islands', 'chad', 'cherokee',\n",
       "       'chian', 'chile', 'chile\"', 'china', 'china people`s republic',\n",
       "       'china öð¹ú', 'china\"', 'chinaöð¹ú', 'citrus.', 'clackamas',\n",
       "       'clinton', 'cn', 'cnina', 'collin', 'colombia', 'colombia\"',\n",
       "       'commonwealth of northern mariana islands', 'comoros', 'congo',\n",
       "       'cook', 'copenhagen', 'costa rica', 'costa rica\"', 'cote d`ivoire',\n",
       "       'cote d`ivoire\"', 'country', 'courtenay', 'croatia', 'croatia\"',\n",
       "       'csa', 'cuba', 'cyprus', 'czech republic', 'czech republic\"',\n",
       "       'côte d', 'dauphin', 'davidson', 'de', 'dekalb', 'denmark',\n",
       "       'denmark\"', 'der', 'deutsches reich', 'deutschland',\n",
       "       'deutschland\"', 'dfg', 'distrito federal', 'diy', 'djibouti',\n",
       "       'dominica', 'dominican republic', 'doodedoo', 'dublin',\n",
       "       'east africa', 'ecuador', 'ee.uu', 'effingham', 'egypt', 'egypt\"',\n",
       "       'el salvador', 'england', 'england uk', 'english',\n",
       "       'equatorial geuinea', 'eritrea', 'espaã?â±a', 'espaã±a', 'españa',\n",
       "       'españa\"', 'essex', 'estonia', 'ethiopia', 'europa', 'europe',\n",
       "       'euskadi', 'euskal herria', 'everywhere and anywhere',\n",
       "       'evil empire', 'exactly where i am', 'fairyland', 'far away...',\n",
       "       'faroe islands', 'fernando de la mora', 'ferrara', 'fifi', 'fiji',\n",
       "       'finland', 'finland\"', 'fontana', 'fort bend', 'fortaleza',\n",
       "       'framingham', 'france', 'france\"', 'fred',\n",
       "       'fredonia - land of the brave and free', 'frome', 'fulton',\n",
       "       'gabon', 'galiza', 'galiza neghra', 'gb', 'geermany', 'georgia',\n",
       "       'germany', 'germany\"', 'germay', 'ghana', 'ghana\"',\n",
       "       'good old u.s.a.', 'good old usa !', 'goteborg', 'granville',\n",
       "       'greece', 'greece (=hellas)', 'greece\"', 'grenada', 'guam',\n",
       "       'guatemala', 'guatemala\"', 'guernsey', 'guinea', 'guinea-bissau',\n",
       "       'guyana', 'h.u.g.', 'haiti', 'hamilton', 'hampden', 'harvatija',\n",
       "       'hennipen', 'henry', 'here and there', 'hernando', 'hidalgo',\n",
       "       'hillsborough', 'holland', 'holy see', 'honduras', 'hong kong',\n",
       "       'hong kong\"', 'hongkong', 'hornyonic', 'houston', 'hungary',\n",
       "       'hungary and usa', 'hungary\"', 'iceland', 'iceland\"', 'id',\n",
       "       'il canada', 'in', 'in your heart', 'india', 'india\"', 'indiai',\n",
       "       'indonesia', 'indonesia\"', 'input error', 'iran', 'iran\"', 'iraq',\n",
       "       'ireland', 'ireland\"', 'isle of man', 'israel', 'israel\"',\n",
       "       'isreal', 'italia', 'italien', 'italy', 'italy\"', 'itlay',\n",
       "       'jackson', 'jamaica', 'jamaica\"', 'japan', 'jersey', 'johnson',\n",
       "       'jordan', 'k1c7b1', 'kazakhstan', 'kenya', 'kern', 'kiribati',\n",
       "       'korea', 'kosovo', 'ksa', 'kuwait', 'kyrgyzstan', 'kz', 'l',\n",
       "       'l`algérie', 'l`italia', 'la argentina', 'la belgique',\n",
       "       'la chine eternelle!', 'la chine éternelle !',\n",
       "       'la chine éternelle!', 'la france', 'la suisse', 'la svizzera',\n",
       "       'lake', 'lane', 'laos', 'latvia', 'lazio', 'le canada',\n",
       "       'le madagascar', 'lebanon', 'lecce', 'lee', 'lesotho', 'liaoning',\n",
       "       'liberia', 'libya', 'libya\"', 'lithuania', 'lithuania\"', 'liushi',\n",
       "       'livingston', 'lj', 'lkjlj', 'lleida', 'lombardia', 'london',\n",
       "       'los estados unidos de norte america', 'luxembourg', 'luxembourg\"',\n",
       "       'macau', 'macedonia', 'macedonia\"', 'madagascar', 'madrid',\n",
       "       'maine', 'malawi', 'malaysia', 'malaysia\"', 'malaysian',\n",
       "       'maldives', 'mali', 'malta', 'maracopa', 'maricopa', 'maroc',\n",
       "       'marrion', 'marshall islands', 'mauritania', 'mauritius',\n",
       "       'mauritius\"', 'mexico', 'mexico\"', 'micronesia', 'milano',\n",
       "       'minnehaha', 'moldova', 'monaco', 'mongolia', 'monroe',\n",
       "       'monterrey', 'mordor', 'morgan', 'morocco', 'morocco\"',\n",
       "       'mozambique', 'mozambique\"', 'moçambique', 'my', 'myanmar',\n",
       "       'mã?â©xico', 'mérida', 'méxico', 'n/a', 'n/a - on the road',\n",
       "       'namibia', 'nederlands', 'nepal', 'netherlands',\n",
       "       'netherlands antilles', 'netherlands\"', 'neverland', 'new london',\n",
       "       'new zealand', 'new zealand\"', 'newzealand', 'nh', 'nicaragua',\n",
       "       'niger', 'nigeria', 'nigeria\"', 'nl', 'no more', 'none',\n",
       "       'north carolina', 'north korea', 'northern ireland', 'norway',\n",
       "       'norway\"', 'nowhere', 'nrw', 'nyc', 'nyhamnsläge', 'ohio', 'oman',\n",
       "       'onondaga nation', 'orange co', 'orense', 'osceola', 'ouranos',\n",
       "       'p r china', 'p.r. china', 'p.r.c', 'p.r.china', 'pa', 'pakistan',\n",
       "       'pakistan\"', 'pakistan.', 'palau', 'palm beach', 'panama',\n",
       "       'papua new guinea', 'paraguay', 'pasco', 'pender',\n",
       "       'people`s republic of china', 'peru', 'peru\"', 'perãº',\n",
       "       'petrolwar nation', 'phila', 'philippine', 'philippines',\n",
       "       'philippines\"', 'philippinies', 'phillipines', 'phils',\n",
       "       'phippines', 'pinallas', 'pippo', 'pistlavakia', 'poland',\n",
       "       'poland\"', 'polk', 'polska', 'portugal', 'portugal\"', 'pr', 'prc',\n",
       "       'prince william', 'pueblo', 'puerto rico', 'qatar', 'queensland',\n",
       "       'queenspark', 'quit', 'r.o.c.', 'rapides', 'rep san marino',\n",
       "       'rep. san marino', 'republic of korea', 'republic of panama',\n",
       "       'rice', 'richmond country', 'rmi', 'roma', 'romania', 'romania\"',\n",
       "       'rosario', 'rsa', 'russia', 'russian federation', 'rutherford',\n",
       "       'rwanda', 's.africa', 's.corea', 'saint kitts and nevis',\n",
       "       'saint loius', 'saint lucia', 'saint luica',\n",
       "       'saint vincent and the grenadines',\n",
       "       'saint vincent and the grenadines\"', 'samoa', 'san bernardino',\n",
       "       'san franicsco', 'san marino', 'san mateo', 'santa barbara',\n",
       "       'sao tome and principe', 'sao tome and principe\"', 'sardegna',\n",
       "       'sardinia', 'saudi arabia', 'saudia arabia', 'scotland',\n",
       "       'scotland\"', 'senegal', 'serbia', 'serbia & montenegro',\n",
       "       'serbia and montenegro', 'shelby', 'sicilia', 'sierra leone',\n",
       "       'singapore', 'singapore\"', 'singapore/united kingdom', 'slo',\n",
       "       'slovak republik', 'slovakia', 'slovakia\"', 'slovenia',\n",
       "       'slovenia\"', 'smith', 'solano', 'solomon islands', 'somalia',\n",
       "       'somewherein space', 'south africa', 'south korea', 'south korea\"',\n",
       "       'space', 'spain', 'spain\"', 'spotsylvania', 'sri lanka',\n",
       "       'sri lanka\"', 'sri lanka\\\\\"n/a\\\\\"\"', 'srilanka', 'st. clair',\n",
       "       'st. helena', 'st. vincent and the grenadines', 'st.thomasi',\n",
       "       'strongbadia', 'sudan', 'sudan\"', 'suisse', 'sultanate of oman',\n",
       "       'suriname', 'swaziland', 'swazilandia', 'sweden', 'sweden\"',\n",
       "       'switzerland', 'switzerland\"', 'syria', 'taiwan', 'tajikistan',\n",
       "       'tanzania', 'tanzania\"', 'tdzimi', 'texas', 'thailand',\n",
       "       'thailand\"', 'thailoand', 'the gambia', 'the great white north',\n",
       "       'the netherlands', 'the philippines', 'thing', 'togo', 'tonga',\n",
       "       'toscana', 'travelling', 'trinidad', 'trinidad & tobago',\n",
       "       'trinidad and tobago', 'trinidad and tobago\"', 'trinidad/tobago.',\n",
       "       'tunisia', 'turkei', 'turkey', 'turkey\"', 'turkmenistan',\n",
       "       'tyrtyrt', 'türkiye', 'u', 'u k', 'u.', 'u.a.e', 'u.a.e\"', 'u.k.',\n",
       "       'u.s. of a.', 'u.s. virgin islands', 'u.s.a!', 'u.s.a.', 'u.s.a>',\n",
       "       'u.s>', 'ua', 'uae', 'uganda', 'uganda\"', 'uk', 'ukrain',\n",
       "       'ukraine', 'unit', 'united arab emirates', 'united kindgdom',\n",
       "       'united kindgonm', 'united kingdom', 'united kingdom\"',\n",
       "       'united kingdom.', 'united sates', 'united staes', 'united state',\n",
       "       'united statea', 'united stated', 'united stated of america',\n",
       "       'united states', 'united states of america', 'universe', 'unknown',\n",
       "       'urugua', 'uruguay', 'us', 'usa', 'usa & canada',\n",
       "       'usa (currently living in england)', 'usa\"', 'ussurfing', 'ust',\n",
       "       'uusa', 'uyo', 'uzbekistan', 'valtesse', 'van wert', 'vanuatu',\n",
       "       'vatican city', 'venezuela', 'venezuela\"', 'ventura',\n",
       "       'ventura county', 'vicenza', 'victoria', 'vietnam', 'vietnam\"',\n",
       "       'vorce', 'w. malaysia', 'wales', 'washtenaw', 'we`re global!',\n",
       "       'west yorkshire', 'whatcom', 'windham', 'wonderful usa', 'wood',\n",
       "       'worcester', 'x', 'xinyu', 'xxxxxx', 'yakima', 'yanhill', 'yemen',\n",
       "       'ysa', 'yugoslavia', 'yunling', 'z', 'zambia', 'zhengjiang',\n",
       "       'zimbabwe', 'ä¸\\xadå?½', 'öð¹ú', nan], dtype=object)"
      ]
     },
     "execution_count": 28,
     "metadata": {},
     "output_type": "execute_result"
    }
   ],
   "source": [
    "users_df['Country'].sort_values().unique()"
   ]
  },
  {
   "cell_type": "markdown",
   "metadata": {
    "id": "YVuhw9axYGFW"
   },
   "source": [
    "#### We are using list of countries from this link for filtering out users."
   ]
  },
  {
   "cell_type": "code",
   "execution_count": 29,
   "metadata": {
    "id": "aX1eX4RYYGFW"
   },
   "outputs": [],
   "source": [
    "countries = (\n",
    "    ('AF', 'AFGHANISTAN'),\n",
    "    ('AL', 'ALBANIA'),\n",
    "    ('DZ', 'ALGERIA'),\n",
    "    ('AS', 'AMERICAN SAMOA'),\n",
    "    ('AD', 'ANDORRA'),\n",
    "    ('AO', 'ANGOLA'),\n",
    "    ('AI', 'ANGUILLA'),\n",
    "    ('AQ', 'ANTARCTICA'),\n",
    "    ('AG', 'ANTIGUA AND BARBUDA'),\n",
    "    ('AR', 'ARGENTINA'),\n",
    "    ('AM', 'ARMENIA'),\n",
    "    ('AW', 'ARUBA'),\n",
    "    ('AU', 'AUSTRALIA'),\n",
    "    ('AT', 'AUSTRIA'),\n",
    "    ('AZ', 'AZERBAIJAN'),\n",
    "    ('BS', 'BAHAMAS'),\n",
    "    ('BH', 'BAHRAIN'),\n",
    "    ('BD', 'BANGLADESH'),\n",
    "    ('BB', 'BARBADOS'),\n",
    "    ('BY', 'BELARUS'),\n",
    "    ('BE', 'BELGIUM'),\n",
    "    ('BZ', 'BELIZE'),\n",
    "    ('BJ', 'BENIN'),\n",
    "    ('BM', 'BERMUDA'),\n",
    "    ('BT', 'BHUTAN'),\n",
    "    ('BO', 'BOLIVIA'),\n",
    "    ('BA', 'BOSNIA AND HERZEGOVINA'),\n",
    "    ('BW', 'BOTSWANA'),\n",
    "    ('BV', 'BOUVET ISLAND'),\n",
    "    ('BR', 'BRAZIL'),\n",
    "    ('IO', 'BRITISH INDIAN OCEAN TERRITORY'),\n",
    "    ('BN', 'BRUNEI DARUSSALAM'),\n",
    "    ('BG', 'BULGARIA'),\n",
    "    ('BF', 'BURKINA FASO'),\n",
    "    ('BI', 'BURUNDI'),\n",
    "    ('KH', 'CAMBODIA'),\n",
    "    ('CM', 'CAMEROON'),\n",
    "    ('CA', 'CANADA'),\n",
    "    ('CV', 'CAPE VERDE'),\n",
    "    ('KY', 'CAYMAN ISLANDS'),\n",
    "    ('CF', 'CENTRAL AFRICAN REPUBLIC'),\n",
    "    ('TD', 'CHAD'),\n",
    "    ('CL', 'CHILE'),\n",
    "    ('CN', 'CHINA'),\n",
    "    ('CX', 'CHRISTMAS ISLAND'),\n",
    "    ('CC', 'COCOS (KEELING) ISLANDS'),\n",
    "    ('CO', 'COLOMBIA'),\n",
    "    ('KM', 'COMOROS'),\n",
    "    ('CG', 'CONGO'),\n",
    "    ('CD', 'CONGO, THE DEMOCRATIC REPUBLIC OF'),\n",
    "    ('CK', 'COOK ISLANDS'),\n",
    "    ('CR', 'COSTA RICA'),\n",
    "    ('CI', \"CÃ”TE D'IVOIRE\"),\n",
    "    ('HR', 'CROATIA'),\n",
    "    ('CU', 'CUBA'),\n",
    "    ('CY', 'CYPRUS'),\n",
    "    ('CZ', 'CZECH REPUBLIC'),\n",
    "    ('DK', 'DENMARK'),\n",
    "    ('DJ', 'DJIBOUTI'),\n",
    "    ('DM', 'DOMINICA'),\n",
    "    ('DO', 'DOMINICAN REPUBLIC'),\n",
    "    ('EC', 'ECUADOR'),\n",
    "    ('EG', 'EGYPT'),\n",
    "    ('SV', 'EL SALVADOR'),\n",
    "    ('GQ', 'EQUATORIAL GUINEA'),\n",
    "    ('ER', 'ERITREA'),\n",
    "    ('EE', 'ESTONIA'),\n",
    "    ('ET', 'ETHIOPIA'),\n",
    "    ('FK', 'FALKLAND ISLANDS (MALVINAS)'),\n",
    "    ('FO', 'FAROE ISLANDS'),\n",
    "    ('FJ', 'FIJI'),\n",
    "    ('FI', 'FINLAND'),\n",
    "    ('FR', 'FRANCE'),\n",
    "    ('GF', 'FRENCH GUIANA'),\n",
    "    ('PF', 'FRENCH POLYNESIA'),\n",
    "    ('TF', 'FRENCH SOUTHERN TERRITORIES'),\n",
    "    ('GA', 'GABON'),\n",
    "    ('GM', 'GAMBIA'),\n",
    "    ('GE', 'GEORGIA'),\n",
    "    ('DE', 'GERMANY'),\n",
    "    ('GH', 'GHANA'),\n",
    "    ('GI', 'GIBRALTAR'),\n",
    "    ('GR', 'GREECE'),\n",
    "    ('GL', 'GREENLAND'),\n",
    "    ('GD', 'GRENADA'),\n",
    "    ('GP', 'GUADELOUPE'),\n",
    "    ('GU', 'GUAM'),\n",
    "    ('GT', 'GUATEMALA'),\n",
    "    ('GN', 'GUINEA'),\n",
    "    ('GW', 'GUINEA'),\n",
    "    ('GY', 'GUYANA'),\n",
    "    ('HT', 'HAITI'),\n",
    "    ('HM', 'HEARD ISLAND AND MCDONALD ISLANDS'),\n",
    "    ('HN', 'HONDURAS'),\n",
    "    ('HK', 'HONG KONG'),\n",
    "    ('HU', 'HUNGARY'),\n",
    "    ('IS', 'ICELAND'),\n",
    "    ('IN', 'INDIA'),\n",
    "    ('ID', 'INDONESIA'),\n",
    "    ('IR', 'IRAN, ISLAMIC REPUBLIC OF'),\n",
    "    ('IQ', 'IRAQ'),\n",
    "    ('IE', 'IRELAND'),\n",
    "    ('IL', 'ISRAEL'),\n",
    "    ('IT', 'ITALY'),\n",
    "    ('JM', 'JAMAICA'),\n",
    "    ('JP', 'JAPAN'),\n",
    "    ('JO', 'JORDAN'),\n",
    "    ('KZ', 'KAZAKHSTAN'),\n",
    "    ('KE', 'KENYA'),\n",
    "    ('KI', 'KIRIBATI'),\n",
    "    ('KP', \"KOREA, DEMOCRATIC PEOPLE'S REPUBLIC OF\"),\n",
    "    ('KR', 'KOREA, REPUBLIC OF'),\n",
    "    ('KW', 'KUWAIT'),\n",
    "    ('KG', 'KYRGYZSTAN'),\n",
    "    ('LA', \"LAO PEOPLE'S DEMOCRATIC REPUBLIC\"),\n",
    "    ('LV', 'LATVIA'),\n",
    "    ('LB', 'LEBANON'),\n",
    "    ('LS', 'LESOTHO'),\n",
    "    ('LR', 'LIBERIA'),\n",
    "    ('LY', 'LIBYAN ARAB JAMAHIRIYA'),\n",
    "    ('LI', 'LIECHTENSTEIN'),\n",
    "    ('LT', 'LITHUANIA'),\n",
    "    ('LU', 'LUXEMBOURG'),\n",
    "    ('MO', 'MACAO'),\n",
    "    ('MK', 'MACEDONIA, THE FORMER YUGOSLAV REPUBLIC OF'),\n",
    "    ('MG', 'MADAGASCAR'),\n",
    "    ('MW', 'MALAWI'),\n",
    "    ('MY', 'MALAYSIA'),\n",
    "    ('MV', 'MALDIVES'),\n",
    "    ('ML', 'MALI'),\n",
    "    ('MT', 'MALTA'),\n",
    "    ('MH', 'MARSHALL ISLANDS'),\n",
    "    ('MQ', 'MARTINIQUE'),\n",
    "    ('MR', 'MAURITANIA'),\n",
    "    ('MU', 'MAURITIUS'),\n",
    "    ('YT', 'MAYOTTE'),\n",
    "    ('MX', 'MEXICO'),\n",
    "    ('FM', 'MICRONESIA, FEDERATED STATES OF'),\n",
    "    ('MD', 'MOLDOVA, REPUBLIC OF'),\n",
    "    ('MC', 'MONACO'),\n",
    "    ('MN', 'MONGOLIA'),\n",
    "    ('MS', 'MONTSERRAT'),\n",
    "    ('MA', 'MOROCCO'),\n",
    "    ('MZ', 'MOZAMBIQUE'),\n",
    "    ('MM', 'MYANMAR'),\n",
    "    ('NA', 'NAMIBIA'),\n",
    "    ('NR', 'NAURU'),\n",
    "    ('NP', 'NEPAL'),\n",
    "    ('NL', 'NETHERLANDS'),\n",
    "    ('AN', 'NETHERLANDS ANTILLES'),\n",
    "    ('NC', 'NEW CALEDONIA'),\n",
    "    ('NZ', 'NEW ZEALAND'),\n",
    "    ('NI', 'NICARAGUA'),\n",
    "    ('NE', 'NIGER'),\n",
    "    ('NG', 'NIGERIA'),\n",
    "    ('NU', 'NIUE'),\n",
    "    ('NF', 'NORFOLK ISLAND'),\n",
    "    ('MP', 'NORTHERN MARIANA ISLANDS'),\n",
    "    ('NO', 'NORWAY'),\n",
    "    ('OM', 'OMAN'),\n",
    "    ('PK', 'PAKISTAN'),\n",
    "    ('PW', 'PALAU'),\n",
    "    ('PS', 'PALESTINIAN TERRITORY, OCCUPIED'),\n",
    "    ('PA', 'PANAMA'),\n",
    "    ('PG', 'PAPUA NEW GUINEA'),\n",
    "    ('PY', 'PARAGUAY'),\n",
    "    ('PE', 'PERU'),\n",
    "    ('PH', 'PHILIPPINES'),\n",
    "    ('PN', 'PITCAIRN'),\n",
    "    ('PL', 'POLAND'),\n",
    "    ('PT', 'PORTUGAL'),\n",
    "    ('PR', 'PUERTO RICO'),\n",
    "    ('QA', 'QATAR'),\n",
    "    ('RE', 'RÃ‰UNION'),\n",
    "    ('RO', 'ROMANIA'),\n",
    "    ('RU', 'RUSSIAN FEDERATION'),\n",
    "    ('RW', 'RWANDA'),\n",
    "    ('SH', 'SAINT HELENA'),\n",
    "    ('KN', 'SAINT KITTS AND NEVIS'),\n",
    "    ('LC', 'SAINT LUCIA'),\n",
    "    ('PM', 'SAINT PIERRE AND MIQUELON'),\n",
    "    ('VC', 'SAINT VINCENT AND THE GRENADINES'),\n",
    "    ('WS', 'SAMOA'),\n",
    "    ('SM', 'SAN MARINO'),\n",
    "    ('ST', 'SAO TOME AND PRINCIPE'),\n",
    "    ('SA', 'SAUDI ARABIA'),\n",
    "    ('SN', 'SENEGAL'),\n",
    "    ('CS', 'SERBIA AND MONTENEGRO'),\n",
    "    ('SC', 'SEYCHELLES'),\n",
    "    ('SL', 'SIERRA LEONE'),\n",
    "    ('SG', 'SINGAPORE'),\n",
    "    ('SK', 'SLOVAKIA'),\n",
    "    ('SI', 'SLOVENIA'),\n",
    "    ('SB', 'SOLOMON ISLANDS'),\n",
    "    ('SO', 'SOMALIA'),\n",
    "    ('ZA', 'SOUTH AFRICA'),\n",
    "    ('GS', 'SOUTH GEORGIA AND SOUTH SANDWICH ISLANDS'),\n",
    "    ('ES', 'SPAIN'),\n",
    "    ('LK', 'SRI LANKA'),\n",
    "    ('SD', 'SUDAN'),\n",
    "    ('SR', 'SURINAME'),\n",
    "    ('SJ', 'SVALBARD AND JAN MAYEN'),\n",
    "    ('SZ', 'SWAZILAND'),\n",
    "    ('SE', 'SWEDEN'),\n",
    "    ('CH', 'SWITZERLAND'),\n",
    "    ('SY', 'SYRIAN ARAB REPUBLIC'),\n",
    "    ('TW', 'TAIWAN, PROVINCE OF CHINA'),\n",
    "    ('TJ', 'TAJIKISTAN'),\n",
    "    ('TZ', 'TANZANIA, UNITED REPUBLIC OF'),\n",
    "    ('TH', 'THAILAND'),\n",
    "    ('TL', 'TIMOR'),\n",
    "    ('TG', 'TOGO'),\n",
    "    ('TK', 'TOKELAU'),\n",
    "    ('TO', 'TONGA'),\n",
    "    ('TT', 'TRINIDAD AND TOBAGO'),\n",
    "    ('TN', 'TUNISIA'),\n",
    "    ('TR', 'TURKEY'),\n",
    "    ('TM', 'TURKMENISTAN'),\n",
    "    ('TC', 'TURKS AND CAICOS ISLANDS'),\n",
    "    ('TV', 'TUVALU'),\n",
    "    ('UG', 'UGANDA'),\n",
    "    ('UA', 'UKRAINE'),\n",
    "    ('AE', 'UNITED ARAB EMIRATES'),\n",
    "    ('GB', 'UNITED KINGDOM'),\n",
    "    ('US', 'UNITED STATES'),\n",
    "    ('UM', 'UNITED STATES MINOR OUTLYING ISLANDS'),\n",
    "    ('UY', 'URUGUAY'),\n",
    "    ('UZ', 'UZBEKISTAN'),\n",
    "    ('VU', 'VANUATU'),\n",
    "    ('VN', 'VIET NAM'),\n",
    "    ('VG', 'VIRGIN ISLANDS, BRITISH'),\n",
    "    ('VI', 'VIRGIN ISLANDS, U.S.'),\n",
    "    ('WF', 'WALLIS AND FUTUNA'),\n",
    "    ('EH', 'WESTERN SAHARA'),\n",
    "    ('YE', 'YEMEN'),\n",
    "    ('ZW', 'ZIMBABWE')\n",
    ")"
   ]
  },
  {
   "cell_type": "code",
   "execution_count": 30,
   "metadata": {
    "id": "HiYjAdwvYGFX"
   },
   "outputs": [],
   "source": [
    "list_of_countries = []\n",
    "for i in countries:\n",
    "    list_of_countries.append(i[1].lower())"
   ]
  },
  {
   "cell_type": "code",
   "execution_count": 31,
   "metadata": {
    "colab": {
     "base_uri": "https://localhost:8080/"
    },
    "id": "S54oOlleYGFX",
    "outputId": "4cac7c2a-65a8-4f26-c566-aaae06bb5888"
   },
   "outputs": [
    {
     "name": "stdout",
     "output_type": "stream",
     "text": [
      "['afghanistan', 'albania', 'algeria', 'american samoa', 'andorra', 'angola', 'anguilla', 'antarctica', 'antigua and barbuda', 'argentina', 'armenia', 'aruba', 'australia', 'austria', 'azerbaijan', 'bahamas', 'bahrain', 'bangladesh', 'barbados', 'belarus', 'belgium', 'belize', 'benin', 'bermuda', 'bhutan', 'bolivia', 'bosnia and herzegovina', 'botswana', 'bouvet island', 'brazil', 'british indian ocean territory', 'brunei darussalam', 'bulgaria', 'burkina faso', 'burundi', 'cambodia', 'cameroon', 'canada', 'cape verde', 'cayman islands', 'central african republic', 'chad', 'chile', 'china', 'christmas island', 'cocos (keeling) islands', 'colombia', 'comoros', 'congo', 'congo, the democratic republic of', 'cook islands', 'costa rica', \"cã”te d'ivoire\", 'croatia', 'cuba', 'cyprus', 'czech republic', 'denmark', 'djibouti', 'dominica', 'dominican republic', 'ecuador', 'egypt', 'el salvador', 'equatorial guinea', 'eritrea', 'estonia', 'ethiopia', 'falkland islands (malvinas)', 'faroe islands', 'fiji', 'finland', 'france', 'french guiana', 'french polynesia', 'french southern territories', 'gabon', 'gambia', 'georgia', 'germany', 'ghana', 'gibraltar', 'greece', 'greenland', 'grenada', 'guadeloupe', 'guam', 'guatemala', 'guinea', 'guinea', 'guyana', 'haiti', 'heard island and mcdonald islands', 'honduras', 'hong kong', 'hungary', 'iceland', 'india', 'indonesia', 'iran, islamic republic of', 'iraq', 'ireland', 'israel', 'italy', 'jamaica', 'japan', 'jordan', 'kazakhstan', 'kenya', 'kiribati', \"korea, democratic people's republic of\", 'korea, republic of', 'kuwait', 'kyrgyzstan', \"lao people's democratic republic\", 'latvia', 'lebanon', 'lesotho', 'liberia', 'libyan arab jamahiriya', 'liechtenstein', 'lithuania', 'luxembourg', 'macao', 'macedonia, the former yugoslav republic of', 'madagascar', 'malawi', 'malaysia', 'maldives', 'mali', 'malta', 'marshall islands', 'martinique', 'mauritania', 'mauritius', 'mayotte', 'mexico', 'micronesia, federated states of', 'moldova, republic of', 'monaco', 'mongolia', 'montserrat', 'morocco', 'mozambique', 'myanmar', 'namibia', 'nauru', 'nepal', 'netherlands', 'netherlands antilles', 'new caledonia', 'new zealand', 'nicaragua', 'niger', 'nigeria', 'niue', 'norfolk island', 'northern mariana islands', 'norway', 'oman', 'pakistan', 'palau', 'palestinian territory, occupied', 'panama', 'papua new guinea', 'paraguay', 'peru', 'philippines', 'pitcairn', 'poland', 'portugal', 'puerto rico', 'qatar', 'rã‰union', 'romania', 'russian federation', 'rwanda', 'saint helena', 'saint kitts and nevis', 'saint lucia', 'saint pierre and miquelon', 'saint vincent and the grenadines', 'samoa', 'san marino', 'sao tome and principe', 'saudi arabia', 'senegal', 'serbia and montenegro', 'seychelles', 'sierra leone', 'singapore', 'slovakia', 'slovenia', 'solomon islands', 'somalia', 'south africa', 'south georgia and south sandwich islands', 'spain', 'sri lanka', 'sudan', 'suriname', 'svalbard and jan mayen', 'swaziland', 'sweden', 'switzerland', 'syrian arab republic', 'taiwan, province of china', 'tajikistan', 'tanzania, united republic of', 'thailand', 'timor', 'togo', 'tokelau', 'tonga', 'trinidad and tobago', 'tunisia', 'turkey', 'turkmenistan', 'turks and caicos islands', 'tuvalu', 'uganda', 'ukraine', 'united arab emirates', 'united kingdom', 'united states', 'united states minor outlying islands', 'uruguay', 'uzbekistan', 'vanuatu', 'viet nam', 'virgin islands, british', 'virgin islands, u.s.', 'wallis and futuna', 'western sahara', 'yemen', 'zimbabwe']\n"
     ]
    }
   ],
   "source": [
    "print(list_of_countries)"
   ]
  },
  {
   "cell_type": "markdown",
   "metadata": {
    "id": "WI754gzZYGFX"
   },
   "source": [
    "#### Filtering users based on our list_of_countries values"
   ]
  },
  {
   "cell_type": "code",
   "execution_count": 32,
   "metadata": {
    "colab": {
     "base_uri": "https://localhost:8080/",
     "height": 424
    },
    "id": "xbASv2hgYGFX",
    "outputId": "03e05fcb-d725-4b95-b071-5a6bc449fa0d"
   },
   "outputs": [
    {
     "data": {
      "text/html": [
       "<div>\n",
       "<style scoped>\n",
       "    .dataframe tbody tr th:only-of-type {\n",
       "        vertical-align: middle;\n",
       "    }\n",
       "\n",
       "    .dataframe tbody tr th {\n",
       "        vertical-align: top;\n",
       "    }\n",
       "\n",
       "    .dataframe thead th {\n",
       "        text-align: right;\n",
       "    }\n",
       "</style>\n",
       "<table border=\"1\" class=\"dataframe\">\n",
       "  <thead>\n",
       "    <tr style=\"text-align: right;\">\n",
       "      <th></th>\n",
       "      <th>User-ID</th>\n",
       "      <th>Age</th>\n",
       "      <th>City</th>\n",
       "      <th>State</th>\n",
       "      <th>Country</th>\n",
       "    </tr>\n",
       "  </thead>\n",
       "  <tbody>\n",
       "    <tr>\n",
       "      <th>3</th>\n",
       "      <td>4.0</td>\n",
       "      <td>17</td>\n",
       "      <td>porto</td>\n",
       "      <td>v.n.gaia</td>\n",
       "      <td>portugal</td>\n",
       "    </tr>\n",
       "    <tr>\n",
       "      <th>4</th>\n",
       "      <td>5.0</td>\n",
       "      <td>34</td>\n",
       "      <td>farnborough</td>\n",
       "      <td>hants</td>\n",
       "      <td>united kingdom</td>\n",
       "    </tr>\n",
       "    <tr>\n",
       "      <th>7</th>\n",
       "      <td>8.0</td>\n",
       "      <td>34</td>\n",
       "      <td>timmins</td>\n",
       "      <td>ontario</td>\n",
       "      <td>canada</td>\n",
       "    </tr>\n",
       "    <tr>\n",
       "      <th>9</th>\n",
       "      <td>10.0</td>\n",
       "      <td>26</td>\n",
       "      <td>albacete</td>\n",
       "      <td>wisconsin</td>\n",
       "      <td>spain</td>\n",
       "    </tr>\n",
       "    <tr>\n",
       "      <th>10</th>\n",
       "      <td>11.0</td>\n",
       "      <td>14</td>\n",
       "      <td>melbourne</td>\n",
       "      <td>victoria</td>\n",
       "      <td>australia</td>\n",
       "    </tr>\n",
       "    <tr>\n",
       "      <th>...</th>\n",
       "      <td>...</td>\n",
       "      <td>...</td>\n",
       "      <td>...</td>\n",
       "      <td>...</td>\n",
       "      <td>...</td>\n",
       "    </tr>\n",
       "    <tr>\n",
       "      <th>278851</th>\n",
       "      <td>278852.0</td>\n",
       "      <td>32</td>\n",
       "      <td>brisbane</td>\n",
       "      <td>queensland</td>\n",
       "      <td>australia</td>\n",
       "    </tr>\n",
       "    <tr>\n",
       "      <th>278852</th>\n",
       "      <td>278853.0</td>\n",
       "      <td>17</td>\n",
       "      <td>stranraer</td>\n",
       "      <td>n/a</td>\n",
       "      <td>united kingdom</td>\n",
       "    </tr>\n",
       "    <tr>\n",
       "      <th>278854</th>\n",
       "      <td>278855.0</td>\n",
       "      <td>50</td>\n",
       "      <td>tacoma</td>\n",
       "      <td>washington</td>\n",
       "      <td>united kingdom</td>\n",
       "    </tr>\n",
       "    <tr>\n",
       "      <th>278855</th>\n",
       "      <td>278856.0</td>\n",
       "      <td>34</td>\n",
       "      <td>brampton</td>\n",
       "      <td>ontario</td>\n",
       "      <td>canada</td>\n",
       "    </tr>\n",
       "    <tr>\n",
       "      <th>278857</th>\n",
       "      <td>278858.0</td>\n",
       "      <td>34</td>\n",
       "      <td>dublin</td>\n",
       "      <td>n/a</td>\n",
       "      <td>ireland</td>\n",
       "    </tr>\n",
       "  </tbody>\n",
       "</table>\n",
       "<p>129628 rows × 5 columns</p>\n",
       "</div>"
      ],
      "text/plain": [
       "         User-ID  Age         City       State         Country\n",
       "3            4.0   17        porto    v.n.gaia        portugal\n",
       "4            5.0   34  farnborough       hants  united kingdom\n",
       "7            8.0   34      timmins     ontario          canada\n",
       "9           10.0   26     albacete   wisconsin           spain\n",
       "10          11.0   14    melbourne    victoria       australia\n",
       "...          ...  ...          ...         ...             ...\n",
       "278851  278852.0   32     brisbane  queensland       australia\n",
       "278852  278853.0   17    stranraer         n/a  united kingdom\n",
       "278854  278855.0   50       tacoma  washington  united kingdom\n",
       "278855  278856.0   34     brampton     ontario          canada\n",
       "278857  278858.0   34       dublin         n/a         ireland\n",
       "\n",
       "[129628 rows x 5 columns]"
      ]
     },
     "execution_count": 32,
     "metadata": {},
     "output_type": "execute_result"
    }
   ],
   "source": [
    "users_df = users_df[users_df['Country'].isin(list_of_countries)]\n",
    "users_df"
   ]
  },
  {
   "cell_type": "markdown",
   "metadata": {
    "id": "4LyDnsLOYGFY"
   },
   "source": [
    "#### Now selecting states and cities with atleast 4 characters and filtering it out with junk characters"
   ]
  },
  {
   "cell_type": "code",
   "execution_count": 33,
   "metadata": {
    "id": "P-Nqp4BfYGFY"
   },
   "outputs": [],
   "source": [
    "list_of_states = users_df['State'].str.extract(r'(^[a-z]{4}[a-z]*|^[a-z]{1}[a-z]*\\w[a-z]{4})')[0].unique()"
   ]
  },
  {
   "cell_type": "code",
   "execution_count": 34,
   "metadata": {
    "id": "Z01z_cDlYGFY"
   },
   "outputs": [],
   "source": [
    "users_df = users_df[users_df['State'].isin(list_of_states)]"
   ]
  },
  {
   "cell_type": "code",
   "execution_count": 35,
   "metadata": {
    "id": "SeXtkTftYGFY"
   },
   "outputs": [],
   "source": [
    "list_of_city = users_df['City'].str.extract(r'(^[a-z]{4}[a-z]*|^[a-z]{1}[a-z]*\\w[a-z]{4})')[0].unique()\n",
    "users_df = users_df[users_df['City'].isin(list_of_city)]"
   ]
  },
  {
   "cell_type": "code",
   "execution_count": 36,
   "metadata": {
    "colab": {
     "base_uri": "https://localhost:8080/"
    },
    "id": "57aEhKABYGFY",
    "outputId": "bf9c4c20-d8f6-40f5-9d6b-b7055a9e7be8"
   },
   "outputs": [
    {
     "name": "stdout",
     "output_type": "stream",
     "text": [
      "Unique country count:  154\n",
      "Unique state count:  2192\n",
      "Unique City count:  8452\n"
     ]
    }
   ],
   "source": [
    "print(\"Unique country count: \" , users_df['Country'].nunique())\n",
    "print(\"Unique state count: \" ,users_df['State'].nunique())\n",
    "print(\"Unique City count: \" , users_df['City'].nunique())"
   ]
  },
  {
   "cell_type": "markdown",
   "metadata": {
    "id": "y3gxkhe_YGFY"
   },
   "source": [
    "#### Filtering the books dataset. Removing unrelated attributes"
   ]
  },
  {
   "cell_type": "code",
   "execution_count": 37,
   "metadata": {
    "colab": {
     "base_uri": "https://localhost:8080/",
     "height": 573
    },
    "id": "-N0MNoD0YGFZ",
    "outputId": "87a42d9c-b0d2-49fe-915f-addc031e58db"
   },
   "outputs": [
    {
     "data": {
      "text/html": [
       "<div>\n",
       "<style scoped>\n",
       "    .dataframe tbody tr th:only-of-type {\n",
       "        vertical-align: middle;\n",
       "    }\n",
       "\n",
       "    .dataframe tbody tr th {\n",
       "        vertical-align: top;\n",
       "    }\n",
       "\n",
       "    .dataframe thead th {\n",
       "        text-align: right;\n",
       "    }\n",
       "</style>\n",
       "<table border=\"1\" class=\"dataframe\">\n",
       "  <thead>\n",
       "    <tr style=\"text-align: right;\">\n",
       "      <th></th>\n",
       "      <th>ISBN</th>\n",
       "      <th>Book-Title</th>\n",
       "      <th>Book-Author</th>\n",
       "      <th>Year-Of-Publication</th>\n",
       "      <th>Publisher</th>\n",
       "      <th>Image-URL-S</th>\n",
       "      <th>Image-URL-M</th>\n",
       "      <th>Image-URL-L</th>\n",
       "    </tr>\n",
       "  </thead>\n",
       "  <tbody>\n",
       "    <tr>\n",
       "      <th>0</th>\n",
       "      <td>0195153448</td>\n",
       "      <td>Classical Mythology</td>\n",
       "      <td>Mark P. O. Morford</td>\n",
       "      <td>2002</td>\n",
       "      <td>Oxford University Press</td>\n",
       "      <td>http://images.amazon.com/images/P/0195153448.01.THUMBZZZ.jpg</td>\n",
       "      <td>http://images.amazon.com/images/P/0195153448.01.MZZZZZZZ.jpg</td>\n",
       "      <td>http://images.amazon.com/images/P/0195153448.01.LZZZZZZZ.jpg</td>\n",
       "    </tr>\n",
       "    <tr>\n",
       "      <th>1</th>\n",
       "      <td>0002005018</td>\n",
       "      <td>Clara Callan</td>\n",
       "      <td>Richard Bruce Wright</td>\n",
       "      <td>2001</td>\n",
       "      <td>HarperFlamingo Canada</td>\n",
       "      <td>http://images.amazon.com/images/P/0002005018.01.THUMBZZZ.jpg</td>\n",
       "      <td>http://images.amazon.com/images/P/0002005018.01.MZZZZZZZ.jpg</td>\n",
       "      <td>http://images.amazon.com/images/P/0002005018.01.LZZZZZZZ.jpg</td>\n",
       "    </tr>\n",
       "    <tr>\n",
       "      <th>2</th>\n",
       "      <td>0060973129</td>\n",
       "      <td>Decision in Normandy</td>\n",
       "      <td>Carlo D'Este</td>\n",
       "      <td>1991</td>\n",
       "      <td>HarperPerennial</td>\n",
       "      <td>http://images.amazon.com/images/P/0060973129.01.THUMBZZZ.jpg</td>\n",
       "      <td>http://images.amazon.com/images/P/0060973129.01.MZZZZZZZ.jpg</td>\n",
       "      <td>http://images.amazon.com/images/P/0060973129.01.LZZZZZZZ.jpg</td>\n",
       "    </tr>\n",
       "    <tr>\n",
       "      <th>3</th>\n",
       "      <td>0374157065</td>\n",
       "      <td>Flu: The Story of the Great Influenza Pandemic of 1918 and the Search for the Virus That Caused It</td>\n",
       "      <td>Gina Bari Kolata</td>\n",
       "      <td>1999</td>\n",
       "      <td>Farrar Straus Giroux</td>\n",
       "      <td>http://images.amazon.com/images/P/0374157065.01.THUMBZZZ.jpg</td>\n",
       "      <td>http://images.amazon.com/images/P/0374157065.01.MZZZZZZZ.jpg</td>\n",
       "      <td>http://images.amazon.com/images/P/0374157065.01.LZZZZZZZ.jpg</td>\n",
       "    </tr>\n",
       "    <tr>\n",
       "      <th>4</th>\n",
       "      <td>0393045218</td>\n",
       "      <td>The Mummies of Urumchi</td>\n",
       "      <td>E. J. W. Barber</td>\n",
       "      <td>1999</td>\n",
       "      <td>W. W. Norton &amp;amp; Company</td>\n",
       "      <td>http://images.amazon.com/images/P/0393045218.01.THUMBZZZ.jpg</td>\n",
       "      <td>http://images.amazon.com/images/P/0393045218.01.MZZZZZZZ.jpg</td>\n",
       "      <td>http://images.amazon.com/images/P/0393045218.01.LZZZZZZZ.jpg</td>\n",
       "    </tr>\n",
       "  </tbody>\n",
       "</table>\n",
       "</div>"
      ],
      "text/plain": [
       "         ISBN  \\\n",
       "0  0195153448   \n",
       "1  0002005018   \n",
       "2  0060973129   \n",
       "3  0374157065   \n",
       "4  0393045218   \n",
       "\n",
       "                                                                                           Book-Title  \\\n",
       "0                                                                                 Classical Mythology   \n",
       "1                                                                                        Clara Callan   \n",
       "2                                                                                Decision in Normandy   \n",
       "3  Flu: The Story of the Great Influenza Pandemic of 1918 and the Search for the Virus That Caused It   \n",
       "4                                                                              The Mummies of Urumchi   \n",
       "\n",
       "            Book-Author Year-Of-Publication                   Publisher  \\\n",
       "0    Mark P. O. Morford                2002     Oxford University Press   \n",
       "1  Richard Bruce Wright                2001       HarperFlamingo Canada   \n",
       "2          Carlo D'Este                1991             HarperPerennial   \n",
       "3      Gina Bari Kolata                1999        Farrar Straus Giroux   \n",
       "4       E. J. W. Barber                1999  W. W. Norton &amp; Company   \n",
       "\n",
       "                                                    Image-URL-S  \\\n",
       "0  http://images.amazon.com/images/P/0195153448.01.THUMBZZZ.jpg   \n",
       "1  http://images.amazon.com/images/P/0002005018.01.THUMBZZZ.jpg   \n",
       "2  http://images.amazon.com/images/P/0060973129.01.THUMBZZZ.jpg   \n",
       "3  http://images.amazon.com/images/P/0374157065.01.THUMBZZZ.jpg   \n",
       "4  http://images.amazon.com/images/P/0393045218.01.THUMBZZZ.jpg   \n",
       "\n",
       "                                                    Image-URL-M  \\\n",
       "0  http://images.amazon.com/images/P/0195153448.01.MZZZZZZZ.jpg   \n",
       "1  http://images.amazon.com/images/P/0002005018.01.MZZZZZZZ.jpg   \n",
       "2  http://images.amazon.com/images/P/0060973129.01.MZZZZZZZ.jpg   \n",
       "3  http://images.amazon.com/images/P/0374157065.01.MZZZZZZZ.jpg   \n",
       "4  http://images.amazon.com/images/P/0393045218.01.MZZZZZZZ.jpg   \n",
       "\n",
       "                                                    Image-URL-L  \n",
       "0  http://images.amazon.com/images/P/0195153448.01.LZZZZZZZ.jpg  \n",
       "1  http://images.amazon.com/images/P/0002005018.01.LZZZZZZZ.jpg  \n",
       "2  http://images.amazon.com/images/P/0060973129.01.LZZZZZZZ.jpg  \n",
       "3  http://images.amazon.com/images/P/0374157065.01.LZZZZZZZ.jpg  \n",
       "4  http://images.amazon.com/images/P/0393045218.01.LZZZZZZZ.jpg  "
      ]
     },
     "execution_count": 37,
     "metadata": {},
     "output_type": "execute_result"
    }
   ],
   "source": [
    "books_df.head(5)"
   ]
  },
  {
   "cell_type": "code",
   "execution_count": 38,
   "metadata": {
    "colab": {
     "base_uri": "https://localhost:8080/",
     "height": 510
    },
    "id": "JCzS7IePYGFZ",
    "outputId": "9ed3a973-e5c7-4652-a177-5507c951ae98"
   },
   "outputs": [
    {
     "data": {
      "text/html": [
       "<div>\n",
       "<style scoped>\n",
       "    .dataframe tbody tr th:only-of-type {\n",
       "        vertical-align: middle;\n",
       "    }\n",
       "\n",
       "    .dataframe tbody tr th {\n",
       "        vertical-align: top;\n",
       "    }\n",
       "\n",
       "    .dataframe thead th {\n",
       "        text-align: right;\n",
       "    }\n",
       "</style>\n",
       "<table border=\"1\" class=\"dataframe\">\n",
       "  <thead>\n",
       "    <tr style=\"text-align: right;\">\n",
       "      <th></th>\n",
       "      <th>ISBN</th>\n",
       "      <th>Book-Title</th>\n",
       "      <th>Book-Author</th>\n",
       "      <th>Year-Of-Publication</th>\n",
       "      <th>Publisher</th>\n",
       "    </tr>\n",
       "  </thead>\n",
       "  <tbody>\n",
       "    <tr>\n",
       "      <th>0</th>\n",
       "      <td>0195153448</td>\n",
       "      <td>Classical Mythology</td>\n",
       "      <td>Mark P. O. Morford</td>\n",
       "      <td>2002</td>\n",
       "      <td>Oxford University Press</td>\n",
       "    </tr>\n",
       "    <tr>\n",
       "      <th>1</th>\n",
       "      <td>0002005018</td>\n",
       "      <td>Clara Callan</td>\n",
       "      <td>Richard Bruce Wright</td>\n",
       "      <td>2001</td>\n",
       "      <td>HarperFlamingo Canada</td>\n",
       "    </tr>\n",
       "    <tr>\n",
       "      <th>2</th>\n",
       "      <td>0060973129</td>\n",
       "      <td>Decision in Normandy</td>\n",
       "      <td>Carlo D'Este</td>\n",
       "      <td>1991</td>\n",
       "      <td>HarperPerennial</td>\n",
       "    </tr>\n",
       "    <tr>\n",
       "      <th>3</th>\n",
       "      <td>0374157065</td>\n",
       "      <td>Flu: The Story of the Great Influenza Pandemic of 1918 and the Search for the Virus That Caused It</td>\n",
       "      <td>Gina Bari Kolata</td>\n",
       "      <td>1999</td>\n",
       "      <td>Farrar Straus Giroux</td>\n",
       "    </tr>\n",
       "    <tr>\n",
       "      <th>4</th>\n",
       "      <td>0393045218</td>\n",
       "      <td>The Mummies of Urumchi</td>\n",
       "      <td>E. J. W. Barber</td>\n",
       "      <td>1999</td>\n",
       "      <td>W. W. Norton &amp;amp; Company</td>\n",
       "    </tr>\n",
       "    <tr>\n",
       "      <th>...</th>\n",
       "      <td>...</td>\n",
       "      <td>...</td>\n",
       "      <td>...</td>\n",
       "      <td>...</td>\n",
       "      <td>...</td>\n",
       "    </tr>\n",
       "    <tr>\n",
       "      <th>271355</th>\n",
       "      <td>0440400988</td>\n",
       "      <td>There's a Bat in Bunk Five</td>\n",
       "      <td>Paula Danziger</td>\n",
       "      <td>1988</td>\n",
       "      <td>Random House Childrens Pub (Mm)</td>\n",
       "    </tr>\n",
       "    <tr>\n",
       "      <th>271356</th>\n",
       "      <td>0525447644</td>\n",
       "      <td>From One to One Hundred</td>\n",
       "      <td>Teri Sloat</td>\n",
       "      <td>1991</td>\n",
       "      <td>Dutton Books</td>\n",
       "    </tr>\n",
       "    <tr>\n",
       "      <th>271357</th>\n",
       "      <td>006008667X</td>\n",
       "      <td>Lily Dale : The True Story of the Town that Talks to the Dead</td>\n",
       "      <td>Christine Wicker</td>\n",
       "      <td>2004</td>\n",
       "      <td>HarperSanFrancisco</td>\n",
       "    </tr>\n",
       "    <tr>\n",
       "      <th>271358</th>\n",
       "      <td>0192126040</td>\n",
       "      <td>Republic (World's Classics)</td>\n",
       "      <td>Plato</td>\n",
       "      <td>1996</td>\n",
       "      <td>Oxford University Press</td>\n",
       "    </tr>\n",
       "    <tr>\n",
       "      <th>271359</th>\n",
       "      <td>0767409752</td>\n",
       "      <td>A Guided Tour of Rene Descartes' Meditations on First Philosophy with Complete Translations of the Meditations by Ronald Rubin</td>\n",
       "      <td>Christopher  Biffle</td>\n",
       "      <td>2000</td>\n",
       "      <td>McGraw-Hill Humanities/Social Sciences/Languages</td>\n",
       "    </tr>\n",
       "  </tbody>\n",
       "</table>\n",
       "<p>271360 rows × 5 columns</p>\n",
       "</div>"
      ],
      "text/plain": [
       "              ISBN  \\\n",
       "0       0195153448   \n",
       "1       0002005018   \n",
       "2       0060973129   \n",
       "3       0374157065   \n",
       "4       0393045218   \n",
       "...            ...   \n",
       "271355  0440400988   \n",
       "271356  0525447644   \n",
       "271357  006008667X   \n",
       "271358  0192126040   \n",
       "271359  0767409752   \n",
       "\n",
       "                                                                                                                            Book-Title  \\\n",
       "0                                                                                                                  Classical Mythology   \n",
       "1                                                                                                                         Clara Callan   \n",
       "2                                                                                                                 Decision in Normandy   \n",
       "3                                   Flu: The Story of the Great Influenza Pandemic of 1918 and the Search for the Virus That Caused It   \n",
       "4                                                                                                               The Mummies of Urumchi   \n",
       "...                                                                                                                                ...   \n",
       "271355                                                                                                      There's a Bat in Bunk Five   \n",
       "271356                                                                                                         From One to One Hundred   \n",
       "271357                                                                   Lily Dale : The True Story of the Town that Talks to the Dead   \n",
       "271358                                                                                                     Republic (World's Classics)   \n",
       "271359  A Guided Tour of Rene Descartes' Meditations on First Philosophy with Complete Translations of the Meditations by Ronald Rubin   \n",
       "\n",
       "                 Book-Author Year-Of-Publication  \\\n",
       "0         Mark P. O. Morford                2002   \n",
       "1       Richard Bruce Wright                2001   \n",
       "2               Carlo D'Este                1991   \n",
       "3           Gina Bari Kolata                1999   \n",
       "4            E. J. W. Barber                1999   \n",
       "...                      ...                 ...   \n",
       "271355        Paula Danziger                1988   \n",
       "271356            Teri Sloat                1991   \n",
       "271357      Christine Wicker                2004   \n",
       "271358                 Plato                1996   \n",
       "271359   Christopher  Biffle                2000   \n",
       "\n",
       "                                               Publisher  \n",
       "0                                Oxford University Press  \n",
       "1                                  HarperFlamingo Canada  \n",
       "2                                        HarperPerennial  \n",
       "3                                   Farrar Straus Giroux  \n",
       "4                             W. W. Norton &amp; Company  \n",
       "...                                                  ...  \n",
       "271355                   Random House Childrens Pub (Mm)  \n",
       "271356                                      Dutton Books  \n",
       "271357                                HarperSanFrancisco  \n",
       "271358                           Oxford University Press  \n",
       "271359  McGraw-Hill Humanities/Social Sciences/Languages  \n",
       "\n",
       "[271360 rows x 5 columns]"
      ]
     },
     "execution_count": 38,
     "metadata": {},
     "output_type": "execute_result"
    }
   ],
   "source": [
    "books_df = books_df.drop(['Image-URL-S','Image-URL-M','Image-URL-L'],axis = 1)\n",
    "books_df"
   ]
  },
  {
   "cell_type": "code",
   "execution_count": 39,
   "metadata": {
    "colab": {
     "base_uri": "https://localhost:8080/"
    },
    "id": "2hEiqLyuYGFZ",
    "outputId": "500f26e1-ff2a-489d-cd14-16ba45fdbf77"
   },
   "outputs": [
    {
     "data": {
      "text/plain": [
       "array(['2002', '2001', '1991', '1999', '2000', '1993', '1996', '1988',\n",
       "       '2004', '1998', '1994', '2003', '1997', '1983', '1979', '1995',\n",
       "       '1982', '1985', '1992', '1986', '1978', '1980', '1952', '1987',\n",
       "       '1990', '1981', '1989', '1984', '0', '1968', '1961', '1958',\n",
       "       '1974', '1976', '1971', '1977', '1975', '1965', '1941', '1970',\n",
       "       '1962', '1973', '1972', '1960', '1966', '1920', '1956', '1959',\n",
       "       '1953', '1951', '1942', '1963', '1964', '1969', '1954', '1950',\n",
       "       '1967', '2005', '1957', '1940', '1937', '1955', '1946', '1936',\n",
       "       '1930', '2011', '1925', '1948', '1943', '1947', '1945', '1923',\n",
       "       '2020', '1939', '1926', '1938', '2030', '1911', '1904', '1949',\n",
       "       '1932', '1928', '1929', '1927', '1931', '1914', '2050', '1934',\n",
       "       '1910', '1933', '1902', '1924', '1921', '1900', '2038', '2026',\n",
       "       '1944', '1917', '1901', '2010', '1908', '1906', '1935', '1806',\n",
       "       '2021', '2012', '2006', 'DK Publishing Inc', 'Gallimard', '1909',\n",
       "       '2008', '1378', '1919', '1922', '1897', '2024', '1376', '2037'],\n",
       "      dtype=object)"
      ]
     },
     "execution_count": 39,
     "metadata": {},
     "output_type": "execute_result"
    }
   ],
   "source": [
    "books_df['Year-Of-Publication'].unique()\n"
   ]
  },
  {
   "cell_type": "code",
   "execution_count": 40,
   "metadata": {
    "id": "LrFtCC9vYGFZ"
   },
   "outputs": [],
   "source": [
    "year_of_publication = books_df['Year-Of-Publication'].str.extract(r'(\\d{4})')[0]\n",
    "books_df = books_df[books_df['Year-Of-Publication'].isin(year_of_publication)]"
   ]
  },
  {
   "cell_type": "code",
   "execution_count": 41,
   "metadata": {
    "colab": {
     "base_uri": "https://localhost:8080/"
    },
    "id": "Mla09VseYGFZ",
    "outputId": "15e928a9-ae08-497c-ebe1-389b3afbf215"
   },
   "outputs": [
    {
     "name": "stderr",
     "output_type": "stream",
     "text": [
      "C:\\Users\\ADMIN\\AppData\\Local\\Temp\\ipykernel_6812\\406188384.py:1: SettingWithCopyWarning: \n",
      "A value is trying to be set on a copy of a slice from a DataFrame.\n",
      "Try using .loc[row_indexer,col_indexer] = value instead\n",
      "\n",
      "See the caveats in the documentation: https://pandas.pydata.org/pandas-docs/stable/user_guide/indexing.html#returning-a-view-versus-a-copy\n",
      "  books_df['Year-Of-Publication'] = books_df['Year-Of-Publication'].astype('int')\n"
     ]
    }
   ],
   "source": [
    "books_df['Year-Of-Publication'] = books_df['Year-Of-Publication'].astype('int')"
   ]
  },
  {
   "cell_type": "code",
   "execution_count": 42,
   "metadata": {
    "colab": {
     "base_uri": "https://localhost:8080/"
    },
    "id": "KNn-v3EcYGFZ",
    "outputId": "62a0bc91-7546-497a-96a5-e89cdbcae1be"
   },
   "outputs": [
    {
     "data": {
      "text/plain": [
       "array([2002, 2001, 1991, 1999, 2000, 1993, 1996, 1988, 2004, 1998, 1994,\n",
       "       2003, 1997, 1983, 1979, 1995, 1982, 1985, 1992, 1986, 1978, 1980,\n",
       "       1952, 1987, 1990, 1981, 1989, 1984, 1968, 1961, 1958, 1974, 1976,\n",
       "       1971, 1977, 1975, 1965, 1941, 1970, 1962, 1973, 1972, 1960, 1966,\n",
       "       1920, 1956, 1959, 1953, 1951, 1942, 1963, 1964, 1969, 1954, 1950,\n",
       "       1967, 2005, 1957, 1940, 1937, 1955, 1946, 1936, 1930, 2011, 1925,\n",
       "       1948, 1943, 1947, 1945, 1923, 2020, 1939, 1926, 1938, 2030, 1911,\n",
       "       1904, 1949, 1932, 1928, 1929, 1927, 1931, 1914, 2050, 1934, 1910,\n",
       "       1933, 1902, 1924, 1921, 1900, 2038, 2026, 1944, 1917, 1901, 2010,\n",
       "       1908, 1906, 1935, 1806, 2021, 2012, 2006, 1909, 2008, 1378, 1919,\n",
       "       1922, 1897, 2024, 1376, 2037])"
      ]
     },
     "execution_count": 42,
     "metadata": {},
     "output_type": "execute_result"
    }
   ],
   "source": [
    "books_df['Year-Of-Publication'].unique()\n"
   ]
  },
  {
   "cell_type": "markdown",
   "metadata": {
    "id": "RtMkKgI0YGFa"
   },
   "source": [
    "#### Lets Check Ratings Datafram"
   ]
  },
  {
   "cell_type": "code",
   "execution_count": 43,
   "metadata": {
    "colab": {
     "base_uri": "https://localhost:8080/",
     "height": 206
    },
    "id": "-Xty8e31YGFa",
    "outputId": "b8e8fc0d-a3c6-4385-b022-ef45f6590d8c"
   },
   "outputs": [
    {
     "data": {
      "text/html": [
       "<div>\n",
       "<style scoped>\n",
       "    .dataframe tbody tr th:only-of-type {\n",
       "        vertical-align: middle;\n",
       "    }\n",
       "\n",
       "    .dataframe tbody tr th {\n",
       "        vertical-align: top;\n",
       "    }\n",
       "\n",
       "    .dataframe thead th {\n",
       "        text-align: right;\n",
       "    }\n",
       "</style>\n",
       "<table border=\"1\" class=\"dataframe\">\n",
       "  <thead>\n",
       "    <tr style=\"text-align: right;\">\n",
       "      <th></th>\n",
       "      <th>User-ID</th>\n",
       "      <th>ISBN</th>\n",
       "      <th>Book-Rating</th>\n",
       "    </tr>\n",
       "  </thead>\n",
       "  <tbody>\n",
       "    <tr>\n",
       "      <th>0</th>\n",
       "      <td>276725</td>\n",
       "      <td>034545104X</td>\n",
       "      <td>0</td>\n",
       "    </tr>\n",
       "    <tr>\n",
       "      <th>1</th>\n",
       "      <td>276726</td>\n",
       "      <td>0155061224</td>\n",
       "      <td>5</td>\n",
       "    </tr>\n",
       "    <tr>\n",
       "      <th>2</th>\n",
       "      <td>276727</td>\n",
       "      <td>0446520802</td>\n",
       "      <td>0</td>\n",
       "    </tr>\n",
       "    <tr>\n",
       "      <th>3</th>\n",
       "      <td>276729</td>\n",
       "      <td>052165615X</td>\n",
       "      <td>3</td>\n",
       "    </tr>\n",
       "    <tr>\n",
       "      <th>4</th>\n",
       "      <td>276729</td>\n",
       "      <td>0521795028</td>\n",
       "      <td>6</td>\n",
       "    </tr>\n",
       "  </tbody>\n",
       "</table>\n",
       "</div>"
      ],
      "text/plain": [
       "   User-ID        ISBN  Book-Rating\n",
       "0   276725  034545104X            0\n",
       "1   276726  0155061224            5\n",
       "2   276727  0446520802            0\n",
       "3   276729  052165615X            3\n",
       "4   276729  0521795028            6"
      ]
     },
     "execution_count": 43,
     "metadata": {},
     "output_type": "execute_result"
    }
   ],
   "source": [
    "ratings_df.head()"
   ]
  },
  {
   "cell_type": "code",
   "execution_count": 44,
   "metadata": {
    "colab": {
     "base_uri": "https://localhost:8080/"
    },
    "id": "e35idivIYGFa",
    "outputId": "c5f8f25c-5a60-44ad-877c-54e4a028e5f3"
   },
   "outputs": [
    {
     "data": {
      "text/plain": [
       "[0, 1, 2, 3, 4, 5, 6, 7, 8, 9, 10]"
      ]
     },
     "execution_count": 44,
     "metadata": {},
     "output_type": "execute_result"
    }
   ],
   "source": [
    "sorted(ratings_df['Book-Rating'].unique())"
   ]
  },
  {
   "cell_type": "code",
   "execution_count": 45,
   "metadata": {
    "colab": {
     "base_uri": "https://localhost:8080/",
     "height": 489
    },
    "id": "qVoqen1ZYGFa",
    "outputId": "90420ce6-929e-4db1-f3eb-a960641f9d07"
   },
   "outputs": [
    {
     "data": {
      "text/plain": [
       "Text(0, 0.5, 'Frequency')"
      ]
     },
     "execution_count": 45,
     "metadata": {},
     "output_type": "execute_result"
    },
    {
     "data": {
      "image/png": "[encoded data removed]",
      "text/plain": [
       "<Figure size 640x480 with 1 Axes>"
      ]
     },
     "metadata": {},
     "output_type": "display_data"
    }
   ],
   "source": [
    "ratings_group = ratings_df.groupby('Book-Rating').size()\n",
    "plt.bar(ratings_group.index,ratings_group.values)\n",
    "plt.title('Distribution of Ratings')\n",
    "plt.xlabel('Ratings')\n",
    "plt.ylabel('Frequency')"
   ]
  },
  {
   "cell_type": "code",
   "execution_count": 46,
   "metadata": {
    "colab": {
     "base_uri": "https://localhost:8080/"
    },
    "id": "LC7clJY5YGFa",
    "outputId": "14f733f4-22a2-4d84-b4ed-f6f49db5db94"
   },
   "outputs": [
    {
     "name": "stdout",
     "output_type": "stream",
     "text": [
      "<class 'pandas.core.frame.DataFrame'>\n",
      "RangeIndex: 1149780 entries, 0 to 1149779\n",
      "Data columns (total 3 columns):\n",
      " #   Column       Non-Null Count    Dtype \n",
      "---  ------       --------------    ----- \n",
      " 0   User-ID      1149780 non-null  int64 \n",
      " 1   ISBN         1149780 non-null  object\n",
      " 2   Book-Rating  1149780 non-null  int64 \n",
      "dtypes: int64(2), object(1)\n",
      "memory usage: 26.3+ MB\n"
     ]
    }
   ],
   "source": [
    "ratings_df.info()"
   ]
  },
  {
   "cell_type": "code",
   "execution_count": 47,
   "metadata": {
    "colab": {
     "base_uri": "https://localhost:8080/"
    },
    "id": "tGQ8ckxHYGFa",
    "outputId": "8cff6cc3-5810-491b-9e0a-330678ae41ed"
   },
   "outputs": [
    {
     "name": "stdout",
     "output_type": "stream",
     "text": [
      "<class 'pandas.core.frame.DataFrame'>\n",
      "Index: 266739 entries, 0 to 271359\n",
      "Data columns (total 5 columns):\n",
      " #   Column               Non-Null Count   Dtype \n",
      "---  ------               --------------   ----- \n",
      " 0   ISBN                 266739 non-null  object\n",
      " 1   Book-Title           266739 non-null  object\n",
      " 2   Book-Author          266737 non-null  object\n",
      " 3   Year-Of-Publication  266739 non-null  int32 \n",
      " 4   Publisher            266737 non-null  object\n",
      "dtypes: int32(1), object(4)\n",
      "memory usage: 11.2+ MB\n"
     ]
    }
   ],
   "source": [
    "books_df.info()"
   ]
  },
  {
   "cell_type": "code",
   "execution_count": 48,
   "metadata": {
    "colab": {
     "base_uri": "https://localhost:8080/"
    },
    "id": "Z-WZUqnxYGFa",
    "outputId": "daf24f02-9e45-4d6a-acce-0a8d63993e26"
   },
   "outputs": [
    {
     "name": "stdout",
     "output_type": "stream",
     "text": [
      "<class 'pandas.core.frame.DataFrame'>\n",
      "Index: 69301 entries, 4 to 278855\n",
      "Data columns (total 5 columns):\n",
      " #   Column   Non-Null Count  Dtype  \n",
      "---  ------   --------------  -----  \n",
      " 0   User-ID  69301 non-null  float64\n",
      " 1   Age      69301 non-null  int32  \n",
      " 2   City     69301 non-null  object \n",
      " 3   State    69301 non-null  object \n",
      " 4   Country  69301 non-null  object \n",
      "dtypes: float64(1), int32(1), object(3)\n",
      "memory usage: 2.9+ MB\n"
     ]
    }
   ],
   "source": [
    "users_df.info()"
   ]
  },
  {
   "cell_type": "markdown",
   "metadata": {
    "id": "p-A2EsDsYGFb"
   },
   "source": [
    "#### Merging Users,Books,Ratings dataframe for our dataset"
   ]
  },
  {
   "cell_type": "code",
   "execution_count": 49,
   "metadata": {
    "colab": {
     "base_uri": "https://localhost:8080/"
    },
    "id": "mntqiVDXYGFb",
    "outputId": "3136d351-e9a1-4ed9-8b8f-066821bb0c2d"
   },
   "outputs": [
    {
     "name": "stdout",
     "output_type": "stream",
     "text": [
      "<class 'pandas.core.frame.DataFrame'>\n",
      "RangeIndex: 132920 entries, 0 to 132919\n",
      "Data columns (total 11 columns):\n",
      " #   Column               Non-Null Count   Dtype \n",
      "---  ------               --------------   ----- \n",
      " 0   User-ID              132920 non-null  int64 \n",
      " 1   ISBN                 132920 non-null  object\n",
      " 2   Book-Rating          132920 non-null  int64 \n",
      " 3   Book-Title           132920 non-null  object\n",
      " 4   Book-Author          132919 non-null  object\n",
      " 5   Year-Of-Publication  132920 non-null  int32 \n",
      " 6   Publisher            132920 non-null  object\n",
      " 7   Age                  132920 non-null  int32 \n",
      " 8   City                 132920 non-null  object\n",
      " 9   State                132920 non-null  object\n",
      " 10  Country              132920 non-null  object\n",
      "dtypes: int32(2), int64(2), object(7)\n",
      "memory usage: 10.1+ MB\n"
     ]
    }
   ],
   "source": [
    "dataset = ratings_df.merge(books_df,on = 'ISBN').merge(users_df,how='inner',on='User-ID')\n",
    "dataset.info()\n"
   ]
  },
  {
   "cell_type": "markdown",
   "metadata": {
    "id": "qSGGP4ZzYGFb"
   },
   "source": [
    "#### Dropping the duplicate user-ID and ISBN rows as a user can have only one rating per book."
   ]
  },
  {
   "cell_type": "code",
   "execution_count": 50,
   "metadata": {
    "colab": {
     "base_uri": "https://localhost:8080/",
     "height": 206
    },
    "id": "AGo_buk9YGFb",
    "outputId": "79f9ebee-d499-4e66-ae72-fbcea5eba872"
   },
   "outputs": [
    {
     "data": {
      "text/html": [
       "<div>\n",
       "<style scoped>\n",
       "    .dataframe tbody tr th:only-of-type {\n",
       "        vertical-align: middle;\n",
       "    }\n",
       "\n",
       "    .dataframe tbody tr th {\n",
       "        vertical-align: top;\n",
       "    }\n",
       "\n",
       "    .dataframe thead th {\n",
       "        text-align: right;\n",
       "    }\n",
       "</style>\n",
       "<table border=\"1\" class=\"dataframe\">\n",
       "  <thead>\n",
       "    <tr style=\"text-align: right;\">\n",
       "      <th></th>\n",
       "      <th>User-ID</th>\n",
       "      <th>ISBN</th>\n",
       "      <th>Book-Rating</th>\n",
       "      <th>Book-Title</th>\n",
       "      <th>Book-Author</th>\n",
       "      <th>Year-Of-Publication</th>\n",
       "      <th>Publisher</th>\n",
       "      <th>Age</th>\n",
       "      <th>City</th>\n",
       "      <th>State</th>\n",
       "      <th>Country</th>\n",
       "    </tr>\n",
       "  </thead>\n",
       "  <tbody>\n",
       "    <tr>\n",
       "      <th>0</th>\n",
       "      <td>77940</td>\n",
       "      <td>034545104X</td>\n",
       "      <td>0</td>\n",
       "      <td>Flesh Tones: A Novel</td>\n",
       "      <td>M. J. Rose</td>\n",
       "      <td>2002</td>\n",
       "      <td>Ballantine Books</td>\n",
       "      <td>34</td>\n",
       "      <td>melaka</td>\n",
       "      <td>melaka</td>\n",
       "      <td>malaysia</td>\n",
       "    </tr>\n",
       "    <tr>\n",
       "      <th>1</th>\n",
       "      <td>77940</td>\n",
       "      <td>0671793489</td>\n",
       "      <td>0</td>\n",
       "      <td>All Around the Town</td>\n",
       "      <td>Mary Higgins Clark</td>\n",
       "      <td>1993</td>\n",
       "      <td>Pocket Star</td>\n",
       "      <td>34</td>\n",
       "      <td>melaka</td>\n",
       "      <td>melaka</td>\n",
       "      <td>malaysia</td>\n",
       "    </tr>\n",
       "    <tr>\n",
       "      <th>2</th>\n",
       "      <td>77940</td>\n",
       "      <td>0553586122</td>\n",
       "      <td>0</td>\n",
       "      <td>Reap the Wind</td>\n",
       "      <td>Iris Johansen</td>\n",
       "      <td>2002</td>\n",
       "      <td>Bantam Books</td>\n",
       "      <td>34</td>\n",
       "      <td>melaka</td>\n",
       "      <td>melaka</td>\n",
       "      <td>malaysia</td>\n",
       "    </tr>\n",
       "    <tr>\n",
       "      <th>3</th>\n",
       "      <td>77940</td>\n",
       "      <td>055358068X</td>\n",
       "      <td>0</td>\n",
       "      <td>The Least Likely Bride</td>\n",
       "      <td>Jane Feather</td>\n",
       "      <td>2000</td>\n",
       "      <td>Bantam</td>\n",
       "      <td>34</td>\n",
       "      <td>melaka</td>\n",
       "      <td>melaka</td>\n",
       "      <td>malaysia</td>\n",
       "    </tr>\n",
       "    <tr>\n",
       "      <th>4</th>\n",
       "      <td>77940</td>\n",
       "      <td>0743422732</td>\n",
       "      <td>0</td>\n",
       "      <td>High Country Bride (McKettrick Cowboys)</td>\n",
       "      <td>Linda Lael Miller</td>\n",
       "      <td>2002</td>\n",
       "      <td>Pocket</td>\n",
       "      <td>34</td>\n",
       "      <td>melaka</td>\n",
       "      <td>melaka</td>\n",
       "      <td>malaysia</td>\n",
       "    </tr>\n",
       "  </tbody>\n",
       "</table>\n",
       "</div>"
      ],
      "text/plain": [
       "   User-ID        ISBN  Book-Rating                               Book-Title  \\\n",
       "0    77940  034545104X            0                     Flesh Tones: A Novel   \n",
       "1    77940  0671793489            0                      All Around the Town   \n",
       "2    77940  0553586122            0                            Reap the Wind   \n",
       "3    77940  055358068X            0                   The Least Likely Bride   \n",
       "4    77940  0743422732            0  High Country Bride (McKettrick Cowboys)   \n",
       "\n",
       "          Book-Author  Year-Of-Publication         Publisher  Age    City  \\\n",
       "0          M. J. Rose                 2002  Ballantine Books   34  melaka   \n",
       "1  Mary Higgins Clark                 1993       Pocket Star   34  melaka   \n",
       "2       Iris Johansen                 2002      Bantam Books   34  melaka   \n",
       "3        Jane Feather                 2000            Bantam   34  melaka   \n",
       "4   Linda Lael Miller                 2002            Pocket   34  melaka   \n",
       "\n",
       "    State   Country  \n",
       "0  melaka  malaysia  \n",
       "1  melaka  malaysia  \n",
       "2  melaka  malaysia  \n",
       "3  melaka  malaysia  \n",
       "4  melaka  malaysia  "
      ]
     },
     "execution_count": 50,
     "metadata": {},
     "output_type": "execute_result"
    }
   ],
   "source": [
    "dataset = dataset.drop_duplicates(['User-ID','ISBN'],keep='first')\n",
    "dataset.head()"
   ]
  },
  {
   "cell_type": "code",
   "execution_count": 51,
   "metadata": {
    "colab": {
     "base_uri": "https://localhost:8080/",
     "height": 363
    },
    "id": "GjKY0AbsYGFb",
    "outputId": "4b13fed4-5b34-4859-f156-0df45717649d"
   },
   "outputs": [
    {
     "data": {
      "text/html": [
       "<div>\n",
       "<style scoped>\n",
       "    .dataframe tbody tr th:only-of-type {\n",
       "        vertical-align: middle;\n",
       "    }\n",
       "\n",
       "    .dataframe tbody tr th {\n",
       "        vertical-align: top;\n",
       "    }\n",
       "\n",
       "    .dataframe thead th {\n",
       "        text-align: right;\n",
       "    }\n",
       "</style>\n",
       "<table border=\"1\" class=\"dataframe\">\n",
       "  <thead>\n",
       "    <tr style=\"text-align: right;\">\n",
       "      <th></th>\n",
       "      <th>Book-Rating</th>\n",
       "      <th>Book-Author</th>\n",
       "      <th>Year-Of-Publication</th>\n",
       "      <th>Publisher</th>\n",
       "      <th>Age</th>\n",
       "      <th>City</th>\n",
       "      <th>State</th>\n",
       "      <th>Country</th>\n",
       "    </tr>\n",
       "  </thead>\n",
       "  <tbody>\n",
       "    <tr>\n",
       "      <th>46060</th>\n",
       "      <td>0</td>\n",
       "      <td>James Patterson</td>\n",
       "      <td>2002</td>\n",
       "      <td>Warner Vision</td>\n",
       "      <td>25</td>\n",
       "      <td>vienna</td>\n",
       "      <td>vienna</td>\n",
       "      <td>austria</td>\n",
       "    </tr>\n",
       "    <tr>\n",
       "      <th>119320</th>\n",
       "      <td>0</td>\n",
       "      <td>John Beardshaw</td>\n",
       "      <td>1989</td>\n",
       "      <td>Trans-Atlantic Publications</td>\n",
       "      <td>31</td>\n",
       "      <td>daventry</td>\n",
       "      <td>england</td>\n",
       "      <td>united kingdom</td>\n",
       "    </tr>\n",
       "    <tr>\n",
       "      <th>78593</th>\n",
       "      <td>0</td>\n",
       "      <td>Rich Shapero</td>\n",
       "      <td>2004</td>\n",
       "      <td>Too Far</td>\n",
       "      <td>21</td>\n",
       "      <td>dunedin</td>\n",
       "      <td>otago</td>\n",
       "      <td>new zealand</td>\n",
       "    </tr>\n",
       "    <tr>\n",
       "      <th>100665</th>\n",
       "      <td>8</td>\n",
       "      <td>Mary Bray Pipher</td>\n",
       "      <td>1999</td>\n",
       "      <td>Putnam Pub Group</td>\n",
       "      <td>34</td>\n",
       "      <td>dalkeith</td>\n",
       "      <td>ontario</td>\n",
       "      <td>canada</td>\n",
       "    </tr>\n",
       "    <tr>\n",
       "      <th>78341</th>\n",
       "      <td>7</td>\n",
       "      <td>Henriette Roland Holst-Van der Schalk</td>\n",
       "      <td>1979</td>\n",
       "      <td>Arbeiderspers</td>\n",
       "      <td>40</td>\n",
       "      <td>enschede</td>\n",
       "      <td>overijssel</td>\n",
       "      <td>netherlands</td>\n",
       "    </tr>\n",
       "    <tr>\n",
       "      <th>46865</th>\n",
       "      <td>5</td>\n",
       "      <td>Stephen King</td>\n",
       "      <td>1986</td>\n",
       "      <td>Signet Book</td>\n",
       "      <td>38</td>\n",
       "      <td>kyoto</td>\n",
       "      <td>kyoto</td>\n",
       "      <td>japan</td>\n",
       "    </tr>\n",
       "    <tr>\n",
       "      <th>131648</th>\n",
       "      <td>0</td>\n",
       "      <td>Utta Danella</td>\n",
       "      <td>2002</td>\n",
       "      <td>Goldmann</td>\n",
       "      <td>15</td>\n",
       "      <td>lengenfeld</td>\n",
       "      <td>sachsen</td>\n",
       "      <td>germany</td>\n",
       "    </tr>\n",
       "    <tr>\n",
       "      <th>83954</th>\n",
       "      <td>0</td>\n",
       "      <td>SOPHIE KINSELLA</td>\n",
       "      <td>2001</td>\n",
       "      <td>Delta</td>\n",
       "      <td>30</td>\n",
       "      <td>blairmore</td>\n",
       "      <td>alberta</td>\n",
       "      <td>canada</td>\n",
       "    </tr>\n",
       "    <tr>\n",
       "      <th>28168</th>\n",
       "      <td>0</td>\n",
       "      <td>Rosamunde Pilcher</td>\n",
       "      <td>1999</td>\n",
       "      <td>WUNDERLICH VLG.</td>\n",
       "      <td>34</td>\n",
       "      <td>wien</td>\n",
       "      <td>wien</td>\n",
       "      <td>austria</td>\n",
       "    </tr>\n",
       "    <tr>\n",
       "      <th>52228</th>\n",
       "      <td>0</td>\n",
       "      <td>Duncan Kyle</td>\n",
       "      <td>1987</td>\n",
       "      <td>HarperCollins Publishers</td>\n",
       "      <td>47</td>\n",
       "      <td>toronto</td>\n",
       "      <td>ontario</td>\n",
       "      <td>canada</td>\n",
       "    </tr>\n",
       "  </tbody>\n",
       "</table>\n",
       "</div>"
      ],
      "text/plain": [
       "        Book-Rating                            Book-Author  \\\n",
       "46060             0                        James Patterson   \n",
       "119320            0                         John Beardshaw   \n",
       "78593             0                           Rich Shapero   \n",
       "100665            8                       Mary Bray Pipher   \n",
       "78341             7  Henriette Roland Holst-Van der Schalk   \n",
       "46865             5                           Stephen King   \n",
       "131648            0                           Utta Danella   \n",
       "83954             0                        SOPHIE KINSELLA   \n",
       "28168             0                      Rosamunde Pilcher   \n",
       "52228             0                            Duncan Kyle   \n",
       "\n",
       "        Year-Of-Publication                    Publisher  Age        City  \\\n",
       "46060                  2002                Warner Vision   25      vienna   \n",
       "119320                 1989  Trans-Atlantic Publications   31    daventry   \n",
       "78593                  2004                      Too Far   21     dunedin   \n",
       "100665                 1999             Putnam Pub Group   34    dalkeith   \n",
       "78341                  1979                Arbeiderspers   40    enschede   \n",
       "46865                  1986                  Signet Book   38       kyoto   \n",
       "131648                 2002                     Goldmann   15  lengenfeld   \n",
       "83954                  2001                        Delta   30   blairmore   \n",
       "28168                  1999              WUNDERLICH VLG.   34        wien   \n",
       "52228                  1987     HarperCollins Publishers   47     toronto   \n",
       "\n",
       "             State         Country  \n",
       "46060       vienna         austria  \n",
       "119320     england  united kingdom  \n",
       "78593        otago     new zealand  \n",
       "100665     ontario          canada  \n",
       "78341   overijssel     netherlands  \n",
       "46865        kyoto           japan  \n",
       "131648     sachsen         germany  \n",
       "83954      alberta          canada  \n",
       "28168         wien         austria  \n",
       "52228      ontario          canada  "
      ]
     },
     "execution_count": 51,
     "metadata": {},
     "output_type": "execute_result"
    }
   ],
   "source": [
    "dataset[['Book-Rating','Book-Author','Year-Of-Publication','Publisher','Age','City','State','Country']].sample(10)"
   ]
  },
  {
   "cell_type": "markdown",
   "metadata": {
    "id": "ieKt90yAYGFb"
   },
   "source": [
    "#### Selecting the required columns for training"
   ]
  },
  {
   "cell_type": "code",
   "execution_count": 52,
   "metadata": {
    "colab": {
     "base_uri": "https://localhost:8080/"
    },
    "id": "WSVotNkPYGFb",
    "outputId": "36c50c62-70c3-4f2a-d1d2-28424956a9c3"
   },
   "outputs": [
    {
     "name": "stdout",
     "output_type": "stream",
     "text": [
      "<class 'pandas.core.frame.DataFrame'>\n",
      "RangeIndex: 132920 entries, 0 to 132919\n",
      "Data columns (total 8 columns):\n",
      " #   Column               Non-Null Count   Dtype \n",
      "---  ------               --------------   ----- \n",
      " 0   Book-Rating          132920 non-null  int64 \n",
      " 1   Book-Author          132919 non-null  object\n",
      " 2   Year-Of-Publication  132920 non-null  int32 \n",
      " 3   Publisher            132920 non-null  object\n",
      " 4   Age                  132920 non-null  int32 \n",
      " 5   City                 132920 non-null  object\n",
      " 6   State                132920 non-null  object\n",
      " 7   Country              132920 non-null  object\n",
      "dtypes: int32(2), int64(1), object(5)\n",
      "memory usage: 7.1+ MB\n"
     ]
    }
   ],
   "source": [
    "recomendation_dataset = dataset[['Book-Rating','Book-Author','Year-Of-Publication','Publisher','Age','City','State','Country']].copy()\n",
    "recomendation_dataset.info()"
   ]
  },
  {
   "cell_type": "markdown",
   "metadata": {
    "id": "eyofIYQ8YGFb"
   },
   "source": [
    "#### Label encoding all catecorical columns"
   ]
  },
  {
   "cell_type": "code",
   "execution_count": 53,
   "metadata": {
    "id": "nzReR7alYGFb"
   },
   "outputs": [],
   "source": [
    "encoder = LabelEncoder()\n",
    "for column in recomendation_dataset.columns:\n",
    "    if recomendation_dataset[column].dtype == object:\n",
    "        recomendation_dataset[column] = encoder.fit_transform(recomendation_dataset[column])\n"
   ]
  },
  {
   "cell_type": "code",
   "execution_count": 54,
   "metadata": {
    "colab": {
     "base_uri": "https://localhost:8080/",
     "height": 424
    },
    "id": "tG4xmMBqYGFc",
    "outputId": "e024b230-95f6-4e28-a924-b3050a0af258"
   },
   "outputs": [
    {
     "data": {
      "text/html": [
       "<div>\n",
       "<style scoped>\n",
       "    .dataframe tbody tr th:only-of-type {\n",
       "        vertical-align: middle;\n",
       "    }\n",
       "\n",
       "    .dataframe tbody tr th {\n",
       "        vertical-align: top;\n",
       "    }\n",
       "\n",
       "    .dataframe thead th {\n",
       "        text-align: right;\n",
       "    }\n",
       "</style>\n",
       "<table border=\"1\" class=\"dataframe\">\n",
       "  <thead>\n",
       "    <tr style=\"text-align: right;\">\n",
       "      <th></th>\n",
       "      <th>Book-Rating</th>\n",
       "      <th>Book-Author</th>\n",
       "      <th>Year-Of-Publication</th>\n",
       "      <th>Publisher</th>\n",
       "      <th>Age</th>\n",
       "      <th>City</th>\n",
       "      <th>State</th>\n",
       "      <th>Country</th>\n",
       "    </tr>\n",
       "  </thead>\n",
       "  <tbody>\n",
       "    <tr>\n",
       "      <th>0</th>\n",
       "      <td>0</td>\n",
       "      <td>19612</td>\n",
       "      <td>2002</td>\n",
       "      <td>509</td>\n",
       "      <td>34</td>\n",
       "      <td>1645</td>\n",
       "      <td>405</td>\n",
       "      <td>50</td>\n",
       "    </tr>\n",
       "    <tr>\n",
       "      <th>1</th>\n",
       "      <td>0</td>\n",
       "      <td>21072</td>\n",
       "      <td>1993</td>\n",
       "      <td>4719</td>\n",
       "      <td>34</td>\n",
       "      <td>1645</td>\n",
       "      <td>405</td>\n",
       "      <td>50</td>\n",
       "    </tr>\n",
       "    <tr>\n",
       "      <th>2</th>\n",
       "      <td>0</td>\n",
       "      <td>12763</td>\n",
       "      <td>2002</td>\n",
       "      <td>521</td>\n",
       "      <td>34</td>\n",
       "      <td>1645</td>\n",
       "      <td>405</td>\n",
       "      <td>50</td>\n",
       "    </tr>\n",
       "    <tr>\n",
       "      <th>3</th>\n",
       "      <td>0</td>\n",
       "      <td>13844</td>\n",
       "      <td>2000</td>\n",
       "      <td>519</td>\n",
       "      <td>34</td>\n",
       "      <td>1645</td>\n",
       "      <td>405</td>\n",
       "      <td>50</td>\n",
       "    </tr>\n",
       "    <tr>\n",
       "      <th>4</th>\n",
       "      <td>0</td>\n",
       "      <td>18838</td>\n",
       "      <td>2002</td>\n",
       "      <td>4712</td>\n",
       "      <td>34</td>\n",
       "      <td>1645</td>\n",
       "      <td>405</td>\n",
       "      <td>50</td>\n",
       "    </tr>\n",
       "    <tr>\n",
       "      <th>...</th>\n",
       "      <td>...</td>\n",
       "      <td>...</td>\n",
       "      <td>...</td>\n",
       "      <td>...</td>\n",
       "      <td>...</td>\n",
       "      <td>...</td>\n",
       "      <td>...</td>\n",
       "      <td>...</td>\n",
       "    </tr>\n",
       "    <tr>\n",
       "      <th>132915</th>\n",
       "      <td>0</td>\n",
       "      <td>12627</td>\n",
       "      <td>2003</td>\n",
       "      <td>1889</td>\n",
       "      <td>24</td>\n",
       "      <td>2885</td>\n",
       "      <td>15</td>\n",
       "      <td>76</td>\n",
       "    </tr>\n",
       "    <tr>\n",
       "      <th>132916</th>\n",
       "      <td>0</td>\n",
       "      <td>14219</td>\n",
       "      <td>2001</td>\n",
       "      <td>2420</td>\n",
       "      <td>50</td>\n",
       "      <td>2909</td>\n",
       "      <td>757</td>\n",
       "      <td>79</td>\n",
       "    </tr>\n",
       "    <tr>\n",
       "      <th>132917</th>\n",
       "      <td>6</td>\n",
       "      <td>16965</td>\n",
       "      <td>2004</td>\n",
       "      <td>6340</td>\n",
       "      <td>41</td>\n",
       "      <td>59</td>\n",
       "      <td>496</td>\n",
       "      <td>16</td>\n",
       "    </tr>\n",
       "    <tr>\n",
       "      <th>132918</th>\n",
       "      <td>0</td>\n",
       "      <td>29771</td>\n",
       "      <td>2000</td>\n",
       "      <td>231</td>\n",
       "      <td>27</td>\n",
       "      <td>2675</td>\n",
       "      <td>706</td>\n",
       "      <td>6</td>\n",
       "    </tr>\n",
       "    <tr>\n",
       "      <th>132919</th>\n",
       "      <td>0</td>\n",
       "      <td>19005</td>\n",
       "      <td>1998</td>\n",
       "      <td>197</td>\n",
       "      <td>34</td>\n",
       "      <td>2545</td>\n",
       "      <td>496</td>\n",
       "      <td>16</td>\n",
       "    </tr>\n",
       "  </tbody>\n",
       "</table>\n",
       "<p>132920 rows × 8 columns</p>\n",
       "</div>"
      ],
      "text/plain": [
       "        Book-Rating  Book-Author  Year-Of-Publication  Publisher  Age  City  \\\n",
       "0                 0        19612                 2002        509   34  1645   \n",
       "1                 0        21072                 1993       4719   34  1645   \n",
       "2                 0        12763                 2002        521   34  1645   \n",
       "3                 0        13844                 2000        519   34  1645   \n",
       "4                 0        18838                 2002       4712   34  1645   \n",
       "...             ...          ...                  ...        ...  ...   ...   \n",
       "132915            0        12627                 2003       1889   24  2885   \n",
       "132916            0        14219                 2001       2420   50  2909   \n",
       "132917            6        16965                 2004       6340   41    59   \n",
       "132918            0        29771                 2000        231   27  2675   \n",
       "132919            0        19005                 1998        197   34  2545   \n",
       "\n",
       "        State  Country  \n",
       "0         405       50  \n",
       "1         405       50  \n",
       "2         405       50  \n",
       "3         405       50  \n",
       "4         405       50  \n",
       "...       ...      ...  \n",
       "132915     15       76  \n",
       "132916    757       79  \n",
       "132917    496       16  \n",
       "132918    706        6  \n",
       "132919    496       16  \n",
       "\n",
       "[132920 rows x 8 columns]"
      ]
     },
     "execution_count": 54,
     "metadata": {},
     "output_type": "execute_result"
    }
   ],
   "source": [
    "recomendation_dataset"
   ]
  },
  {
   "cell_type": "markdown",
   "metadata": {
    "id": "YwpJcIwnYGFc"
   },
   "source": [
    "#### Normalizing every column to range between 0 and 1"
   ]
  },
  {
   "cell_type": "code",
   "execution_count": 55,
   "metadata": {
    "id": "KX3VtuYgYGFc"
   },
   "outputs": [],
   "source": [
    "def normalizer(data,min,max):\n",
    "    return (data - min) / (max - min)"
   ]
  },
  {
   "cell_type": "code",
   "execution_count": 56,
   "metadata": {
    "id": "KM3LqP5_YGFc"
   },
   "outputs": [],
   "source": [
    "for column in recomendation_dataset.columns:\n",
    "    min = recomendation_dataset[column].min()\n",
    "    max = recomendation_dataset[column].max()\n",
    "    recomendation_dataset[column] = recomendation_dataset[column].apply(normalizer,args=(min,max))\n"
   ]
  },
  {
   "cell_type": "code",
   "execution_count": 57,
   "metadata": {
    "colab": {
     "base_uri": "https://localhost:8080/",
     "height": 424
    },
    "id": "oxLt-jgcYGFc",
    "outputId": "d696e8ec-d833-4c21-90b5-e696da82641e"
   },
   "outputs": [
    {
     "data": {
      "text/html": [
       "<div>\n",
       "<style scoped>\n",
       "    .dataframe tbody tr th:only-of-type {\n",
       "        vertical-align: middle;\n",
       "    }\n",
       "\n",
       "    .dataframe tbody tr th {\n",
       "        vertical-align: top;\n",
       "    }\n",
       "\n",
       "    .dataframe thead th {\n",
       "        text-align: right;\n",
       "    }\n",
       "</style>\n",
       "<table border=\"1\" class=\"dataframe\">\n",
       "  <thead>\n",
       "    <tr style=\"text-align: right;\">\n",
       "      <th></th>\n",
       "      <th>Book-Rating</th>\n",
       "      <th>Book-Author</th>\n",
       "      <th>Year-Of-Publication</th>\n",
       "      <th>Publisher</th>\n",
       "      <th>Age</th>\n",
       "      <th>City</th>\n",
       "      <th>State</th>\n",
       "      <th>Country</th>\n",
       "    </tr>\n",
       "  </thead>\n",
       "  <tbody>\n",
       "    <tr>\n",
       "      <th>0</th>\n",
       "      <td>0.0</td>\n",
       "      <td>0.603799</td>\n",
       "      <td>0.675676</td>\n",
       "      <td>0.076118</td>\n",
       "      <td>0.3000</td>\n",
       "      <td>0.565486</td>\n",
       "      <td>0.535007</td>\n",
       "      <td>0.549451</td>\n",
       "    </tr>\n",
       "    <tr>\n",
       "      <th>1</th>\n",
       "      <td>0.0</td>\n",
       "      <td>0.648748</td>\n",
       "      <td>0.614865</td>\n",
       "      <td>0.705698</td>\n",
       "      <td>0.3000</td>\n",
       "      <td>0.565486</td>\n",
       "      <td>0.535007</td>\n",
       "      <td>0.549451</td>\n",
       "    </tr>\n",
       "    <tr>\n",
       "      <th>2</th>\n",
       "      <td>0.0</td>\n",
       "      <td>0.392937</td>\n",
       "      <td>0.675676</td>\n",
       "      <td>0.077912</td>\n",
       "      <td>0.3000</td>\n",
       "      <td>0.565486</td>\n",
       "      <td>0.535007</td>\n",
       "      <td>0.549451</td>\n",
       "    </tr>\n",
       "    <tr>\n",
       "      <th>3</th>\n",
       "      <td>0.0</td>\n",
       "      <td>0.426218</td>\n",
       "      <td>0.662162</td>\n",
       "      <td>0.077613</td>\n",
       "      <td>0.3000</td>\n",
       "      <td>0.565486</td>\n",
       "      <td>0.535007</td>\n",
       "      <td>0.549451</td>\n",
       "    </tr>\n",
       "    <tr>\n",
       "      <th>4</th>\n",
       "      <td>0.0</td>\n",
       "      <td>0.579970</td>\n",
       "      <td>0.675676</td>\n",
       "      <td>0.704651</td>\n",
       "      <td>0.3000</td>\n",
       "      <td>0.565486</td>\n",
       "      <td>0.535007</td>\n",
       "      <td>0.549451</td>\n",
       "    </tr>\n",
       "    <tr>\n",
       "      <th>...</th>\n",
       "      <td>...</td>\n",
       "      <td>...</td>\n",
       "      <td>...</td>\n",
       "      <td>...</td>\n",
       "      <td>...</td>\n",
       "      <td>...</td>\n",
       "      <td>...</td>\n",
       "      <td>...</td>\n",
       "    </tr>\n",
       "    <tr>\n",
       "      <th>132915</th>\n",
       "      <td>0.0</td>\n",
       "      <td>0.388750</td>\n",
       "      <td>0.682432</td>\n",
       "      <td>0.282488</td>\n",
       "      <td>0.1750</td>\n",
       "      <td>0.991750</td>\n",
       "      <td>0.019815</td>\n",
       "      <td>0.835165</td>\n",
       "    </tr>\n",
       "    <tr>\n",
       "      <th>132916</th>\n",
       "      <td>0.0</td>\n",
       "      <td>0.437764</td>\n",
       "      <td>0.668919</td>\n",
       "      <td>0.361896</td>\n",
       "      <td>0.5000</td>\n",
       "      <td>1.000000</td>\n",
       "      <td>1.000000</td>\n",
       "      <td>0.868132</td>\n",
       "    </tr>\n",
       "    <tr>\n",
       "      <th>132917</th>\n",
       "      <td>0.6</td>\n",
       "      <td>0.522305</td>\n",
       "      <td>0.689189</td>\n",
       "      <td>0.948108</td>\n",
       "      <td>0.3875</td>\n",
       "      <td>0.020282</td>\n",
       "      <td>0.655218</td>\n",
       "      <td>0.175824</td>\n",
       "    </tr>\n",
       "    <tr>\n",
       "      <th>132918</th>\n",
       "      <td>0.0</td>\n",
       "      <td>0.916567</td>\n",
       "      <td>0.662162</td>\n",
       "      <td>0.034545</td>\n",
       "      <td>0.2125</td>\n",
       "      <td>0.919560</td>\n",
       "      <td>0.932629</td>\n",
       "      <td>0.065934</td>\n",
       "    </tr>\n",
       "    <tr>\n",
       "      <th>132919</th>\n",
       "      <td>0.0</td>\n",
       "      <td>0.585111</td>\n",
       "      <td>0.648649</td>\n",
       "      <td>0.029460</td>\n",
       "      <td>0.3000</td>\n",
       "      <td>0.874871</td>\n",
       "      <td>0.655218</td>\n",
       "      <td>0.175824</td>\n",
       "    </tr>\n",
       "  </tbody>\n",
       "</table>\n",
       "<p>132920 rows × 8 columns</p>\n",
       "</div>"
      ],
      "text/plain": [
       "        Book-Rating  Book-Author  Year-Of-Publication  Publisher     Age  \\\n",
       "0               0.0     0.603799             0.675676   0.076118  0.3000   \n",
       "1               0.0     0.648748             0.614865   0.705698  0.3000   \n",
       "2               0.0     0.392937             0.675676   0.077912  0.3000   \n",
       "3               0.0     0.426218             0.662162   0.077613  0.3000   \n",
       "4               0.0     0.579970             0.675676   0.704651  0.3000   \n",
       "...             ...          ...                  ...        ...     ...   \n",
       "132915          0.0     0.388750             0.682432   0.282488  0.1750   \n",
       "132916          0.0     0.437764             0.668919   0.361896  0.5000   \n",
       "132917          0.6     0.522305             0.689189   0.948108  0.3875   \n",
       "132918          0.0     0.916567             0.662162   0.034545  0.2125   \n",
       "132919          0.0     0.585111             0.648649   0.029460  0.3000   \n",
       "\n",
       "            City     State   Country  \n",
       "0       0.565486  0.535007  0.549451  \n",
       "1       0.565486  0.535007  0.549451  \n",
       "2       0.565486  0.535007  0.549451  \n",
       "3       0.565486  0.535007  0.549451  \n",
       "4       0.565486  0.535007  0.549451  \n",
       "...          ...       ...       ...  \n",
       "132915  0.991750  0.019815  0.835165  \n",
       "132916  1.000000  1.000000  0.868132  \n",
       "132917  0.020282  0.655218  0.175824  \n",
       "132918  0.919560  0.932629  0.065934  \n",
       "132919  0.874871  0.655218  0.175824  \n",
       "\n",
       "[132920 rows x 8 columns]"
      ]
     },
     "execution_count": 57,
     "metadata": {},
     "output_type": "execute_result"
    }
   ],
   "source": [
    "recomendation_dataset"
   ]
  },
  {
   "cell_type": "markdown",
   "metadata": {
    "id": "ifd7wySXYGFc"
   },
   "source": [
    "#### KMeans"
   ]
  },
  {
   "cell_type": "code",
   "execution_count": 58,
   "metadata": {
    "colab": {
     "base_uri": "https://localhost:8080/",
     "height": 447
    },
    "id": "rZGPzODIYGFd",
    "outputId": "291ea149-c6f0-4243-8934-40fe1391723d"
   },
   "outputs": [
    {
     "data": {
      "text/plain": [
       "[<matplotlib.lines.Line2D at 0x1a134c95ed0>]"
      ]
     },
     "execution_count": 58,
     "metadata": {},
     "output_type": "execute_result"
    },
    {
     "data": {
      "image/png": "[encoded data removed]",
      "text/plain": [
       "<Figure size 640x480 with 1 Axes>"
      ]
     },
     "metadata": {},
     "output_type": "display_data"
    }
   ],
   "source": [
    "inertias = []\n",
    "for i in range(1,11):\n",
    "    km = KMeans(n_clusters = i,n_init = 'auto')\n",
    "    km.fit(recomendation_dataset)\n",
    "    inertias.append(km.inertia_)\n",
    "plt.plot(range(1,11),inertias)\n"
   ]
  },
  {
   "cell_type": "code",
   "execution_count": 59,
   "metadata": {
    "id": "97Ch7pe-YGFd"
   },
   "outputs": [],
   "source": [
    "kmeans = KMeans(n_clusters= 5,n_init = 'auto')\n",
    "clusters = kmeans.fit_predict(recomendation_dataset)\n"
   ]
  },
  {
   "cell_type": "markdown",
   "metadata": {
    "id": "jgSz4hTWYGFd"
   },
   "source": [
    "#### Appending cluster values back to our training dataset"
   ]
  },
  {
   "cell_type": "code",
   "execution_count": 60,
   "metadata": {
    "id": "oMsggFOlYGFd"
   },
   "outputs": [],
   "source": [
    "recomendation_dataset['Clusters'] = clusters"
   ]
  },
  {
   "cell_type": "code",
   "execution_count": 61,
   "metadata": {
    "colab": {
     "base_uri": "https://localhost:8080/"
    },
    "id": "fb-OWsUqYGFd",
    "outputId": "c6334d0f-3740-488e-85f0-720ca242dd5a"
   },
   "outputs": [
    {
     "data": {
      "text/plain": [
       "Clusters\n",
       "1    38288\n",
       "4    27886\n",
       "2    26481\n",
       "3    21612\n",
       "0    18653\n",
       "Name: count, dtype: int64"
      ]
     },
     "execution_count": 61,
     "metadata": {},
     "output_type": "execute_result"
    }
   ],
   "source": [
    "recomendation_dataset['Clusters'].value_counts()"
   ]
  },
  {
   "cell_type": "code",
   "execution_count": 62,
   "metadata": {
    "colab": {
     "base_uri": "https://localhost:8080/",
     "height": 424
    },
    "id": "7bNQsI15YGFd",
    "outputId": "cb7cc8b6-156d-4999-af27-4d1711512819"
   },
   "outputs": [
    {
     "data": {
      "text/html": [
       "<div>\n",
       "<style scoped>\n",
       "    .dataframe tbody tr th:only-of-type {\n",
       "        vertical-align: middle;\n",
       "    }\n",
       "\n",
       "    .dataframe tbody tr th {\n",
       "        vertical-align: top;\n",
       "    }\n",
       "\n",
       "    .dataframe thead th {\n",
       "        text-align: right;\n",
       "    }\n",
       "</style>\n",
       "<table border=\"1\" class=\"dataframe\">\n",
       "  <thead>\n",
       "    <tr style=\"text-align: right;\">\n",
       "      <th></th>\n",
       "      <th>Book-Rating</th>\n",
       "      <th>Book-Author</th>\n",
       "      <th>Year-Of-Publication</th>\n",
       "      <th>Publisher</th>\n",
       "      <th>Age</th>\n",
       "      <th>City</th>\n",
       "      <th>State</th>\n",
       "      <th>Country</th>\n",
       "      <th>Clusters</th>\n",
       "    </tr>\n",
       "  </thead>\n",
       "  <tbody>\n",
       "    <tr>\n",
       "      <th>0</th>\n",
       "      <td>0.0</td>\n",
       "      <td>0.603799</td>\n",
       "      <td>0.675676</td>\n",
       "      <td>0.076118</td>\n",
       "      <td>0.3000</td>\n",
       "      <td>0.565486</td>\n",
       "      <td>0.535007</td>\n",
       "      <td>0.549451</td>\n",
       "      <td>2</td>\n",
       "    </tr>\n",
       "    <tr>\n",
       "      <th>1</th>\n",
       "      <td>0.0</td>\n",
       "      <td>0.648748</td>\n",
       "      <td>0.614865</td>\n",
       "      <td>0.705698</td>\n",
       "      <td>0.3000</td>\n",
       "      <td>0.565486</td>\n",
       "      <td>0.535007</td>\n",
       "      <td>0.549451</td>\n",
       "      <td>2</td>\n",
       "    </tr>\n",
       "    <tr>\n",
       "      <th>2</th>\n",
       "      <td>0.0</td>\n",
       "      <td>0.392937</td>\n",
       "      <td>0.675676</td>\n",
       "      <td>0.077912</td>\n",
       "      <td>0.3000</td>\n",
       "      <td>0.565486</td>\n",
       "      <td>0.535007</td>\n",
       "      <td>0.549451</td>\n",
       "      <td>2</td>\n",
       "    </tr>\n",
       "    <tr>\n",
       "      <th>3</th>\n",
       "      <td>0.0</td>\n",
       "      <td>0.426218</td>\n",
       "      <td>0.662162</td>\n",
       "      <td>0.077613</td>\n",
       "      <td>0.3000</td>\n",
       "      <td>0.565486</td>\n",
       "      <td>0.535007</td>\n",
       "      <td>0.549451</td>\n",
       "      <td>2</td>\n",
       "    </tr>\n",
       "    <tr>\n",
       "      <th>4</th>\n",
       "      <td>0.0</td>\n",
       "      <td>0.579970</td>\n",
       "      <td>0.675676</td>\n",
       "      <td>0.704651</td>\n",
       "      <td>0.3000</td>\n",
       "      <td>0.565486</td>\n",
       "      <td>0.535007</td>\n",
       "      <td>0.549451</td>\n",
       "      <td>2</td>\n",
       "    </tr>\n",
       "    <tr>\n",
       "      <th>...</th>\n",
       "      <td>...</td>\n",
       "      <td>...</td>\n",
       "      <td>...</td>\n",
       "      <td>...</td>\n",
       "      <td>...</td>\n",
       "      <td>...</td>\n",
       "      <td>...</td>\n",
       "      <td>...</td>\n",
       "      <td>...</td>\n",
       "    </tr>\n",
       "    <tr>\n",
       "      <th>132915</th>\n",
       "      <td>0.0</td>\n",
       "      <td>0.388750</td>\n",
       "      <td>0.682432</td>\n",
       "      <td>0.282488</td>\n",
       "      <td>0.1750</td>\n",
       "      <td>0.991750</td>\n",
       "      <td>0.019815</td>\n",
       "      <td>0.835165</td>\n",
       "      <td>2</td>\n",
       "    </tr>\n",
       "    <tr>\n",
       "      <th>132916</th>\n",
       "      <td>0.0</td>\n",
       "      <td>0.437764</td>\n",
       "      <td>0.668919</td>\n",
       "      <td>0.361896</td>\n",
       "      <td>0.5000</td>\n",
       "      <td>1.000000</td>\n",
       "      <td>1.000000</td>\n",
       "      <td>0.868132</td>\n",
       "      <td>2</td>\n",
       "    </tr>\n",
       "    <tr>\n",
       "      <th>132917</th>\n",
       "      <td>0.6</td>\n",
       "      <td>0.522305</td>\n",
       "      <td>0.689189</td>\n",
       "      <td>0.948108</td>\n",
       "      <td>0.3875</td>\n",
       "      <td>0.020282</td>\n",
       "      <td>0.655218</td>\n",
       "      <td>0.175824</td>\n",
       "      <td>4</td>\n",
       "    </tr>\n",
       "    <tr>\n",
       "      <th>132918</th>\n",
       "      <td>0.0</td>\n",
       "      <td>0.916567</td>\n",
       "      <td>0.662162</td>\n",
       "      <td>0.034545</td>\n",
       "      <td>0.2125</td>\n",
       "      <td>0.919560</td>\n",
       "      <td>0.932629</td>\n",
       "      <td>0.065934</td>\n",
       "      <td>1</td>\n",
       "    </tr>\n",
       "    <tr>\n",
       "      <th>132919</th>\n",
       "      <td>0.0</td>\n",
       "      <td>0.585111</td>\n",
       "      <td>0.648649</td>\n",
       "      <td>0.029460</td>\n",
       "      <td>0.3000</td>\n",
       "      <td>0.874871</td>\n",
       "      <td>0.655218</td>\n",
       "      <td>0.175824</td>\n",
       "      <td>1</td>\n",
       "    </tr>\n",
       "  </tbody>\n",
       "</table>\n",
       "<p>132920 rows × 9 columns</p>\n",
       "</div>"
      ],
      "text/plain": [
       "        Book-Rating  Book-Author  Year-Of-Publication  Publisher     Age  \\\n",
       "0               0.0     0.603799             0.675676   0.076118  0.3000   \n",
       "1               0.0     0.648748             0.614865   0.705698  0.3000   \n",
       "2               0.0     0.392937             0.675676   0.077912  0.3000   \n",
       "3               0.0     0.426218             0.662162   0.077613  0.3000   \n",
       "4               0.0     0.579970             0.675676   0.704651  0.3000   \n",
       "...             ...          ...                  ...        ...     ...   \n",
       "132915          0.0     0.388750             0.682432   0.282488  0.1750   \n",
       "132916          0.0     0.437764             0.668919   0.361896  0.5000   \n",
       "132917          0.6     0.522305             0.689189   0.948108  0.3875   \n",
       "132918          0.0     0.916567             0.662162   0.034545  0.2125   \n",
       "132919          0.0     0.585111             0.648649   0.029460  0.3000   \n",
       "\n",
       "            City     State   Country  Clusters  \n",
       "0       0.565486  0.535007  0.549451         2  \n",
       "1       0.565486  0.535007  0.549451         2  \n",
       "2       0.565486  0.535007  0.549451         2  \n",
       "3       0.565486  0.535007  0.549451         2  \n",
       "4       0.565486  0.535007  0.549451         2  \n",
       "...          ...       ...       ...       ...  \n",
       "132915  0.991750  0.019815  0.835165         2  \n",
       "132916  1.000000  1.000000  0.868132         2  \n",
       "132917  0.020282  0.655218  0.175824         4  \n",
       "132918  0.919560  0.932629  0.065934         1  \n",
       "132919  0.874871  0.655218  0.175824         1  \n",
       "\n",
       "[132920 rows x 9 columns]"
      ]
     },
     "execution_count": 62,
     "metadata": {},
     "output_type": "execute_result"
    }
   ],
   "source": [
    "recomendation_dataset"
   ]
  },
  {
   "cell_type": "markdown",
   "metadata": {
    "id": "oqaPcJbOYGFd"
   },
   "source": [
    "#### Selecting training and test data"
   ]
  },
  {
   "cell_type": "code",
   "execution_count": 63,
   "metadata": {
    "id": "vOQCOTJmYGFd"
   },
   "outputs": [],
   "source": [
    "train_df,test_df = recomendation_dataset.iloc[:,:-1],recomendation_dataset.iloc[:,-1]"
   ]
  },
  {
   "cell_type": "markdown",
   "metadata": {
    "id": "Xq_TwOcVYGFd"
   },
   "source": [
    "#### Splitting training and testing dataset"
   ]
  },
  {
   "cell_type": "code",
   "execution_count": 64,
   "metadata": {
    "id": "li6YfYT2YGFe"
   },
   "outputs": [],
   "source": [
    "train_X,test_x,train_y,test_y = train_test_split(train_df,test_df,test_size=0.2)"
   ]
  },
  {
   "cell_type": "markdown",
   "metadata": {
    "id": "JtVo0K9jYGFe"
   },
   "source": [
    "#### ROCCHIO CLASSIFIER"
   ]
  },
  {
   "cell_type": "markdown",
   "metadata": {
    "id": "SuBhKy-iYGFe"
   },
   "source": [
    "#### Creating an instance of Rocchio classifier"
   ]
  },
  {
   "cell_type": "code",
   "execution_count": 65,
   "metadata": {
    "colab": {
     "base_uri": "https://localhost:8080/",
     "height": 75
    },
    "id": "1Yu65cH_YGFe",
    "outputId": "45e2a847-c3c4-428e-da2c-3c201062c0a0"
   },
   "outputs": [
    {
     "data": {
      "text/html": [
       "<style>#sk-container-id-1 {color: black;background-color: white;}#sk-container-id-1 pre{padding: 0;}#sk-container-id-1 div.sk-toggleable {background-color: white;}#sk-container-id-1 label.sk-toggleable__label {cursor: pointer;display: block;width: 100%;margin-bottom: 0;padding: 0.3em;box-sizing: border-box;text-align: center;}#sk-container-id-1 label.sk-toggleable__label-arrow:before {content: \"▸\";float: left;margin-right: 0.25em;color: #696969;}#sk-container-id-1 label.sk-toggleable__label-arrow:hover:before {color: black;}#sk-container-id-1 div.sk-estimator:hover label.sk-toggleable__label-arrow:before {color: black;}#sk-container-id-1 div.sk-toggleable__content {max-height: 0;max-width: 0;overflow: hidden;text-align: left;background-color: #f0f8ff;}#sk-container-id-1 div.sk-toggleable__content pre {margin: 0.2em;color: black;border-radius: 0.25em;background-color: #f0f8ff;}#sk-container-id-1 input.sk-toggleable__control:checked~div.sk-toggleable__content {max-height: 200px;max-width: 100%;overflow: auto;}#sk-container-id-1 input.sk-toggleable__control:checked~label.sk-toggleable__label-arrow:before {content: \"▾\";}#sk-container-id-1 div.sk-estimator input.sk-toggleable__control:checked~label.sk-toggleable__label {background-color: #d4ebff;}#sk-container-id-1 div.sk-label input.sk-toggleable__control:checked~label.sk-toggleable__label {background-color: #d4ebff;}#sk-container-id-1 input.sk-hidden--visually {border: 0;clip: rect(1px 1px 1px 1px);clip: rect(1px, 1px, 1px, 1px);height: 1px;margin: -1px;overflow: hidden;padding: 0;position: absolute;width: 1px;}#sk-container-id-1 div.sk-estimator {font-family: monospace;background-color: #f0f8ff;border: 1px dotted black;border-radius: 0.25em;box-sizing: border-box;margin-bottom: 0.5em;}#sk-container-id-1 div.sk-estimator:hover {background-color: #d4ebff;}#sk-container-id-1 div.sk-parallel-item::after {content: \"\";width: 100%;border-bottom: 1px solid gray;flex-grow: 1;}#sk-container-id-1 div.sk-label:hover label.sk-toggleable__label {background-color: #d4ebff;}#sk-container-id-1 div.sk-serial::before {content: \"\";position: absolute;border-left: 1px solid gray;box-sizing: border-box;top: 0;bottom: 0;left: 50%;z-index: 0;}#sk-container-id-1 div.sk-serial {display: flex;flex-direction: column;align-items: center;background-color: white;padding-right: 0.2em;padding-left: 0.2em;position: relative;}#sk-container-id-1 div.sk-item {position: relative;z-index: 1;}#sk-container-id-1 div.sk-parallel {display: flex;align-items: stretch;justify-content: center;background-color: white;position: relative;}#sk-container-id-1 div.sk-item::before, #sk-container-id-1 div.sk-parallel-item::before {content: \"\";position: absolute;border-left: 1px solid gray;box-sizing: border-box;top: 0;bottom: 0;left: 50%;z-index: -1;}#sk-container-id-1 div.sk-parallel-item {display: flex;flex-direction: column;z-index: 1;position: relative;background-color: white;}#sk-container-id-1 div.sk-parallel-item:first-child::after {align-self: flex-end;width: 50%;}#sk-container-id-1 div.sk-parallel-item:last-child::after {align-self: flex-start;width: 50%;}#sk-container-id-1 div.sk-parallel-item:only-child::after {width: 0;}#sk-container-id-1 div.sk-dashed-wrapped {border: 1px dashed gray;margin: 0 0.4em 0.5em 0.4em;box-sizing: border-box;padding-bottom: 0.4em;background-color: white;}#sk-container-id-1 div.sk-label label {font-family: monospace;font-weight: bold;display: inline-block;line-height: 1.2em;}#sk-container-id-1 div.sk-label-container {text-align: center;}#sk-container-id-1 div.sk-container {/* jupyter's `normalize.less` sets `[hidden] { display: none; }` but bootstrap.min.css set `[hidden] { display: none !important; }` so we also need the `!important` here to be able to override the default hidden behavior on the sphinx rendered scikit-learn.org. See: https://github.com/scikit-learn/scikit-learn/issues/21755 */display: inline-block !important;position: relative;}#sk-container-id-1 div.sk-text-repr-fallback {display: none;}</style><div id=\"sk-container-id-1\" class=\"sk-top-container\"><div class=\"sk-text-repr-fallback\"><pre>NearestCentroid()</pre><b>In a Jupyter environment, please rerun this cell to show the HTML representation or trust the notebook. <br />On GitHub, the HTML representation is unable to render, please try loading this page with nbviewer.org.</b></div><div class=\"sk-container\" hidden><div class=\"sk-item\"><div class=\"sk-estimator sk-toggleable\"><input class=\"sk-toggleable__control sk-hidden--visually\" id=\"sk-estimator-id-1\" type=\"checkbox\" checked><label for=\"sk-estimator-id-1\" class=\"sk-toggleable__label sk-toggleable__label-arrow\">NearestCentroid</label><div class=\"sk-toggleable__content\"><pre>NearestCentroid()</pre></div></div></div></div></div>"
      ],
      "text/plain": [
       "NearestCentroid()"
      ]
     },
     "execution_count": 65,
     "metadata": {},
     "output_type": "execute_result"
    }
   ],
   "source": [
    "rocchio_clf = NearestCentroid()\n",
    "rocchio_clf.fit(train_X,train_y)"
   ]
  },
  {
   "cell_type": "markdown",
   "metadata": {
    "id": "9t_KBxymYGFe"
   },
   "source": [
    "#### Checking the correctness and accuracy of rocchio method using cross validation"
   ]
  },
  {
   "cell_type": "code",
   "execution_count": 66,
   "metadata": {
    "colab": {
     "base_uri": "https://localhost:8080/"
    },
    "id": "dtw92kw1YGFe",
    "outputId": "da263a79-3777-4992-e530-3f082f6dee7f"
   },
   "outputs": [
    {
     "name": "stdout",
     "output_type": "stream",
     "text": [
      "[0.9916115  0.99582456 0.997743   0.99195005 0.99631357]\n"
     ]
    }
   ],
   "source": [
    "print(cross_val_score(rocchio_clf,train_df,test_df,cv = 5))"
   ]
  },
  {
   "cell_type": "markdown",
   "metadata": {
    "id": "CWAIk2TFYGFe"
   },
   "source": [
    "#### Predicting results"
   ]
  },
  {
   "cell_type": "code",
   "execution_count": 67,
   "metadata": {
    "id": "vvem7uFuYGFe"
   },
   "outputs": [],
   "source": [
    "pred_y = rocchio_clf.predict(test_x)"
   ]
  },
  {
   "cell_type": "code",
   "execution_count": 68,
   "metadata": {
    "colab": {
     "base_uri": "https://localhost:8080/"
    },
    "id": "e5eqV3iQYGFe",
    "outputId": "fdd3d078-54f0-4175-fcfd-fe00e01d0110"
   },
   "outputs": [
    {
     "data": {
      "text/plain": [
       "99.9285284381583"
      ]
     },
     "execution_count": 68,
     "metadata": {},
     "output_type": "execute_result"
    }
   ],
   "source": [
    "accuracy_score(test_y,pred_y) * 100"
   ]
  },
  {
   "cell_type": "code",
   "execution_count": 69,
   "metadata": {
    "colab": {
     "base_uri": "https://localhost:8080/",
     "height": 466
    },
    "id": "xQ1T0HYxYGFf",
    "outputId": "36f88b5d-22e5-4574-896a-3c4fc588c732"
   },
   "outputs": [
    {
     "data": {
      "text/plain": [
       "<sklearn.metrics._plot.confusion_matrix.ConfusionMatrixDisplay at 0x1a13636b4d0>"
      ]
     },
     "execution_count": 69,
     "metadata": {},
     "output_type": "execute_result"
    },
    {
     "data": {
      "image/png": "[encoded data removed]",
      "text/plain": [
       "<Figure size 640x480 with 2 Axes>"
      ]
     },
     "metadata": {},
     "output_type": "display_data"
    }
   ],
   "source": [
    "cm = confusion_matrix(test_y,pred_y)\n",
    "disp = ConfusionMatrixDisplay(cm)\n",
    "disp.plot()"
   ]
  },
  {
   "cell_type": "markdown",
   "metadata": {
    "id": "Yz4fohWfYGFf"
   },
   "source": [
    "#### Taking some samples for recomendation"
   ]
  },
  {
   "cell_type": "code",
   "execution_count": 70,
   "metadata": {
    "colab": {
     "base_uri": "https://localhost:8080/",
     "height": 363
    },
    "id": "p8_DnuI3YGFf",
    "outputId": "877c6260-c177-4c72-e6b9-decff4dd1cd8"
   },
   "outputs": [
    {
     "data": {
      "text/html": [
       "<div>\n",
       "<style scoped>\n",
       "    .dataframe tbody tr th:only-of-type {\n",
       "        vertical-align: middle;\n",
       "    }\n",
       "\n",
       "    .dataframe tbody tr th {\n",
       "        vertical-align: top;\n",
       "    }\n",
       "\n",
       "    .dataframe thead th {\n",
       "        text-align: right;\n",
       "    }\n",
       "</style>\n",
       "<table border=\"1\" class=\"dataframe\">\n",
       "  <thead>\n",
       "    <tr style=\"text-align: right;\">\n",
       "      <th></th>\n",
       "      <th>Book-Rating</th>\n",
       "      <th>Book-Author</th>\n",
       "      <th>Year-Of-Publication</th>\n",
       "      <th>Publisher</th>\n",
       "      <th>Age</th>\n",
       "      <th>City</th>\n",
       "      <th>State</th>\n",
       "      <th>Country</th>\n",
       "    </tr>\n",
       "  </thead>\n",
       "  <tbody>\n",
       "    <tr>\n",
       "      <th>67166</th>\n",
       "      <td>1.0</td>\n",
       "      <td>0.934546</td>\n",
       "      <td>0.513514</td>\n",
       "      <td>0.679827</td>\n",
       "      <td>0.3000</td>\n",
       "      <td>0.525610</td>\n",
       "      <td>0.261559</td>\n",
       "      <td>0.956044</td>\n",
       "    </tr>\n",
       "    <tr>\n",
       "      <th>131072</th>\n",
       "      <td>0.0</td>\n",
       "      <td>0.737724</td>\n",
       "      <td>0.628378</td>\n",
       "      <td>0.238074</td>\n",
       "      <td>0.2250</td>\n",
       "      <td>0.919560</td>\n",
       "      <td>0.066050</td>\n",
       "      <td>0.065934</td>\n",
       "    </tr>\n",
       "    <tr>\n",
       "      <th>101118</th>\n",
       "      <td>1.0</td>\n",
       "      <td>0.785536</td>\n",
       "      <td>0.668919</td>\n",
       "      <td>0.885449</td>\n",
       "      <td>0.3000</td>\n",
       "      <td>0.126504</td>\n",
       "      <td>0.261559</td>\n",
       "      <td>0.956044</td>\n",
       "    </tr>\n",
       "    <tr>\n",
       "      <th>91998</th>\n",
       "      <td>0.0</td>\n",
       "      <td>0.776269</td>\n",
       "      <td>0.493243</td>\n",
       "      <td>0.066248</td>\n",
       "      <td>0.3000</td>\n",
       "      <td>0.102441</td>\n",
       "      <td>0.019815</td>\n",
       "      <td>0.175824</td>\n",
       "    </tr>\n",
       "    <tr>\n",
       "      <th>35707</th>\n",
       "      <td>0.0</td>\n",
       "      <td>0.435270</td>\n",
       "      <td>0.648649</td>\n",
       "      <td>0.704651</td>\n",
       "      <td>0.2500</td>\n",
       "      <td>0.525610</td>\n",
       "      <td>0.655218</td>\n",
       "      <td>0.175824</td>\n",
       "    </tr>\n",
       "    <tr>\n",
       "      <th>65632</th>\n",
       "      <td>0.7</td>\n",
       "      <td>0.674948</td>\n",
       "      <td>0.574324</td>\n",
       "      <td>0.011664</td>\n",
       "      <td>0.3500</td>\n",
       "      <td>0.525610</td>\n",
       "      <td>0.261559</td>\n",
       "      <td>0.956044</td>\n",
       "    </tr>\n",
       "    <tr>\n",
       "      <th>132745</th>\n",
       "      <td>0.0</td>\n",
       "      <td>0.694283</td>\n",
       "      <td>0.689189</td>\n",
       "      <td>0.729026</td>\n",
       "      <td>0.0250</td>\n",
       "      <td>0.643176</td>\n",
       "      <td>0.261559</td>\n",
       "      <td>0.956044</td>\n",
       "    </tr>\n",
       "    <tr>\n",
       "      <th>61581</th>\n",
       "      <td>0.0</td>\n",
       "      <td>0.583787</td>\n",
       "      <td>0.668919</td>\n",
       "      <td>0.703754</td>\n",
       "      <td>0.1875</td>\n",
       "      <td>0.155036</td>\n",
       "      <td>0.019815</td>\n",
       "      <td>0.175824</td>\n",
       "    </tr>\n",
       "    <tr>\n",
       "      <th>103434</th>\n",
       "      <td>0.5</td>\n",
       "      <td>0.214371</td>\n",
       "      <td>0.641892</td>\n",
       "      <td>0.394945</td>\n",
       "      <td>0.3375</td>\n",
       "      <td>0.003781</td>\n",
       "      <td>0.947160</td>\n",
       "      <td>0.956044</td>\n",
       "    </tr>\n",
       "    <tr>\n",
       "      <th>115967</th>\n",
       "      <td>0.0</td>\n",
       "      <td>0.644992</td>\n",
       "      <td>0.668919</td>\n",
       "      <td>0.238223</td>\n",
       "      <td>0.5375</td>\n",
       "      <td>0.089722</td>\n",
       "      <td>0.107001</td>\n",
       "      <td>0.868132</td>\n",
       "    </tr>\n",
       "  </tbody>\n",
       "</table>\n",
       "</div>"
      ],
      "text/plain": [
       "        Book-Rating  Book-Author  Year-Of-Publication  Publisher     Age  \\\n",
       "67166           1.0     0.934546             0.513514   0.679827  0.3000   \n",
       "131072          0.0     0.737724             0.628378   0.238074  0.2250   \n",
       "101118          1.0     0.785536             0.668919   0.885449  0.3000   \n",
       "91998           0.0     0.776269             0.493243   0.066248  0.3000   \n",
       "35707           0.0     0.435270             0.648649   0.704651  0.2500   \n",
       "65632           0.7     0.674948             0.574324   0.011664  0.3500   \n",
       "132745          0.0     0.694283             0.689189   0.729026  0.0250   \n",
       "61581           0.0     0.583787             0.668919   0.703754  0.1875   \n",
       "103434          0.5     0.214371             0.641892   0.394945  0.3375   \n",
       "115967          0.0     0.644992             0.668919   0.238223  0.5375   \n",
       "\n",
       "            City     State   Country  \n",
       "67166   0.525610  0.261559  0.956044  \n",
       "131072  0.919560  0.066050  0.065934  \n",
       "101118  0.126504  0.261559  0.956044  \n",
       "91998   0.102441  0.019815  0.175824  \n",
       "35707   0.525610  0.655218  0.175824  \n",
       "65632   0.525610  0.261559  0.956044  \n",
       "132745  0.643176  0.261559  0.956044  \n",
       "61581   0.155036  0.019815  0.175824  \n",
       "103434  0.003781  0.947160  0.956044  \n",
       "115967  0.089722  0.107001  0.868132  "
      ]
     },
     "execution_count": 70,
     "metadata": {},
     "output_type": "execute_result"
    }
   ],
   "source": [
    "samples = test_x.sample(10)\n",
    "samples"
   ]
  },
  {
   "cell_type": "code",
   "execution_count": 71,
   "metadata": {
    "colab": {
     "base_uri": "https://localhost:8080/"
    },
    "id": "iwpAv9r5YGFf",
    "outputId": "4f54aded-957e-4efd-a17f-7a720e6f69b3"
   },
   "outputs": [
    {
     "data": {
      "text/plain": [
       "[67166, 131072, 101118, 91998, 35707, 65632, 132745, 61581, 103434, 115967]"
      ]
     },
     "execution_count": 71,
     "metadata": {},
     "output_type": "execute_result"
    }
   ],
   "source": [
    "indeces = samples.index.tolist()\n",
    "indeces"
   ]
  },
  {
   "cell_type": "markdown",
   "metadata": {
    "id": "Z18TnkuXYGFf"
   },
   "source": [
    "#### Predicting cluster values for our sample values"
   ]
  },
  {
   "cell_type": "code",
   "execution_count": 72,
   "metadata": {
    "colab": {
     "base_uri": "https://localhost:8080/"
    },
    "id": "9p7wK9oVYGFf",
    "outputId": "669885e1-5292-4819-fcbf-cb121c599cf9"
   },
   "outputs": [
    {
     "data": {
      "text/plain": [
       "[3, 1, 3, 0, 1, 3, 2, 0, 3, 2]"
      ]
     },
     "execution_count": 72,
     "metadata": {},
     "output_type": "execute_result"
    }
   ],
   "source": [
    "samples_pred = rocchio_clf.predict(samples).reshape(1,-1).flatten().tolist()\n",
    "samples_pred"
   ]
  },
  {
   "cell_type": "code",
   "execution_count": 73,
   "metadata": {
    "id": "qwP91J4oYGFf"
   },
   "outputs": [],
   "source": [
    "data = train_X.copy()"
   ]
  },
  {
   "cell_type": "code",
   "execution_count": 74,
   "metadata": {
    "id": "RpRHdrD-YGFf"
   },
   "outputs": [],
   "source": [
    "data['Clusters'] = train_y"
   ]
  },
  {
   "cell_type": "code",
   "execution_count": 75,
   "metadata": {
    "colab": {
     "base_uri": "https://localhost:8080/",
     "height": 424
    },
    "id": "FxZQ_L4vYGFf",
    "outputId": "2ec8f2da-0fcd-472d-9f5a-3d0dd57f70d8"
   },
   "outputs": [
    {
     "data": {
      "text/html": [
       "<div>\n",
       "<style scoped>\n",
       "    .dataframe tbody tr th:only-of-type {\n",
       "        vertical-align: middle;\n",
       "    }\n",
       "\n",
       "    .dataframe tbody tr th {\n",
       "        vertical-align: top;\n",
       "    }\n",
       "\n",
       "    .dataframe thead th {\n",
       "        text-align: right;\n",
       "    }\n",
       "</style>\n",
       "<table border=\"1\" class=\"dataframe\">\n",
       "  <thead>\n",
       "    <tr style=\"text-align: right;\">\n",
       "      <th></th>\n",
       "      <th>Book-Rating</th>\n",
       "      <th>Book-Author</th>\n",
       "      <th>Year-Of-Publication</th>\n",
       "      <th>Publisher</th>\n",
       "      <th>Age</th>\n",
       "      <th>City</th>\n",
       "      <th>State</th>\n",
       "      <th>Country</th>\n",
       "      <th>Clusters</th>\n",
       "    </tr>\n",
       "  </thead>\n",
       "  <tbody>\n",
       "    <tr>\n",
       "      <th>66432</th>\n",
       "      <td>0.0</td>\n",
       "      <td>0.160679</td>\n",
       "      <td>0.655405</td>\n",
       "      <td>0.822043</td>\n",
       "      <td>0.2750</td>\n",
       "      <td>0.883121</td>\n",
       "      <td>0.655218</td>\n",
       "      <td>0.175824</td>\n",
       "      <td>1</td>\n",
       "    </tr>\n",
       "    <tr>\n",
       "      <th>42976</th>\n",
       "      <td>0.0</td>\n",
       "      <td>0.349743</td>\n",
       "      <td>0.587838</td>\n",
       "      <td>0.290564</td>\n",
       "      <td>0.1500</td>\n",
       "      <td>0.261946</td>\n",
       "      <td>0.667107</td>\n",
       "      <td>0.626374</td>\n",
       "      <td>2</td>\n",
       "    </tr>\n",
       "    <tr>\n",
       "      <th>115502</th>\n",
       "      <td>1.0</td>\n",
       "      <td>0.750162</td>\n",
       "      <td>0.682432</td>\n",
       "      <td>0.924331</td>\n",
       "      <td>0.4125</td>\n",
       "      <td>0.858027</td>\n",
       "      <td>0.261559</td>\n",
       "      <td>0.956044</td>\n",
       "      <td>3</td>\n",
       "    </tr>\n",
       "    <tr>\n",
       "      <th>81136</th>\n",
       "      <td>0.8</td>\n",
       "      <td>0.687263</td>\n",
       "      <td>0.560811</td>\n",
       "      <td>0.904890</td>\n",
       "      <td>0.4625</td>\n",
       "      <td>0.063596</td>\n",
       "      <td>0.179657</td>\n",
       "      <td>0.835165</td>\n",
       "      <td>3</td>\n",
       "    </tr>\n",
       "    <tr>\n",
       "      <th>119159</th>\n",
       "      <td>0.6</td>\n",
       "      <td>0.428035</td>\n",
       "      <td>0.668919</td>\n",
       "      <td>0.137730</td>\n",
       "      <td>0.1500</td>\n",
       "      <td>0.071846</td>\n",
       "      <td>0.096433</td>\n",
       "      <td>0.351648</td>\n",
       "      <td>0</td>\n",
       "    </tr>\n",
       "    <tr>\n",
       "      <th>...</th>\n",
       "      <td>...</td>\n",
       "      <td>...</td>\n",
       "      <td>...</td>\n",
       "      <td>...</td>\n",
       "      <td>...</td>\n",
       "      <td>...</td>\n",
       "      <td>...</td>\n",
       "      <td>...</td>\n",
       "      <td>...</td>\n",
       "    </tr>\n",
       "    <tr>\n",
       "      <th>35782</th>\n",
       "      <td>1.0</td>\n",
       "      <td>0.410332</td>\n",
       "      <td>0.608108</td>\n",
       "      <td>0.200837</td>\n",
       "      <td>0.2500</td>\n",
       "      <td>0.525610</td>\n",
       "      <td>0.655218</td>\n",
       "      <td>0.175824</td>\n",
       "      <td>4</td>\n",
       "    </tr>\n",
       "    <tr>\n",
       "      <th>121908</th>\n",
       "      <td>0.0</td>\n",
       "      <td>0.386780</td>\n",
       "      <td>0.587838</td>\n",
       "      <td>0.589951</td>\n",
       "      <td>0.2125</td>\n",
       "      <td>0.549330</td>\n",
       "      <td>0.261559</td>\n",
       "      <td>0.956044</td>\n",
       "      <td>2</td>\n",
       "    </tr>\n",
       "    <tr>\n",
       "      <th>105165</th>\n",
       "      <td>0.5</td>\n",
       "      <td>0.944891</td>\n",
       "      <td>0.641892</td>\n",
       "      <td>0.096755</td>\n",
       "      <td>0.2375</td>\n",
       "      <td>0.874871</td>\n",
       "      <td>0.655218</td>\n",
       "      <td>0.175824</td>\n",
       "      <td>4</td>\n",
       "    </tr>\n",
       "    <tr>\n",
       "      <th>19112</th>\n",
       "      <td>0.0</td>\n",
       "      <td>0.385302</td>\n",
       "      <td>0.655405</td>\n",
       "      <td>0.036190</td>\n",
       "      <td>0.3500</td>\n",
       "      <td>0.525610</td>\n",
       "      <td>0.261559</td>\n",
       "      <td>0.956044</td>\n",
       "      <td>2</td>\n",
       "    </tr>\n",
       "    <tr>\n",
       "      <th>93922</th>\n",
       "      <td>0.0</td>\n",
       "      <td>0.668545</td>\n",
       "      <td>0.668919</td>\n",
       "      <td>0.694183</td>\n",
       "      <td>0.3000</td>\n",
       "      <td>0.512547</td>\n",
       "      <td>0.466314</td>\n",
       "      <td>0.714286</td>\n",
       "      <td>2</td>\n",
       "    </tr>\n",
       "  </tbody>\n",
       "</table>\n",
       "<p>106336 rows × 9 columns</p>\n",
       "</div>"
      ],
      "text/plain": [
       "        Book-Rating  Book-Author  Year-Of-Publication  Publisher     Age  \\\n",
       "66432           0.0     0.160679             0.655405   0.822043  0.2750   \n",
       "42976           0.0     0.349743             0.587838   0.290564  0.1500   \n",
       "115502          1.0     0.750162             0.682432   0.924331  0.4125   \n",
       "81136           0.8     0.687263             0.560811   0.904890  0.4625   \n",
       "119159          0.6     0.428035             0.668919   0.137730  0.1500   \n",
       "...             ...          ...                  ...        ...     ...   \n",
       "35782           1.0     0.410332             0.608108   0.200837  0.2500   \n",
       "121908          0.0     0.386780             0.587838   0.589951  0.2125   \n",
       "105165          0.5     0.944891             0.641892   0.096755  0.2375   \n",
       "19112           0.0     0.385302             0.655405   0.036190  0.3500   \n",
       "93922           0.0     0.668545             0.668919   0.694183  0.3000   \n",
       "\n",
       "            City     State   Country  Clusters  \n",
       "66432   0.883121  0.655218  0.175824         1  \n",
       "42976   0.261946  0.667107  0.626374         2  \n",
       "115502  0.858027  0.261559  0.956044         3  \n",
       "81136   0.063596  0.179657  0.835165         3  \n",
       "119159  0.071846  0.096433  0.351648         0  \n",
       "...          ...       ...       ...       ...  \n",
       "35782   0.525610  0.655218  0.175824         4  \n",
       "121908  0.549330  0.261559  0.956044         2  \n",
       "105165  0.874871  0.655218  0.175824         4  \n",
       "19112   0.525610  0.261559  0.956044         2  \n",
       "93922   0.512547  0.466314  0.714286         2  \n",
       "\n",
       "[106336 rows x 9 columns]"
      ]
     },
     "execution_count": 75,
     "metadata": {},
     "output_type": "execute_result"
    }
   ],
   "source": [
    "data"
   ]
  },
  {
   "cell_type": "code",
   "execution_count": 76,
   "metadata": {
    "colab": {
     "base_uri": "https://localhost:8080/",
     "height": 363
    },
    "id": "r0FZFxyfYGFg",
    "outputId": "5cbd0f27-39f5-4833-e05a-ea359dc6b84b"
   },
   "outputs": [
    {
     "data": {
      "text/html": [
       "<div>\n",
       "<style scoped>\n",
       "    .dataframe tbody tr th:only-of-type {\n",
       "        vertical-align: middle;\n",
       "    }\n",
       "\n",
       "    .dataframe tbody tr th {\n",
       "        vertical-align: top;\n",
       "    }\n",
       "\n",
       "    .dataframe thead th {\n",
       "        text-align: right;\n",
       "    }\n",
       "</style>\n",
       "<table border=\"1\" class=\"dataframe\">\n",
       "  <thead>\n",
       "    <tr style=\"text-align: right;\">\n",
       "      <th></th>\n",
       "      <th>Book-Rating</th>\n",
       "      <th>Book-Author</th>\n",
       "      <th>Year-Of-Publication</th>\n",
       "      <th>Publisher</th>\n",
       "      <th>Age</th>\n",
       "      <th>City</th>\n",
       "      <th>State</th>\n",
       "      <th>Country</th>\n",
       "    </tr>\n",
       "  </thead>\n",
       "  <tbody>\n",
       "    <tr>\n",
       "      <th>67166</th>\n",
       "      <td>1.0</td>\n",
       "      <td>0.934546</td>\n",
       "      <td>0.513514</td>\n",
       "      <td>0.679827</td>\n",
       "      <td>0.3000</td>\n",
       "      <td>0.525610</td>\n",
       "      <td>0.261559</td>\n",
       "      <td>0.956044</td>\n",
       "    </tr>\n",
       "    <tr>\n",
       "      <th>131072</th>\n",
       "      <td>0.0</td>\n",
       "      <td>0.737724</td>\n",
       "      <td>0.628378</td>\n",
       "      <td>0.238074</td>\n",
       "      <td>0.2250</td>\n",
       "      <td>0.919560</td>\n",
       "      <td>0.066050</td>\n",
       "      <td>0.065934</td>\n",
       "    </tr>\n",
       "    <tr>\n",
       "      <th>101118</th>\n",
       "      <td>1.0</td>\n",
       "      <td>0.785536</td>\n",
       "      <td>0.668919</td>\n",
       "      <td>0.885449</td>\n",
       "      <td>0.3000</td>\n",
       "      <td>0.126504</td>\n",
       "      <td>0.261559</td>\n",
       "      <td>0.956044</td>\n",
       "    </tr>\n",
       "    <tr>\n",
       "      <th>91998</th>\n",
       "      <td>0.0</td>\n",
       "      <td>0.776269</td>\n",
       "      <td>0.493243</td>\n",
       "      <td>0.066248</td>\n",
       "      <td>0.3000</td>\n",
       "      <td>0.102441</td>\n",
       "      <td>0.019815</td>\n",
       "      <td>0.175824</td>\n",
       "    </tr>\n",
       "    <tr>\n",
       "      <th>35707</th>\n",
       "      <td>0.0</td>\n",
       "      <td>0.435270</td>\n",
       "      <td>0.648649</td>\n",
       "      <td>0.704651</td>\n",
       "      <td>0.2500</td>\n",
       "      <td>0.525610</td>\n",
       "      <td>0.655218</td>\n",
       "      <td>0.175824</td>\n",
       "    </tr>\n",
       "    <tr>\n",
       "      <th>65632</th>\n",
       "      <td>0.7</td>\n",
       "      <td>0.674948</td>\n",
       "      <td>0.574324</td>\n",
       "      <td>0.011664</td>\n",
       "      <td>0.3500</td>\n",
       "      <td>0.525610</td>\n",
       "      <td>0.261559</td>\n",
       "      <td>0.956044</td>\n",
       "    </tr>\n",
       "    <tr>\n",
       "      <th>132745</th>\n",
       "      <td>0.0</td>\n",
       "      <td>0.694283</td>\n",
       "      <td>0.689189</td>\n",
       "      <td>0.729026</td>\n",
       "      <td>0.0250</td>\n",
       "      <td>0.643176</td>\n",
       "      <td>0.261559</td>\n",
       "      <td>0.956044</td>\n",
       "    </tr>\n",
       "    <tr>\n",
       "      <th>61581</th>\n",
       "      <td>0.0</td>\n",
       "      <td>0.583787</td>\n",
       "      <td>0.668919</td>\n",
       "      <td>0.703754</td>\n",
       "      <td>0.1875</td>\n",
       "      <td>0.155036</td>\n",
       "      <td>0.019815</td>\n",
       "      <td>0.175824</td>\n",
       "    </tr>\n",
       "    <tr>\n",
       "      <th>103434</th>\n",
       "      <td>0.5</td>\n",
       "      <td>0.214371</td>\n",
       "      <td>0.641892</td>\n",
       "      <td>0.394945</td>\n",
       "      <td>0.3375</td>\n",
       "      <td>0.003781</td>\n",
       "      <td>0.947160</td>\n",
       "      <td>0.956044</td>\n",
       "    </tr>\n",
       "    <tr>\n",
       "      <th>115967</th>\n",
       "      <td>0.0</td>\n",
       "      <td>0.644992</td>\n",
       "      <td>0.668919</td>\n",
       "      <td>0.238223</td>\n",
       "      <td>0.5375</td>\n",
       "      <td>0.089722</td>\n",
       "      <td>0.107001</td>\n",
       "      <td>0.868132</td>\n",
       "    </tr>\n",
       "  </tbody>\n",
       "</table>\n",
       "</div>"
      ],
      "text/plain": [
       "        Book-Rating  Book-Author  Year-Of-Publication  Publisher     Age  \\\n",
       "67166           1.0     0.934546             0.513514   0.679827  0.3000   \n",
       "131072          0.0     0.737724             0.628378   0.238074  0.2250   \n",
       "101118          1.0     0.785536             0.668919   0.885449  0.3000   \n",
       "91998           0.0     0.776269             0.493243   0.066248  0.3000   \n",
       "35707           0.0     0.435270             0.648649   0.704651  0.2500   \n",
       "65632           0.7     0.674948             0.574324   0.011664  0.3500   \n",
       "132745          0.0     0.694283             0.689189   0.729026  0.0250   \n",
       "61581           0.0     0.583787             0.668919   0.703754  0.1875   \n",
       "103434          0.5     0.214371             0.641892   0.394945  0.3375   \n",
       "115967          0.0     0.644992             0.668919   0.238223  0.5375   \n",
       "\n",
       "            City     State   Country  \n",
       "67166   0.525610  0.261559  0.956044  \n",
       "131072  0.919560  0.066050  0.065934  \n",
       "101118  0.126504  0.261559  0.956044  \n",
       "91998   0.102441  0.019815  0.175824  \n",
       "35707   0.525610  0.655218  0.175824  \n",
       "65632   0.525610  0.261559  0.956044  \n",
       "132745  0.643176  0.261559  0.956044  \n",
       "61581   0.155036  0.019815  0.175824  \n",
       "103434  0.003781  0.947160  0.956044  \n",
       "115967  0.089722  0.107001  0.868132  "
      ]
     },
     "execution_count": 76,
     "metadata": {},
     "output_type": "execute_result"
    }
   ],
   "source": [
    "samples"
   ]
  },
  {
   "cell_type": "markdown",
   "metadata": {
    "id": "-q_GA0Q1YGFg"
   },
   "source": [
    "#### Grouping books for recommending books on popular and highest average rating basis"
   ]
  },
  {
   "cell_type": "code",
   "execution_count": 77,
   "metadata": {
    "id": "wPs79cIUYGFg"
   },
   "outputs": [],
   "source": [
    "books_rate_df = dataset.groupby('Book-Title')"
   ]
  },
  {
   "cell_type": "markdown",
   "metadata": {
    "id": "T0l_vvfxYGFg"
   },
   "source": [
    "#### Filtering popular books"
   ]
  },
  {
   "cell_type": "code",
   "execution_count": 78,
   "metadata": {
    "id": "IMXL7PeKYGFg"
   },
   "outputs": [],
   "source": [
    "def popular_books():\n",
    "    return books_rate_df.size().sort_values(ascending=False).head(10).index"
   ]
  },
  {
   "cell_type": "code",
   "execution_count": 79,
   "metadata": {
    "colab": {
     "base_uri": "https://localhost:8080/"
    },
    "id": "W7nEOFzaYGFg",
    "outputId": "46e7cad5-9aa5-47b4-82f8-654e626c534e"
   },
   "outputs": [
    {
     "name": "stdout",
     "output_type": "stream",
     "text": [
      "------- Here are some of the popular books you may like -------\n",
      "-----Happy Reading!!!-------\n"
     ]
    },
    {
     "data": {
      "text/plain": [
       "0                                Wild Animus\n",
       "1                  The Lovely Bones: A Novel\n",
       "2                      Bridget Jones's Diary\n",
       "3                                 Life of Pi\n",
       "4                                   Chocolat\n",
       "5    The Girls' Guide to Hunting and Fishing\n",
       "6                          The Da Vinci Code\n",
       "7                                About a Boy\n",
       "8                          The Joy Luck Club\n",
       "9                     Snow Falling on Cedars\n",
       "Name: Book-Title, dtype: object"
      ]
     },
     "execution_count": 79,
     "metadata": {},
     "output_type": "execute_result"
    }
   ],
   "source": [
    "print('------- Here are some of the popular books you may like -------')\n",
    "print('-----Happy Reading!!!-------')\n",
    "pd.Series(popular_books())\n"
   ]
  },
  {
   "cell_type": "markdown",
   "metadata": {
    "id": "3CdVJOM8YGFg"
   },
   "source": [
    "#### Filtering books on highest average ratings"
   ]
  },
  {
   "cell_type": "code",
   "execution_count": 80,
   "metadata": {
    "id": "v11WCGHLYGFg"
   },
   "outputs": [],
   "source": [
    "def highest_rated_books():\n",
    "    return books_rate_df['Book-Rating'].mean().sort_values(ascending=False).head(10).index"
   ]
  },
  {
   "cell_type": "code",
   "execution_count": 81,
   "metadata": {
    "colab": {
     "base_uri": "https://localhost:8080/"
    },
    "id": "62flu5bxYGFg",
    "outputId": "fda2459a-ffef-4bce-9d89-862a368ceba2"
   },
   "outputs": [
    {
     "name": "stdout",
     "output_type": "stream",
     "text": [
      "------- Here are some of the highest rated books you may like -------\n",
      "-----Happy Reading!!!-------\n"
     ]
    },
    {
     "data": {
      "text/plain": [
       "0                                                                                             Pastoral Americana\n",
       "1               Mercer Mayer's LC + The Critter Kids:  Showdown at the Arcade (A Golden Book School Time Reader)\n",
       "2                                                                                 McEnroe: A Rage for Perfection\n",
       "3                                                                                      McKnight in Shining Armor\n",
       "4                                                              Doktorspiele. GestÃ?Â¤ndnisse eines Hochstaplers.\n",
       "5                                                                                                           Goya\n",
       "6                                                                     Bob Saves the Porcupines (Bob The Builder)\n",
       "7                                                                                       Alistair Cooke's America\n",
       "8    Seasons for Celebration: A Contemporary Guide to the Joys, Practices, and Traditions of the Jewish Holidays\n",
       "9                                                                                                    Doll's Eyes\n",
       "Name: Book-Title, dtype: object"
      ]
     },
     "execution_count": 81,
     "metadata": {},
     "output_type": "execute_result"
    }
   ],
   "source": [
    "print('------- Here are some of the highest rated books you may like -------')\n",
    "print('-----Happy Reading!!!-------')\n",
    "pd.Series(highest_rated_books())\n"
   ]
  },
  {
   "cell_type": "markdown",
   "metadata": {
    "id": "2i6pwDrKYGFh"
   },
   "source": [
    "####User based Recommendation"
   ]
  },
  {
   "cell_type": "markdown",
   "metadata": {
    "id": "L7N3cdnKYGFh"
   },
   "source": [
    "#### Using KNN classifier on the predicted values of rocchio on our sample data for recommendation.¶"
   ]
  },
  {
   "cell_type": "code",
   "execution_count": 82,
   "metadata": {
    "colab": {
     "base_uri": "https://localhost:8080/",
     "height": 1000
    },
    "id": "52TqLDzaYGFh",
    "outputId": "f8168c38-74dc-41a2-a93a-8583ce10efb2"
   },
   "outputs": [
    {
     "name": "stdout",
     "output_type": "stream",
     "text": [
      "\n",
      "------------Your Review-------------\n",
      "\n"
     ]
    },
    {
     "data": {
      "text/html": [
       "<div>\n",
       "<style scoped>\n",
       "    .dataframe tbody tr th:only-of-type {\n",
       "        vertical-align: middle;\n",
       "    }\n",
       "\n",
       "    .dataframe tbody tr th {\n",
       "        vertical-align: top;\n",
       "    }\n",
       "\n",
       "    .dataframe thead th {\n",
       "        text-align: right;\n",
       "    }\n",
       "</style>\n",
       "<table border=\"1\" class=\"dataframe\">\n",
       "  <thead>\n",
       "    <tr style=\"text-align: right;\">\n",
       "      <th></th>\n",
       "      <th>ISBN</th>\n",
       "      <th>Book-Rating</th>\n",
       "      <th>Book-Title</th>\n",
       "      <th>Book-Author</th>\n",
       "      <th>Year-Of-Publication</th>\n",
       "      <th>Publisher</th>\n",
       "      <th>Age</th>\n",
       "      <th>City</th>\n",
       "      <th>State</th>\n",
       "      <th>Country</th>\n",
       "    </tr>\n",
       "  </thead>\n",
       "  <tbody>\n",
       "    <tr>\n",
       "      <th>67166</th>\n",
       "      <td>0140431357</td>\n",
       "      <td>10</td>\n",
       "      <td>Tess of the D'Urbervilles (Penguin Classics)</td>\n",
       "      <td>Thomas Hardy</td>\n",
       "      <td>1978</td>\n",
       "      <td>Penguin Books</td>\n",
       "      <td>34</td>\n",
       "      <td>london</td>\n",
       "      <td>england</td>\n",
       "      <td>united kingdom</td>\n",
       "    </tr>\n",
       "  </tbody>\n",
       "</table>\n",
       "</div>"
      ],
      "text/plain": [
       "             ISBN Book-Rating                                    Book-Title  \\\n",
       "67166  0140431357          10  Tess of the D'Urbervilles (Penguin Classics)   \n",
       "\n",
       "        Book-Author Year-Of-Publication      Publisher Age    City    State  \\\n",
       "67166  Thomas Hardy                1978  Penguin Books  34  london  england   \n",
       "\n",
       "              Country  \n",
       "67166  united kingdom  "
      ]
     },
     "metadata": {},
     "output_type": "display_data"
    },
    {
     "name": "stdout",
     "output_type": "stream",
     "text": [
      "\n",
      "------------Here are few recomendations based on your review that you may like-------------\n",
      "\n"
     ]
    },
    {
     "data": {
      "text/html": [
       "<div>\n",
       "<style scoped>\n",
       "    .dataframe tbody tr th:only-of-type {\n",
       "        vertical-align: middle;\n",
       "    }\n",
       "\n",
       "    .dataframe tbody tr th {\n",
       "        vertical-align: top;\n",
       "    }\n",
       "\n",
       "    .dataframe thead th {\n",
       "        text-align: right;\n",
       "    }\n",
       "</style>\n",
       "<table border=\"1\" class=\"dataframe\">\n",
       "  <thead>\n",
       "    <tr style=\"text-align: right;\">\n",
       "      <th></th>\n",
       "      <th>Book-Title</th>\n",
       "      <th>Book-Author</th>\n",
       "      <th>Year-Of-Publication</th>\n",
       "      <th>Publisher</th>\n",
       "      <th>City</th>\n",
       "      <th>State</th>\n",
       "      <th>Country</th>\n",
       "    </tr>\n",
       "  </thead>\n",
       "  <tbody>\n",
       "    <tr>\n",
       "      <th>95164</th>\n",
       "      <td>Tess of the D'Urbervilles (Penguin Classics)</td>\n",
       "      <td>Thomas Hardy</td>\n",
       "      <td>1978</td>\n",
       "      <td>Penguin Books</td>\n",
       "      <td>london</td>\n",
       "      <td>england</td>\n",
       "      <td>united kingdom</td>\n",
       "    </tr>\n",
       "    <tr>\n",
       "      <th>67226</th>\n",
       "      <td>Wilt</td>\n",
       "      <td>Tom Sharpe</td>\n",
       "      <td>1978</td>\n",
       "      <td>Pan Books in association with Secker &amp;amp; Warburg</td>\n",
       "      <td>london</td>\n",
       "      <td>england</td>\n",
       "      <td>united kingdom</td>\n",
       "    </tr>\n",
       "    <tr>\n",
       "      <th>79287</th>\n",
       "      <td>Julius Caesar (New Penguin Shakespeare S.)</td>\n",
       "      <td>William Shakespeare</td>\n",
       "      <td>1981</td>\n",
       "      <td>Penguin Books</td>\n",
       "      <td>london</td>\n",
       "      <td>england</td>\n",
       "      <td>united kingdom</td>\n",
       "    </tr>\n",
       "    <tr>\n",
       "      <th>79301</th>\n",
       "      <td>King Henry IV (New Penguin Shakespeare)</td>\n",
       "      <td>William Shakespeare</td>\n",
       "      <td>1981</td>\n",
       "      <td>Penguin Books</td>\n",
       "      <td>london</td>\n",
       "      <td>england</td>\n",
       "      <td>united kingdom</td>\n",
       "    </tr>\n",
       "    <tr>\n",
       "      <th>19601</th>\n",
       "      <td>William Blake: The Complete Poems (Penguin English Poets)</td>\n",
       "      <td>William Blake</td>\n",
       "      <td>1978</td>\n",
       "      <td>Penguin Books</td>\n",
       "      <td>london</td>\n",
       "      <td>england</td>\n",
       "      <td>united kingdom</td>\n",
       "    </tr>\n",
       "  </tbody>\n",
       "</table>\n",
       "</div>"
      ],
      "text/plain": [
       "                                                      Book-Title  \\\n",
       "95164               Tess of the D'Urbervilles (Penguin Classics)   \n",
       "67226                                                       Wilt   \n",
       "79287                 Julius Caesar (New Penguin Shakespeare S.)   \n",
       "79301                    King Henry IV (New Penguin Shakespeare)   \n",
       "19601  William Blake: The Complete Poems (Penguin English Poets)   \n",
       "\n",
       "               Book-Author  Year-Of-Publication  \\\n",
       "95164         Thomas Hardy                 1978   \n",
       "67226           Tom Sharpe                 1978   \n",
       "79287  William Shakespeare                 1981   \n",
       "79301  William Shakespeare                 1981   \n",
       "19601        William Blake                 1978   \n",
       "\n",
       "                                                Publisher    City    State  \\\n",
       "95164                                       Penguin Books  london  england   \n",
       "67226  Pan Books in association with Secker &amp; Warburg  london  england   \n",
       "79287                                       Penguin Books  london  england   \n",
       "79301                                       Penguin Books  london  england   \n",
       "19601                                       Penguin Books  london  england   \n",
       "\n",
       "              Country  \n",
       "95164  united kingdom  \n",
       "67226  united kingdom  \n",
       "79287  united kingdom  \n",
       "79301  united kingdom  \n",
       "19601  united kingdom  "
      ]
     },
     "metadata": {},
     "output_type": "display_data"
    },
    {
     "name": "stdout",
     "output_type": "stream",
     "text": [
      "\n",
      "------------End-------------\n",
      "\n",
      "\n",
      "------------Your Review-------------\n",
      "\n"
     ]
    },
    {
     "data": {
      "text/html": [
       "<div>\n",
       "<style scoped>\n",
       "    .dataframe tbody tr th:only-of-type {\n",
       "        vertical-align: middle;\n",
       "    }\n",
       "\n",
       "    .dataframe tbody tr th {\n",
       "        vertical-align: top;\n",
       "    }\n",
       "\n",
       "    .dataframe thead th {\n",
       "        text-align: right;\n",
       "    }\n",
       "</style>\n",
       "<table border=\"1\" class=\"dataframe\">\n",
       "  <thead>\n",
       "    <tr style=\"text-align: right;\">\n",
       "      <th></th>\n",
       "      <th>ISBN</th>\n",
       "      <th>Book-Rating</th>\n",
       "      <th>Book-Title</th>\n",
       "      <th>Book-Author</th>\n",
       "      <th>Year-Of-Publication</th>\n",
       "      <th>Publisher</th>\n",
       "      <th>Age</th>\n",
       "      <th>City</th>\n",
       "      <th>State</th>\n",
       "      <th>Country</th>\n",
       "    </tr>\n",
       "  </thead>\n",
       "  <tbody>\n",
       "    <tr>\n",
       "      <th>131072</th>\n",
       "      <td>3257700040</td>\n",
       "      <td>0</td>\n",
       "      <td>Drei Katzengeschichten.</td>\n",
       "      <td>Patricia Highsmith</td>\n",
       "      <td>1995</td>\n",
       "      <td>Diogenes</td>\n",
       "      <td>28</td>\n",
       "      <td>vienna</td>\n",
       "      <td>austria</td>\n",
       "      <td>austria</td>\n",
       "    </tr>\n",
       "  </tbody>\n",
       "</table>\n",
       "</div>"
      ],
      "text/plain": [
       "              ISBN Book-Rating               Book-Title         Book-Author  \\\n",
       "131072  3257700040           0  Drei Katzengeschichten.  Patricia Highsmith   \n",
       "\n",
       "       Year-Of-Publication Publisher Age    City    State  Country  \n",
       "131072                1995  Diogenes  28  vienna  austria  austria  "
      ]
     },
     "metadata": {},
     "output_type": "display_data"
    },
    {
     "name": "stdout",
     "output_type": "stream",
     "text": [
      "\n",
      "------------Here are few recomendations based on your review that you may like-------------\n",
      "\n"
     ]
    },
    {
     "data": {
      "text/html": [
       "<div>\n",
       "<style scoped>\n",
       "    .dataframe tbody tr th:only-of-type {\n",
       "        vertical-align: middle;\n",
       "    }\n",
       "\n",
       "    .dataframe tbody tr th {\n",
       "        vertical-align: top;\n",
       "    }\n",
       "\n",
       "    .dataframe thead th {\n",
       "        text-align: right;\n",
       "    }\n",
       "</style>\n",
       "<table border=\"1\" class=\"dataframe\">\n",
       "  <thead>\n",
       "    <tr style=\"text-align: right;\">\n",
       "      <th></th>\n",
       "      <th>Book-Title</th>\n",
       "      <th>Book-Author</th>\n",
       "      <th>Year-Of-Publication</th>\n",
       "      <th>Publisher</th>\n",
       "      <th>City</th>\n",
       "      <th>State</th>\n",
       "      <th>Country</th>\n",
       "    </tr>\n",
       "  </thead>\n",
       "  <tbody>\n",
       "    <tr>\n",
       "      <th>130792</th>\n",
       "      <td>La VÃ?Â©randa au frangipanier</td>\n",
       "      <td>Mia Couto</td>\n",
       "      <td>2002</td>\n",
       "      <td>Editions 10/18</td>\n",
       "      <td>uccle</td>\n",
       "      <td>bruxelles</td>\n",
       "      <td>belgium</td>\n",
       "    </tr>\n",
       "    <tr>\n",
       "      <th>131486</th>\n",
       "      <td>Die Einladung.</td>\n",
       "      <td>Oriah Mountain Dreamer</td>\n",
       "      <td>2000</td>\n",
       "      <td>Goldmann</td>\n",
       "      <td>vienna</td>\n",
       "      <td>austria</td>\n",
       "      <td>austria</td>\n",
       "    </tr>\n",
       "    <tr>\n",
       "      <th>111146</th>\n",
       "      <td>A Chance for Life: The Suzanne Giroux Story</td>\n",
       "      <td>Suzanne Giroux</td>\n",
       "      <td>2001</td>\n",
       "      <td>ECW Press</td>\n",
       "      <td>winfield</td>\n",
       "      <td>alberta</td>\n",
       "      <td>canada</td>\n",
       "    </tr>\n",
       "    <tr>\n",
       "      <th>90354</th>\n",
       "      <td>Amorrada al pilÃ³ (Columna)</td>\n",
       "      <td>Maria JaÃ©n</td>\n",
       "      <td>1986</td>\n",
       "      <td>Columna</td>\n",
       "      <td>reus</td>\n",
       "      <td>catalunya</td>\n",
       "      <td>andorra</td>\n",
       "    </tr>\n",
       "    <tr>\n",
       "      <th>90356</th>\n",
       "      <td>S'han deixat la clau sota l'estora (ColÂ¨lecciÃ³ universal de butxaca el cangur ; 42)</td>\n",
       "      <td>Manuel de Pedrolo</td>\n",
       "      <td>1978</td>\n",
       "      <td>Edicions 62</td>\n",
       "      <td>reus</td>\n",
       "      <td>catalunya</td>\n",
       "      <td>andorra</td>\n",
       "    </tr>\n",
       "  </tbody>\n",
       "</table>\n",
       "</div>"
      ],
      "text/plain": [
       "                                                                                   Book-Title  \\\n",
       "130792                                                          La VÃ?Â©randa au frangipanier   \n",
       "131486                                                                         Die Einladung.   \n",
       "111146                                            A Chance for Life: The Suzanne Giroux Story   \n",
       "90354                                                             Amorrada al pilÃ³ (Columna)   \n",
       "90356   S'han deixat la clau sota l'estora (ColÂ¨lecciÃ³ universal de butxaca el cangur ; 42)   \n",
       "\n",
       "                   Book-Author  Year-Of-Publication       Publisher      City  \\\n",
       "130792               Mia Couto                 2002  Editions 10/18     uccle   \n",
       "131486  Oriah Mountain Dreamer                 2000        Goldmann    vienna   \n",
       "111146          Suzanne Giroux                 2001       ECW Press  winfield   \n",
       "90354              Maria JaÃ©n                 1986         Columna      reus   \n",
       "90356        Manuel de Pedrolo                 1978     Edicions 62      reus   \n",
       "\n",
       "            State  Country  \n",
       "130792  bruxelles  belgium  \n",
       "131486    austria  austria  \n",
       "111146    alberta   canada  \n",
       "90354   catalunya  andorra  \n",
       "90356   catalunya  andorra  "
      ]
     },
     "metadata": {},
     "output_type": "display_data"
    },
    {
     "name": "stdout",
     "output_type": "stream",
     "text": [
      "\n",
      "------------End-------------\n",
      "\n",
      "\n",
      "------------Your Review-------------\n",
      "\n"
     ]
    },
    {
     "data": {
      "text/html": [
       "<div>\n",
       "<style scoped>\n",
       "    .dataframe tbody tr th:only-of-type {\n",
       "        vertical-align: middle;\n",
       "    }\n",
       "\n",
       "    .dataframe tbody tr th {\n",
       "        vertical-align: top;\n",
       "    }\n",
       "\n",
       "    .dataframe thead th {\n",
       "        text-align: right;\n",
       "    }\n",
       "</style>\n",
       "<table border=\"1\" class=\"dataframe\">\n",
       "  <thead>\n",
       "    <tr style=\"text-align: right;\">\n",
       "      <th></th>\n",
       "      <th>ISBN</th>\n",
       "      <th>Book-Rating</th>\n",
       "      <th>Book-Title</th>\n",
       "      <th>Book-Author</th>\n",
       "      <th>Year-Of-Publication</th>\n",
       "      <th>Publisher</th>\n",
       "      <th>Age</th>\n",
       "      <th>City</th>\n",
       "      <th>State</th>\n",
       "      <th>Country</th>\n",
       "    </tr>\n",
       "  </thead>\n",
       "  <tbody>\n",
       "    <tr>\n",
       "      <th>101118</th>\n",
       "      <td>0609808346</td>\n",
       "      <td>10</td>\n",
       "      <td>Dispatches from the Tenth Circle: The Best of the Onion</td>\n",
       "      <td>ROBERT SIEGEL</td>\n",
       "      <td>2001</td>\n",
       "      <td>Three Rivers Press</td>\n",
       "      <td>34</td>\n",
       "      <td>brighton</td>\n",
       "      <td>england</td>\n",
       "      <td>united kingdom</td>\n",
       "    </tr>\n",
       "  </tbody>\n",
       "</table>\n",
       "</div>"
      ],
      "text/plain": [
       "              ISBN Book-Rating  \\\n",
       "101118  0609808346          10   \n",
       "\n",
       "                                                     Book-Title  \\\n",
       "101118  Dispatches from the Tenth Circle: The Best of the Onion   \n",
       "\n",
       "          Book-Author Year-Of-Publication           Publisher Age      City  \\\n",
       "101118  ROBERT SIEGEL                2001  Three Rivers Press  34  brighton   \n",
       "\n",
       "          State         Country  \n",
       "101118  england  united kingdom  "
      ]
     },
     "metadata": {},
     "output_type": "display_data"
    },
    {
     "name": "stdout",
     "output_type": "stream",
     "text": [
      "\n",
      "------------Here are few recomendations based on your review that you may like-------------\n",
      "\n"
     ]
    },
    {
     "data": {
      "text/html": [
       "<div>\n",
       "<style scoped>\n",
       "    .dataframe tbody tr th:only-of-type {\n",
       "        vertical-align: middle;\n",
       "    }\n",
       "\n",
       "    .dataframe tbody tr th {\n",
       "        vertical-align: top;\n",
       "    }\n",
       "\n",
       "    .dataframe thead th {\n",
       "        text-align: right;\n",
       "    }\n",
       "</style>\n",
       "<table border=\"1\" class=\"dataframe\">\n",
       "  <thead>\n",
       "    <tr style=\"text-align: right;\">\n",
       "      <th></th>\n",
       "      <th>Book-Title</th>\n",
       "      <th>Book-Author</th>\n",
       "      <th>Year-Of-Publication</th>\n",
       "      <th>Publisher</th>\n",
       "      <th>City</th>\n",
       "      <th>State</th>\n",
       "      <th>Country</th>\n",
       "    </tr>\n",
       "  </thead>\n",
       "  <tbody>\n",
       "    <tr>\n",
       "      <th>105478</th>\n",
       "      <td>Crashing the Party: How to Tell the Truth and Still Run for President</td>\n",
       "      <td>Ralph Nader</td>\n",
       "      <td>2001</td>\n",
       "      <td>St. Martin's Press</td>\n",
       "      <td>clearwater</td>\n",
       "      <td>florida</td>\n",
       "      <td>united states</td>\n",
       "    </tr>\n",
       "    <tr>\n",
       "      <th>76781</th>\n",
       "      <td>You Just Don't Duct Tape a Baby!: True Tales and Sensible Suggestions from a Veteran Pediatrician</td>\n",
       "      <td>Norman Weinberger</td>\n",
       "      <td>1997</td>\n",
       "      <td>Warner Books</td>\n",
       "      <td>buxton</td>\n",
       "      <td>england</td>\n",
       "      <td>united kingdom</td>\n",
       "    </tr>\n",
       "    <tr>\n",
       "      <th>95949</th>\n",
       "      <td>War Plan Iraq: Ten Reasons Against War with Iraq</td>\n",
       "      <td>Milan Rai</td>\n",
       "      <td>2002</td>\n",
       "      <td>W. W. Norton &amp;amp; Company</td>\n",
       "      <td>bolton</td>\n",
       "      <td>england</td>\n",
       "      <td>united kingdom</td>\n",
       "    </tr>\n",
       "    <tr>\n",
       "      <th>123141</th>\n",
       "      <td>About a Boy Uk</td>\n",
       "      <td>Nick Hornby</td>\n",
       "      <td>1998</td>\n",
       "      <td>Trafalgar Square</td>\n",
       "      <td>chorleywood</td>\n",
       "      <td>england</td>\n",
       "      <td>united kingdom</td>\n",
       "    </tr>\n",
       "    <tr>\n",
       "      <th>115521</th>\n",
       "      <td>Free</td>\n",
       "      <td>Paul Vincent</td>\n",
       "      <td>2003</td>\n",
       "      <td>Upfront Publishing</td>\n",
       "      <td>bath</td>\n",
       "      <td>england</td>\n",
       "      <td>united kingdom</td>\n",
       "    </tr>\n",
       "  </tbody>\n",
       "</table>\n",
       "</div>"
      ],
      "text/plain": [
       "                                                                                               Book-Title  \\\n",
       "105478                              Crashing the Party: How to Tell the Truth and Still Run for President   \n",
       "76781   You Just Don't Duct Tape a Baby!: True Tales and Sensible Suggestions from a Veteran Pediatrician   \n",
       "95949                                                    War Plan Iraq: Ten Reasons Against War with Iraq   \n",
       "123141                                                                                     About a Boy Uk   \n",
       "115521                                                                                               Free   \n",
       "\n",
       "              Book-Author  Year-Of-Publication                   Publisher  \\\n",
       "105478        Ralph Nader                 2001          St. Martin's Press   \n",
       "76781   Norman Weinberger                 1997                Warner Books   \n",
       "95949           Milan Rai                 2002  W. W. Norton &amp; Company   \n",
       "123141        Nick Hornby                 1998            Trafalgar Square   \n",
       "115521       Paul Vincent                 2003          Upfront Publishing   \n",
       "\n",
       "               City    State         Country  \n",
       "105478   clearwater  florida   united states  \n",
       "76781        buxton  england  united kingdom  \n",
       "95949        bolton  england  united kingdom  \n",
       "123141  chorleywood  england  united kingdom  \n",
       "115521         bath  england  united kingdom  "
      ]
     },
     "metadata": {},
     "output_type": "display_data"
    },
    {
     "name": "stdout",
     "output_type": "stream",
     "text": [
      "\n",
      "------------End-------------\n",
      "\n",
      "\n",
      "------------Your Review-------------\n",
      "\n"
     ]
    },
    {
     "data": {
      "text/html": [
       "<div>\n",
       "<style scoped>\n",
       "    .dataframe tbody tr th:only-of-type {\n",
       "        vertical-align: middle;\n",
       "    }\n",
       "\n",
       "    .dataframe tbody tr th {\n",
       "        vertical-align: top;\n",
       "    }\n",
       "\n",
       "    .dataframe thead th {\n",
       "        text-align: right;\n",
       "    }\n",
       "</style>\n",
       "<table border=\"1\" class=\"dataframe\">\n",
       "  <thead>\n",
       "    <tr style=\"text-align: right;\">\n",
       "      <th></th>\n",
       "      <th>ISBN</th>\n",
       "      <th>Book-Rating</th>\n",
       "      <th>Book-Title</th>\n",
       "      <th>Book-Author</th>\n",
       "      <th>Year-Of-Publication</th>\n",
       "      <th>Publisher</th>\n",
       "      <th>Age</th>\n",
       "      <th>City</th>\n",
       "      <th>State</th>\n",
       "      <th>Country</th>\n",
       "    </tr>\n",
       "  </thead>\n",
       "  <tbody>\n",
       "    <tr>\n",
       "      <th>91998</th>\n",
       "      <td>038000321X</td>\n",
       "      <td>0</td>\n",
       "      <td>Alive : The Story of the Andes Survivors (Avon Nonfiction)</td>\n",
       "      <td>Piers Paul Read</td>\n",
       "      <td>1975</td>\n",
       "      <td>Avon</td>\n",
       "      <td>34</td>\n",
       "      <td>blairmore</td>\n",
       "      <td>alberta</td>\n",
       "      <td>canada</td>\n",
       "    </tr>\n",
       "  </tbody>\n",
       "</table>\n",
       "</div>"
      ],
      "text/plain": [
       "             ISBN Book-Rating  \\\n",
       "91998  038000321X           0   \n",
       "\n",
       "                                                       Book-Title  \\\n",
       "91998  Alive : The Story of the Andes Survivors (Avon Nonfiction)   \n",
       "\n",
       "           Book-Author Year-Of-Publication Publisher Age       City    State  \\\n",
       "91998  Piers Paul Read                1975      Avon  34  blairmore  alberta   \n",
       "\n",
       "      Country  \n",
       "91998  canada  "
      ]
     },
     "metadata": {},
     "output_type": "display_data"
    },
    {
     "name": "stdout",
     "output_type": "stream",
     "text": [
      "\n",
      "------------Here are few recomendations based on your review that you may like-------------\n",
      "\n"
     ]
    },
    {
     "data": {
      "text/html": [
       "<div>\n",
       "<style scoped>\n",
       "    .dataframe tbody tr th:only-of-type {\n",
       "        vertical-align: middle;\n",
       "    }\n",
       "\n",
       "    .dataframe tbody tr th {\n",
       "        vertical-align: top;\n",
       "    }\n",
       "\n",
       "    .dataframe thead th {\n",
       "        text-align: right;\n",
       "    }\n",
       "</style>\n",
       "<table border=\"1\" class=\"dataframe\">\n",
       "  <thead>\n",
       "    <tr style=\"text-align: right;\">\n",
       "      <th></th>\n",
       "      <th>Book-Title</th>\n",
       "      <th>Book-Author</th>\n",
       "      <th>Year-Of-Publication</th>\n",
       "      <th>Publisher</th>\n",
       "      <th>City</th>\n",
       "      <th>State</th>\n",
       "      <th>Country</th>\n",
       "    </tr>\n",
       "  </thead>\n",
       "  <tbody>\n",
       "    <tr>\n",
       "      <th>20932</th>\n",
       "      <td>Jonathan Livingston Seagull</td>\n",
       "      <td>Richard Bach</td>\n",
       "      <td>1976</td>\n",
       "      <td>Avon</td>\n",
       "      <td>calgary</td>\n",
       "      <td>alberta</td>\n",
       "      <td>canada</td>\n",
       "    </tr>\n",
       "    <tr>\n",
       "      <th>57311</th>\n",
       "      <td>Juxtaposition (Apprentice Adept (Paperback))</td>\n",
       "      <td>Piers Anthony</td>\n",
       "      <td>1983</td>\n",
       "      <td>Ballantine Books</td>\n",
       "      <td>calgary</td>\n",
       "      <td>alberta</td>\n",
       "      <td>canada</td>\n",
       "    </tr>\n",
       "    <tr>\n",
       "      <th>20917</th>\n",
       "      <td>Zen and the Art of Motorcycle Maintenance: An Inquiry into Values</td>\n",
       "      <td>ROBERT PIRSIG</td>\n",
       "      <td>1984</td>\n",
       "      <td>Bantam</td>\n",
       "      <td>calgary</td>\n",
       "      <td>alberta</td>\n",
       "      <td>canada</td>\n",
       "    </tr>\n",
       "    <tr>\n",
       "      <th>21391</th>\n",
       "      <td>War with Evil Power Mast</td>\n",
       "      <td>Raymond A. Montgomery</td>\n",
       "      <td>1984</td>\n",
       "      <td>Bantam Books</td>\n",
       "      <td>calgary</td>\n",
       "      <td>alberta</td>\n",
       "      <td>canada</td>\n",
       "    </tr>\n",
       "    <tr>\n",
       "      <th>87212</th>\n",
       "      <td>Last Mafioso</td>\n",
       "      <td>Ovid Demaris</td>\n",
       "      <td>1981</td>\n",
       "      <td>Bantam Books</td>\n",
       "      <td>calgary</td>\n",
       "      <td>alberta</td>\n",
       "      <td>canada</td>\n",
       "    </tr>\n",
       "  </tbody>\n",
       "</table>\n",
       "</div>"
      ],
      "text/plain": [
       "                                                              Book-Title  \\\n",
       "20932                                        Jonathan Livingston Seagull   \n",
       "57311                       Juxtaposition (Apprentice Adept (Paperback))   \n",
       "20917  Zen and the Art of Motorcycle Maintenance: An Inquiry into Values   \n",
       "21391                                           War with Evil Power Mast   \n",
       "87212                                                       Last Mafioso   \n",
       "\n",
       "                 Book-Author  Year-Of-Publication         Publisher     City  \\\n",
       "20932           Richard Bach                 1976              Avon  calgary   \n",
       "57311          Piers Anthony                 1983  Ballantine Books  calgary   \n",
       "20917          ROBERT PIRSIG                 1984            Bantam  calgary   \n",
       "21391  Raymond A. Montgomery                 1984      Bantam Books  calgary   \n",
       "87212           Ovid Demaris                 1981      Bantam Books  calgary   \n",
       "\n",
       "         State Country  \n",
       "20932  alberta  canada  \n",
       "57311  alberta  canada  \n",
       "20917  alberta  canada  \n",
       "21391  alberta  canada  \n",
       "87212  alberta  canada  "
      ]
     },
     "metadata": {},
     "output_type": "display_data"
    },
    {
     "name": "stdout",
     "output_type": "stream",
     "text": [
      "\n",
      "------------End-------------\n",
      "\n",
      "\n",
      "------------Your Review-------------\n",
      "\n"
     ]
    },
    {
     "data": {
      "text/html": [
       "<div>\n",
       "<style scoped>\n",
       "    .dataframe tbody tr th:only-of-type {\n",
       "        vertical-align: middle;\n",
       "    }\n",
       "\n",
       "    .dataframe tbody tr th {\n",
       "        vertical-align: top;\n",
       "    }\n",
       "\n",
       "    .dataframe thead th {\n",
       "        text-align: right;\n",
       "    }\n",
       "</style>\n",
       "<table border=\"1\" class=\"dataframe\">\n",
       "  <thead>\n",
       "    <tr style=\"text-align: right;\">\n",
       "      <th></th>\n",
       "      <th>ISBN</th>\n",
       "      <th>Book-Rating</th>\n",
       "      <th>Book-Title</th>\n",
       "      <th>Book-Author</th>\n",
       "      <th>Year-Of-Publication</th>\n",
       "      <th>Publisher</th>\n",
       "      <th>Age</th>\n",
       "      <th>City</th>\n",
       "      <th>State</th>\n",
       "      <th>Country</th>\n",
       "    </tr>\n",
       "  </thead>\n",
       "  <tbody>\n",
       "    <tr>\n",
       "      <th>35707</th>\n",
       "      <td>0671569031</td>\n",
       "      <td>0</td>\n",
       "      <td>Amaryllis</td>\n",
       "      <td>Jayne Castle</td>\n",
       "      <td>1998</td>\n",
       "      <td>Pocket</td>\n",
       "      <td>30</td>\n",
       "      <td>london</td>\n",
       "      <td>ontario</td>\n",
       "      <td>canada</td>\n",
       "    </tr>\n",
       "  </tbody>\n",
       "</table>\n",
       "</div>"
      ],
      "text/plain": [
       "             ISBN Book-Rating Book-Title   Book-Author Year-Of-Publication  \\\n",
       "35707  0671569031           0  Amaryllis  Jayne Castle                1998   \n",
       "\n",
       "      Publisher Age    City    State Country  \n",
       "35707    Pocket  30  london  ontario  canada  "
      ]
     },
     "metadata": {},
     "output_type": "display_data"
    },
    {
     "name": "stdout",
     "output_type": "stream",
     "text": [
      "\n",
      "------------Here are few recomendations based on your review that you may like-------------\n",
      "\n"
     ]
    },
    {
     "data": {
      "text/html": [
       "<div>\n",
       "<style scoped>\n",
       "    .dataframe tbody tr th:only-of-type {\n",
       "        vertical-align: middle;\n",
       "    }\n",
       "\n",
       "    .dataframe tbody tr th {\n",
       "        vertical-align: top;\n",
       "    }\n",
       "\n",
       "    .dataframe thead th {\n",
       "        text-align: right;\n",
       "    }\n",
       "</style>\n",
       "<table border=\"1\" class=\"dataframe\">\n",
       "  <thead>\n",
       "    <tr style=\"text-align: right;\">\n",
       "      <th></th>\n",
       "      <th>Book-Title</th>\n",
       "      <th>Book-Author</th>\n",
       "      <th>Year-Of-Publication</th>\n",
       "      <th>Publisher</th>\n",
       "      <th>City</th>\n",
       "      <th>State</th>\n",
       "      <th>Country</th>\n",
       "    </tr>\n",
       "  </thead>\n",
       "  <tbody>\n",
       "    <tr>\n",
       "      <th>84468</th>\n",
       "      <td>Murder (L.a. Connections)</td>\n",
       "      <td>Jackie Collins</td>\n",
       "      <td>1998</td>\n",
       "      <td>Pocket</td>\n",
       "      <td>london</td>\n",
       "      <td>ontario</td>\n",
       "      <td>canada</td>\n",
       "    </tr>\n",
       "    <tr>\n",
       "      <th>31976</th>\n",
       "      <td>Flash</td>\n",
       "      <td>Jayne Ann Krentz</td>\n",
       "      <td>1999</td>\n",
       "      <td>Pocket Star</td>\n",
       "      <td>kitchener</td>\n",
       "      <td>ontario</td>\n",
       "      <td>canada</td>\n",
       "    </tr>\n",
       "    <tr>\n",
       "      <th>84473</th>\n",
       "      <td>Slackjaw</td>\n",
       "      <td>Jim Knipfel</td>\n",
       "      <td>1999</td>\n",
       "      <td>Putnam Publishing Group</td>\n",
       "      <td>london</td>\n",
       "      <td>ontario</td>\n",
       "      <td>canada</td>\n",
       "    </tr>\n",
       "    <tr>\n",
       "      <th>62277</th>\n",
       "      <td>Cool Dead People: Obituaries of Real Folks We Wish We'd Met a Little Sooner</td>\n",
       "      <td>Jane O'Boyle</td>\n",
       "      <td>2001</td>\n",
       "      <td>Plume Books</td>\n",
       "      <td>milton</td>\n",
       "      <td>ontario</td>\n",
       "      <td>canada</td>\n",
       "    </tr>\n",
       "    <tr>\n",
       "      <th>31782</th>\n",
       "      <td>Wildest Hearts</td>\n",
       "      <td>Jayne Ann Krentz</td>\n",
       "      <td>1993</td>\n",
       "      <td>Pocket</td>\n",
       "      <td>kitchener</td>\n",
       "      <td>ontario</td>\n",
       "      <td>canada</td>\n",
       "    </tr>\n",
       "  </tbody>\n",
       "</table>\n",
       "</div>"
      ],
      "text/plain": [
       "                                                                        Book-Title  \\\n",
       "84468                                                    Murder (L.a. Connections)   \n",
       "31976                                                                        Flash   \n",
       "84473                                                                     Slackjaw   \n",
       "62277  Cool Dead People: Obituaries of Real Folks We Wish We'd Met a Little Sooner   \n",
       "31782                                                               Wildest Hearts   \n",
       "\n",
       "            Book-Author  Year-Of-Publication                Publisher  \\\n",
       "84468    Jackie Collins                 1998                   Pocket   \n",
       "31976  Jayne Ann Krentz                 1999              Pocket Star   \n",
       "84473       Jim Knipfel                 1999  Putnam Publishing Group   \n",
       "62277      Jane O'Boyle                 2001              Plume Books   \n",
       "31782  Jayne Ann Krentz                 1993                   Pocket   \n",
       "\n",
       "            City    State Country  \n",
       "84468     london  ontario  canada  \n",
       "31976  kitchener  ontario  canada  \n",
       "84473     london  ontario  canada  \n",
       "62277     milton  ontario  canada  \n",
       "31782  kitchener  ontario  canada  "
      ]
     },
     "metadata": {},
     "output_type": "display_data"
    },
    {
     "name": "stdout",
     "output_type": "stream",
     "text": [
      "\n",
      "------------End-------------\n",
      "\n",
      "\n",
      "------------Your Review-------------\n",
      "\n"
     ]
    },
    {
     "data": {
      "text/html": [
       "<div>\n",
       "<style scoped>\n",
       "    .dataframe tbody tr th:only-of-type {\n",
       "        vertical-align: middle;\n",
       "    }\n",
       "\n",
       "    .dataframe tbody tr th {\n",
       "        vertical-align: top;\n",
       "    }\n",
       "\n",
       "    .dataframe thead th {\n",
       "        text-align: right;\n",
       "    }\n",
       "</style>\n",
       "<table border=\"1\" class=\"dataframe\">\n",
       "  <thead>\n",
       "    <tr style=\"text-align: right;\">\n",
       "      <th></th>\n",
       "      <th>ISBN</th>\n",
       "      <th>Book-Rating</th>\n",
       "      <th>Book-Title</th>\n",
       "      <th>Book-Author</th>\n",
       "      <th>Year-Of-Publication</th>\n",
       "      <th>Publisher</th>\n",
       "      <th>Age</th>\n",
       "      <th>City</th>\n",
       "      <th>State</th>\n",
       "      <th>Country</th>\n",
       "    </tr>\n",
       "  </thead>\n",
       "  <tbody>\n",
       "    <tr>\n",
       "      <th>65632</th>\n",
       "      <td>0441166105</td>\n",
       "      <td>7</td>\n",
       "      <td>The Dragon in the Sword (Dragon in the Sword)</td>\n",
       "      <td>Michael Moorcock</td>\n",
       "      <td>1987</td>\n",
       "      <td>Ace Books</td>\n",
       "      <td>38</td>\n",
       "      <td>london</td>\n",
       "      <td>england</td>\n",
       "      <td>united kingdom</td>\n",
       "    </tr>\n",
       "  </tbody>\n",
       "</table>\n",
       "</div>"
      ],
      "text/plain": [
       "             ISBN Book-Rating                                     Book-Title  \\\n",
       "65632  0441166105           7  The Dragon in the Sword (Dragon in the Sword)   \n",
       "\n",
       "            Book-Author Year-Of-Publication  Publisher Age    City    State  \\\n",
       "65632  Michael Moorcock                1987  Ace Books  38  london  england   \n",
       "\n",
       "              Country  \n",
       "65632  united kingdom  "
      ]
     },
     "metadata": {},
     "output_type": "display_data"
    },
    {
     "name": "stdout",
     "output_type": "stream",
     "text": [
      "\n",
      "------------Here are few recomendations based on your review that you may like-------------\n",
      "\n"
     ]
    },
    {
     "data": {
      "text/html": [
       "<div>\n",
       "<style scoped>\n",
       "    .dataframe tbody tr th:only-of-type {\n",
       "        vertical-align: middle;\n",
       "    }\n",
       "\n",
       "    .dataframe tbody tr th {\n",
       "        vertical-align: top;\n",
       "    }\n",
       "\n",
       "    .dataframe thead th {\n",
       "        text-align: right;\n",
       "    }\n",
       "</style>\n",
       "<table border=\"1\" class=\"dataframe\">\n",
       "  <thead>\n",
       "    <tr style=\"text-align: right;\">\n",
       "      <th></th>\n",
       "      <th>Book-Title</th>\n",
       "      <th>Book-Author</th>\n",
       "      <th>Year-Of-Publication</th>\n",
       "      <th>Publisher</th>\n",
       "      <th>City</th>\n",
       "      <th>State</th>\n",
       "      <th>Country</th>\n",
       "    </tr>\n",
       "  </thead>\n",
       "  <tbody>\n",
       "    <tr>\n",
       "      <th>67181</th>\n",
       "      <td>Story of O</td>\n",
       "      <td>Pauline Reage</td>\n",
       "      <td>1989</td>\n",
       "      <td>Ballantine Books</td>\n",
       "      <td>london</td>\n",
       "      <td>england</td>\n",
       "      <td>united kingdom</td>\n",
       "    </tr>\n",
       "    <tr>\n",
       "      <th>68072</th>\n",
       "      <td>The Myths of Privatisation</td>\n",
       "      <td>Michael Forsyth</td>\n",
       "      <td>1983</td>\n",
       "      <td>Adam Smith Institute</td>\n",
       "      <td>london</td>\n",
       "      <td>england</td>\n",
       "      <td>united kingdom</td>\n",
       "    </tr>\n",
       "    <tr>\n",
       "      <th>79898</th>\n",
       "      <td>Momilies: As My Mother Used to Say</td>\n",
       "      <td>Michele Slung</td>\n",
       "      <td>1988</td>\n",
       "      <td>Ballantine Books</td>\n",
       "      <td>london</td>\n",
       "      <td>england</td>\n",
       "      <td>united kingdom</td>\n",
       "    </tr>\n",
       "    <tr>\n",
       "      <th>67287</th>\n",
       "      <td>Dr. Miriam Stoppard's Pregnancy and Birth Book</td>\n",
       "      <td>Miriam Stoppard</td>\n",
       "      <td>1990</td>\n",
       "      <td>Ballantine Books</td>\n",
       "      <td>london</td>\n",
       "      <td>england</td>\n",
       "      <td>united kingdom</td>\n",
       "    </tr>\n",
       "    <tr>\n",
       "      <th>68082</th>\n",
       "      <td>King Ink II</td>\n",
       "      <td>Nick Cave</td>\n",
       "      <td>1997</td>\n",
       "      <td>Black Spring Press</td>\n",
       "      <td>london</td>\n",
       "      <td>england</td>\n",
       "      <td>united kingdom</td>\n",
       "    </tr>\n",
       "  </tbody>\n",
       "</table>\n",
       "</div>"
      ],
      "text/plain": [
       "                                           Book-Title      Book-Author  \\\n",
       "67181                                      Story of O    Pauline Reage   \n",
       "68072                      The Myths of Privatisation  Michael Forsyth   \n",
       "79898              Momilies: As My Mother Used to Say    Michele Slung   \n",
       "67287  Dr. Miriam Stoppard's Pregnancy and Birth Book  Miriam Stoppard   \n",
       "68082                                     King Ink II        Nick Cave   \n",
       "\n",
       "       Year-Of-Publication             Publisher    City    State  \\\n",
       "67181                 1989      Ballantine Books  london  england   \n",
       "68072                 1983  Adam Smith Institute  london  england   \n",
       "79898                 1988      Ballantine Books  london  england   \n",
       "67287                 1990      Ballantine Books  london  england   \n",
       "68082                 1997    Black Spring Press  london  england   \n",
       "\n",
       "              Country  \n",
       "67181  united kingdom  \n",
       "68072  united kingdom  \n",
       "79898  united kingdom  \n",
       "67287  united kingdom  \n",
       "68082  united kingdom  "
      ]
     },
     "metadata": {},
     "output_type": "display_data"
    },
    {
     "name": "stdout",
     "output_type": "stream",
     "text": [
      "\n",
      "------------End-------------\n",
      "\n",
      "\n",
      "------------Your Review-------------\n",
      "\n"
     ]
    },
    {
     "data": {
      "text/html": [
       "<div>\n",
       "<style scoped>\n",
       "    .dataframe tbody tr th:only-of-type {\n",
       "        vertical-align: middle;\n",
       "    }\n",
       "\n",
       "    .dataframe tbody tr th {\n",
       "        vertical-align: top;\n",
       "    }\n",
       "\n",
       "    .dataframe thead th {\n",
       "        text-align: right;\n",
       "    }\n",
       "</style>\n",
       "<table border=\"1\" class=\"dataframe\">\n",
       "  <thead>\n",
       "    <tr style=\"text-align: right;\">\n",
       "      <th></th>\n",
       "      <th>ISBN</th>\n",
       "      <th>Book-Rating</th>\n",
       "      <th>Book-Title</th>\n",
       "      <th>Book-Author</th>\n",
       "      <th>Year-Of-Publication</th>\n",
       "      <th>Publisher</th>\n",
       "      <th>Age</th>\n",
       "      <th>City</th>\n",
       "      <th>State</th>\n",
       "      <th>Country</th>\n",
       "    </tr>\n",
       "  </thead>\n",
       "  <tbody>\n",
       "    <tr>\n",
       "      <th>132745</th>\n",
       "      <td>0141314435</td>\n",
       "      <td>0</td>\n",
       "      <td>Adults Only</td>\n",
       "      <td>Morris Gleitzman</td>\n",
       "      <td>2004</td>\n",
       "      <td>Puffin Books</td>\n",
       "      <td>12</td>\n",
       "      <td>norwich</td>\n",
       "      <td>england</td>\n",
       "      <td>united kingdom</td>\n",
       "    </tr>\n",
       "  </tbody>\n",
       "</table>\n",
       "</div>"
      ],
      "text/plain": [
       "              ISBN Book-Rating   Book-Title       Book-Author  \\\n",
       "132745  0141314435           0  Adults Only  Morris Gleitzman   \n",
       "\n",
       "       Year-Of-Publication     Publisher Age     City    State         Country  \n",
       "132745                2004  Puffin Books  12  norwich  england  united kingdom  "
      ]
     },
     "metadata": {},
     "output_type": "display_data"
    },
    {
     "name": "stdout",
     "output_type": "stream",
     "text": [
      "\n",
      "------------Here are few recomendations based on your review that you may like-------------\n",
      "\n"
     ]
    },
    {
     "data": {
      "text/html": [
       "<div>\n",
       "<style scoped>\n",
       "    .dataframe tbody tr th:only-of-type {\n",
       "        vertical-align: middle;\n",
       "    }\n",
       "\n",
       "    .dataframe tbody tr th {\n",
       "        vertical-align: top;\n",
       "    }\n",
       "\n",
       "    .dataframe thead th {\n",
       "        text-align: right;\n",
       "    }\n",
       "</style>\n",
       "<table border=\"1\" class=\"dataframe\">\n",
       "  <thead>\n",
       "    <tr style=\"text-align: right;\">\n",
       "      <th></th>\n",
       "      <th>Book-Title</th>\n",
       "      <th>Book-Author</th>\n",
       "      <th>Year-Of-Publication</th>\n",
       "      <th>Publisher</th>\n",
       "      <th>City</th>\n",
       "      <th>State</th>\n",
       "      <th>Country</th>\n",
       "    </tr>\n",
       "  </thead>\n",
       "  <tbody>\n",
       "    <tr>\n",
       "      <th>110767</th>\n",
       "      <td>About a Boy</td>\n",
       "      <td>Nick Hornby</td>\n",
       "      <td>2000</td>\n",
       "      <td>Penguin Books Ltd</td>\n",
       "      <td>nuneaton</td>\n",
       "      <td>england</td>\n",
       "      <td>united kingdom</td>\n",
       "    </tr>\n",
       "    <tr>\n",
       "      <th>91268</th>\n",
       "      <td>The Unbearable Lightness of Being : A Novel (Perennial Classics)</td>\n",
       "      <td>Milan Kundera</td>\n",
       "      <td>1999</td>\n",
       "      <td>Perennial</td>\n",
       "      <td>london</td>\n",
       "      <td>england</td>\n",
       "      <td>united kingdom</td>\n",
       "    </tr>\n",
       "    <tr>\n",
       "      <th>122934</th>\n",
       "      <td>The Tiger in the Well</td>\n",
       "      <td>Philip Pullman</td>\n",
       "      <td>1999</td>\n",
       "      <td>Scholastic Ltd</td>\n",
       "      <td>preston</td>\n",
       "      <td>england</td>\n",
       "      <td>united kingdom</td>\n",
       "    </tr>\n",
       "    <tr>\n",
       "      <th>123275</th>\n",
       "      <td>Deck the Halls (Holiday Classics)</td>\n",
       "      <td>Mary Higgins Clark</td>\n",
       "      <td>2002</td>\n",
       "      <td>Pocket</td>\n",
       "      <td>manchester</td>\n",
       "      <td>england</td>\n",
       "      <td>united kingdom</td>\n",
       "    </tr>\n",
       "    <tr>\n",
       "      <th>33543</th>\n",
       "      <td>I Thought My Father Was God: And Other True Tales from NPR's National Story Project</td>\n",
       "      <td>Paul Auster</td>\n",
       "      <td>2002</td>\n",
       "      <td>Picador</td>\n",
       "      <td>london</td>\n",
       "      <td>england</td>\n",
       "      <td>united kingdom</td>\n",
       "    </tr>\n",
       "  </tbody>\n",
       "</table>\n",
       "</div>"
      ],
      "text/plain": [
       "                                                                                 Book-Title  \\\n",
       "110767                                                                          About a Boy   \n",
       "91268                      The Unbearable Lightness of Being : A Novel (Perennial Classics)   \n",
       "122934                                                                The Tiger in the Well   \n",
       "123275                                                    Deck the Halls (Holiday Classics)   \n",
       "33543   I Thought My Father Was God: And Other True Tales from NPR's National Story Project   \n",
       "\n",
       "               Book-Author  Year-Of-Publication          Publisher  \\\n",
       "110767         Nick Hornby                 2000  Penguin Books Ltd   \n",
       "91268        Milan Kundera                 1999          Perennial   \n",
       "122934      Philip Pullman                 1999     Scholastic Ltd   \n",
       "123275  Mary Higgins Clark                 2002             Pocket   \n",
       "33543          Paul Auster                 2002            Picador   \n",
       "\n",
       "              City    State         Country  \n",
       "110767    nuneaton  england  united kingdom  \n",
       "91268       london  england  united kingdom  \n",
       "122934     preston  england  united kingdom  \n",
       "123275  manchester  england  united kingdom  \n",
       "33543       london  england  united kingdom  "
      ]
     },
     "metadata": {},
     "output_type": "display_data"
    },
    {
     "name": "stdout",
     "output_type": "stream",
     "text": [
      "\n",
      "------------End-------------\n",
      "\n",
      "\n",
      "------------Your Review-------------\n",
      "\n"
     ]
    },
    {
     "data": {
      "text/html": [
       "<div>\n",
       "<style scoped>\n",
       "    .dataframe tbody tr th:only-of-type {\n",
       "        vertical-align: middle;\n",
       "    }\n",
       "\n",
       "    .dataframe tbody tr th {\n",
       "        vertical-align: top;\n",
       "    }\n",
       "\n",
       "    .dataframe thead th {\n",
       "        text-align: right;\n",
       "    }\n",
       "</style>\n",
       "<table border=\"1\" class=\"dataframe\">\n",
       "  <thead>\n",
       "    <tr style=\"text-align: right;\">\n",
       "      <th></th>\n",
       "      <th>ISBN</th>\n",
       "      <th>Book-Rating</th>\n",
       "      <th>Book-Title</th>\n",
       "      <th>Book-Author</th>\n",
       "      <th>Year-Of-Publication</th>\n",
       "      <th>Publisher</th>\n",
       "      <th>Age</th>\n",
       "      <th>City</th>\n",
       "      <th>State</th>\n",
       "      <th>Country</th>\n",
       "    </tr>\n",
       "  </thead>\n",
       "  <tbody>\n",
       "    <tr>\n",
       "      <th>61581</th>\n",
       "      <td>0452282128</td>\n",
       "      <td>0</td>\n",
       "      <td>Thirty Nothing</td>\n",
       "      <td>Lisa Jewell</td>\n",
       "      <td>2001</td>\n",
       "      <td>Plume Books</td>\n",
       "      <td>25</td>\n",
       "      <td>calgary</td>\n",
       "      <td>alberta</td>\n",
       "      <td>canada</td>\n",
       "    </tr>\n",
       "  </tbody>\n",
       "</table>\n",
       "</div>"
      ],
      "text/plain": [
       "             ISBN Book-Rating      Book-Title  Book-Author  \\\n",
       "61581  0452282128           0  Thirty Nothing  Lisa Jewell   \n",
       "\n",
       "      Year-Of-Publication    Publisher Age     City    State Country  \n",
       "61581                2001  Plume Books  25  calgary  alberta  canada  "
      ]
     },
     "metadata": {},
     "output_type": "display_data"
    },
    {
     "name": "stdout",
     "output_type": "stream",
     "text": [
      "\n",
      "------------Here are few recomendations based on your review that you may like-------------\n",
      "\n"
     ]
    },
    {
     "data": {
      "text/html": [
       "<div>\n",
       "<style scoped>\n",
       "    .dataframe tbody tr th:only-of-type {\n",
       "        vertical-align: middle;\n",
       "    }\n",
       "\n",
       "    .dataframe tbody tr th {\n",
       "        vertical-align: top;\n",
       "    }\n",
       "\n",
       "    .dataframe thead th {\n",
       "        text-align: right;\n",
       "    }\n",
       "</style>\n",
       "<table border=\"1\" class=\"dataframe\">\n",
       "  <thead>\n",
       "    <tr style=\"text-align: right;\">\n",
       "      <th></th>\n",
       "      <th>Book-Title</th>\n",
       "      <th>Book-Author</th>\n",
       "      <th>Year-Of-Publication</th>\n",
       "      <th>Publisher</th>\n",
       "      <th>City</th>\n",
       "      <th>State</th>\n",
       "      <th>Country</th>\n",
       "    </tr>\n",
       "  </thead>\n",
       "  <tbody>\n",
       "    <tr>\n",
       "      <th>18158</th>\n",
       "      <td>The Lives of a Cell: Notes of a Biology Watcher</td>\n",
       "      <td>Lewis Thomas</td>\n",
       "      <td>1995</td>\n",
       "      <td>Penguin Books</td>\n",
       "      <td>calgary</td>\n",
       "      <td>alberta</td>\n",
       "      <td>canada</td>\n",
       "    </tr>\n",
       "    <tr>\n",
       "      <th>61677</th>\n",
       "      <td>It's True! It's True!</td>\n",
       "      <td>Kurt Angle</td>\n",
       "      <td>2001</td>\n",
       "      <td>ReganBooks</td>\n",
       "      <td>calgary</td>\n",
       "      <td>alberta</td>\n",
       "      <td>canada</td>\n",
       "    </tr>\n",
       "    <tr>\n",
       "      <th>26334</th>\n",
       "      <td>The Ethical Canary: Science, Society and the Human Spirit</td>\n",
       "      <td>Margaret Somerville</td>\n",
       "      <td>2003</td>\n",
       "      <td>Penguin Books Canada</td>\n",
       "      <td>calgary</td>\n",
       "      <td>alberta</td>\n",
       "      <td>canada</td>\n",
       "    </tr>\n",
       "    <tr>\n",
       "      <th>17971</th>\n",
       "      <td>Pretend You Don't See Her</td>\n",
       "      <td>Mary Higgins Clark</td>\n",
       "      <td>1998</td>\n",
       "      <td>Pocket</td>\n",
       "      <td>calgary</td>\n",
       "      <td>alberta</td>\n",
       "      <td>canada</td>\n",
       "    </tr>\n",
       "    <tr>\n",
       "      <th>106847</th>\n",
       "      <td>Songs in Ordinary Time (Oprah's Book Club (Paperback))</td>\n",
       "      <td>Mary McGarry Morris</td>\n",
       "      <td>1996</td>\n",
       "      <td>Penguin Books</td>\n",
       "      <td>calgary</td>\n",
       "      <td>alberta</td>\n",
       "      <td>canada</td>\n",
       "    </tr>\n",
       "  </tbody>\n",
       "</table>\n",
       "</div>"
      ],
      "text/plain": [
       "                                                       Book-Title  \\\n",
       "18158             The Lives of a Cell: Notes of a Biology Watcher   \n",
       "61677                                       It's True! It's True!   \n",
       "26334   The Ethical Canary: Science, Society and the Human Spirit   \n",
       "17971                                   Pretend You Don't See Her   \n",
       "106847     Songs in Ordinary Time (Oprah's Book Club (Paperback))   \n",
       "\n",
       "                Book-Author  Year-Of-Publication             Publisher  \\\n",
       "18158          Lewis Thomas                 1995         Penguin Books   \n",
       "61677            Kurt Angle                 2001            ReganBooks   \n",
       "26334   Margaret Somerville                 2003  Penguin Books Canada   \n",
       "17971    Mary Higgins Clark                 1998                Pocket   \n",
       "106847  Mary McGarry Morris                 1996         Penguin Books   \n",
       "\n",
       "           City    State Country  \n",
       "18158   calgary  alberta  canada  \n",
       "61677   calgary  alberta  canada  \n",
       "26334   calgary  alberta  canada  \n",
       "17971   calgary  alberta  canada  \n",
       "106847  calgary  alberta  canada  "
      ]
     },
     "metadata": {},
     "output_type": "display_data"
    },
    {
     "name": "stdout",
     "output_type": "stream",
     "text": [
      "\n",
      "------------End-------------\n",
      "\n",
      "\n",
      "------------Your Review-------------\n",
      "\n"
     ]
    },
    {
     "data": {
      "text/html": [
       "<div>\n",
       "<style scoped>\n",
       "    .dataframe tbody tr th:only-of-type {\n",
       "        vertical-align: middle;\n",
       "    }\n",
       "\n",
       "    .dataframe tbody tr th {\n",
       "        vertical-align: top;\n",
       "    }\n",
       "\n",
       "    .dataframe thead th {\n",
       "        text-align: right;\n",
       "    }\n",
       "</style>\n",
       "<table border=\"1\" class=\"dataframe\">\n",
       "  <thead>\n",
       "    <tr style=\"text-align: right;\">\n",
       "      <th></th>\n",
       "      <th>ISBN</th>\n",
       "      <th>Book-Rating</th>\n",
       "      <th>Book-Title</th>\n",
       "      <th>Book-Author</th>\n",
       "      <th>Year-Of-Publication</th>\n",
       "      <th>Publisher</th>\n",
       "      <th>Age</th>\n",
       "      <th>City</th>\n",
       "      <th>State</th>\n",
       "      <th>Country</th>\n",
       "    </tr>\n",
       "  </thead>\n",
       "  <tbody>\n",
       "    <tr>\n",
       "      <th>103434</th>\n",
       "      <td>0263802337</td>\n",
       "      <td>5</td>\n",
       "      <td>The Way to a Man's Heart (Enchanted)</td>\n",
       "      <td>Debbie Macomber</td>\n",
       "      <td>1997</td>\n",
       "      <td>Harlequin Mills &amp;amp; Boon Ltd</td>\n",
       "      <td>37</td>\n",
       "      <td>abertillery</td>\n",
       "      <td>wales</td>\n",
       "      <td>united kingdom</td>\n",
       "    </tr>\n",
       "  </tbody>\n",
       "</table>\n",
       "</div>"
      ],
      "text/plain": [
       "              ISBN Book-Rating                            Book-Title  \\\n",
       "103434  0263802337           5  The Way to a Man's Heart (Enchanted)   \n",
       "\n",
       "            Book-Author Year-Of-Publication                       Publisher  \\\n",
       "103434  Debbie Macomber                1997  Harlequin Mills &amp; Boon Ltd   \n",
       "\n",
       "       Age         City  State         Country  \n",
       "103434  37  abertillery  wales  united kingdom  "
      ]
     },
     "metadata": {},
     "output_type": "display_data"
    },
    {
     "name": "stdout",
     "output_type": "stream",
     "text": [
      "\n",
      "------------Here are few recomendations based on your review that you may like-------------\n",
      "\n"
     ]
    },
    {
     "data": {
      "text/html": [
       "<div>\n",
       "<style scoped>\n",
       "    .dataframe tbody tr th:only-of-type {\n",
       "        vertical-align: middle;\n",
       "    }\n",
       "\n",
       "    .dataframe tbody tr th {\n",
       "        vertical-align: top;\n",
       "    }\n",
       "\n",
       "    .dataframe thead th {\n",
       "        text-align: right;\n",
       "    }\n",
       "</style>\n",
       "<table border=\"1\" class=\"dataframe\">\n",
       "  <thead>\n",
       "    <tr style=\"text-align: right;\">\n",
       "      <th></th>\n",
       "      <th>Book-Title</th>\n",
       "      <th>Book-Author</th>\n",
       "      <th>Year-Of-Publication</th>\n",
       "      <th>Publisher</th>\n",
       "      <th>City</th>\n",
       "      <th>State</th>\n",
       "      <th>Country</th>\n",
       "    </tr>\n",
       "  </thead>\n",
       "  <tbody>\n",
       "    <tr>\n",
       "      <th>103435</th>\n",
       "      <td>Christmas Masquerades (By Request)</td>\n",
       "      <td>Darcy</td>\n",
       "      <td>1998</td>\n",
       "      <td>Harlequin Mills &amp;amp; Boon Ltd</td>\n",
       "      <td>abertillery</td>\n",
       "      <td>wales</td>\n",
       "      <td>united kingdom</td>\n",
       "    </tr>\n",
       "    <tr>\n",
       "      <th>103405</th>\n",
       "      <td>No Bride But His (Lovers Under Cover) (Harlequin Intrigue)</td>\n",
       "      <td>David Bishop</td>\n",
       "      <td>2000</td>\n",
       "      <td>Harlequin</td>\n",
       "      <td>abertillery</td>\n",
       "      <td>wales</td>\n",
       "      <td>united kingdom</td>\n",
       "    </tr>\n",
       "    <tr>\n",
       "      <th>103457</th>\n",
       "      <td>Baby'S First Christmas  (Christmas Is For Kids) (Harlequin American Romances, 754)</td>\n",
       "      <td>Cathy Gillen Thacker</td>\n",
       "      <td>1998</td>\n",
       "      <td>Harlequin</td>\n",
       "      <td>abertillery</td>\n",
       "      <td>wales</td>\n",
       "      <td>united kingdom</td>\n",
       "    </tr>\n",
       "    <tr>\n",
       "      <th>103456</th>\n",
       "      <td>Matchmaking Baby (Bride'S Bay) (Harlequin American Romance, No 613)</td>\n",
       "      <td>Cathy Gillen Thacker</td>\n",
       "      <td>1995</td>\n",
       "      <td>Harlequin</td>\n",
       "      <td>abertillery</td>\n",
       "      <td>wales</td>\n",
       "      <td>united kingdom</td>\n",
       "    </tr>\n",
       "    <tr>\n",
       "      <th>103419</th>\n",
       "      <td>Cowboy Kind Of Daddy (The Mccabes Of Texas) (Harlequin American Romance, 801)</td>\n",
       "      <td>Cathy Gillen Thacker</td>\n",
       "      <td>1999</td>\n",
       "      <td>Harlequin</td>\n",
       "      <td>abertillery</td>\n",
       "      <td>wales</td>\n",
       "      <td>united kingdom</td>\n",
       "    </tr>\n",
       "  </tbody>\n",
       "</table>\n",
       "</div>"
      ],
      "text/plain": [
       "                                                                                Book-Title  \\\n",
       "103435                                                  Christmas Masquerades (By Request)   \n",
       "103405                          No Bride But His (Lovers Under Cover) (Harlequin Intrigue)   \n",
       "103457  Baby'S First Christmas  (Christmas Is For Kids) (Harlequin American Romances, 754)   \n",
       "103456                 Matchmaking Baby (Bride'S Bay) (Harlequin American Romance, No 613)   \n",
       "103419       Cowboy Kind Of Daddy (The Mccabes Of Texas) (Harlequin American Romance, 801)   \n",
       "\n",
       "                 Book-Author  Year-Of-Publication  \\\n",
       "103435                 Darcy                 1998   \n",
       "103405          David Bishop                 2000   \n",
       "103457  Cathy Gillen Thacker                 1998   \n",
       "103456  Cathy Gillen Thacker                 1995   \n",
       "103419  Cathy Gillen Thacker                 1999   \n",
       "\n",
       "                             Publisher         City  State         Country  \n",
       "103435  Harlequin Mills &amp; Boon Ltd  abertillery  wales  united kingdom  \n",
       "103405                       Harlequin  abertillery  wales  united kingdom  \n",
       "103457                       Harlequin  abertillery  wales  united kingdom  \n",
       "103456                       Harlequin  abertillery  wales  united kingdom  \n",
       "103419                       Harlequin  abertillery  wales  united kingdom  "
      ]
     },
     "metadata": {},
     "output_type": "display_data"
    },
    {
     "name": "stdout",
     "output_type": "stream",
     "text": [
      "\n",
      "------------End-------------\n",
      "\n",
      "\n",
      "------------Your Review-------------\n",
      "\n"
     ]
    },
    {
     "data": {
      "text/html": [
       "<div>\n",
       "<style scoped>\n",
       "    .dataframe tbody tr th:only-of-type {\n",
       "        vertical-align: middle;\n",
       "    }\n",
       "\n",
       "    .dataframe tbody tr th {\n",
       "        vertical-align: top;\n",
       "    }\n",
       "\n",
       "    .dataframe thead th {\n",
       "        text-align: right;\n",
       "    }\n",
       "</style>\n",
       "<table border=\"1\" class=\"dataframe\">\n",
       "  <thead>\n",
       "    <tr style=\"text-align: right;\">\n",
       "      <th></th>\n",
       "      <th>ISBN</th>\n",
       "      <th>Book-Rating</th>\n",
       "      <th>Book-Title</th>\n",
       "      <th>Book-Author</th>\n",
       "      <th>Year-Of-Publication</th>\n",
       "      <th>Publisher</th>\n",
       "      <th>Age</th>\n",
       "      <th>City</th>\n",
       "      <th>State</th>\n",
       "      <th>Country</th>\n",
       "    </tr>\n",
       "  </thead>\n",
       "  <tbody>\n",
       "    <tr>\n",
       "      <th>115967</th>\n",
       "      <td>3257233019</td>\n",
       "      <td>0</td>\n",
       "      <td>Die dunkle Seite des Mondes.</td>\n",
       "      <td>Martin Suter</td>\n",
       "      <td>2001</td>\n",
       "      <td>Diogenes Verlag</td>\n",
       "      <td>53</td>\n",
       "      <td>bern</td>\n",
       "      <td>bern</td>\n",
       "      <td>switzerland</td>\n",
       "    </tr>\n",
       "  </tbody>\n",
       "</table>\n",
       "</div>"
      ],
      "text/plain": [
       "              ISBN Book-Rating                    Book-Title   Book-Author  \\\n",
       "115967  3257233019           0  Die dunkle Seite des Mondes.  Martin Suter   \n",
       "\n",
       "       Year-Of-Publication        Publisher Age  City State      Country  \n",
       "115967                2001  Diogenes Verlag  53  bern  bern  switzerland  "
      ]
     },
     "metadata": {},
     "output_type": "display_data"
    },
    {
     "name": "stdout",
     "output_type": "stream",
     "text": [
      "\n",
      "------------Here are few recomendations based on your review that you may like-------------\n",
      "\n"
     ]
    },
    {
     "data": {
      "text/html": [
       "<div>\n",
       "<style scoped>\n",
       "    .dataframe tbody tr th:only-of-type {\n",
       "        vertical-align: middle;\n",
       "    }\n",
       "\n",
       "    .dataframe tbody tr th {\n",
       "        vertical-align: top;\n",
       "    }\n",
       "\n",
       "    .dataframe thead th {\n",
       "        text-align: right;\n",
       "    }\n",
       "</style>\n",
       "<table border=\"1\" class=\"dataframe\">\n",
       "  <thead>\n",
       "    <tr style=\"text-align: right;\">\n",
       "      <th></th>\n",
       "      <th>Book-Title</th>\n",
       "      <th>Book-Author</th>\n",
       "      <th>Year-Of-Publication</th>\n",
       "      <th>Publisher</th>\n",
       "      <th>City</th>\n",
       "      <th>State</th>\n",
       "      <th>Country</th>\n",
       "    </tr>\n",
       "  </thead>\n",
       "  <tbody>\n",
       "    <tr>\n",
       "      <th>115968</th>\n",
       "      <td>Small World.</td>\n",
       "      <td>Martin Suter</td>\n",
       "      <td>2000</td>\n",
       "      <td>Diogenes Verlag</td>\n",
       "      <td>bern</td>\n",
       "      <td>bern</td>\n",
       "      <td>switzerland</td>\n",
       "    </tr>\n",
       "    <tr>\n",
       "      <th>80991</th>\n",
       "      <td>Balada de Cain (ColecciÃ³n Ancora y delfÃ­n)</td>\n",
       "      <td>Manuel Vicent</td>\n",
       "      <td>1996</td>\n",
       "      <td>Destino Ediciones</td>\n",
       "      <td>barcelona</td>\n",
       "      <td>catalunya</td>\n",
       "      <td>spain</td>\n",
       "    </tr>\n",
       "    <tr>\n",
       "      <th>81131</th>\n",
       "      <td>Fluir (Flow) Una Psicologia de La Felicidad</td>\n",
       "      <td>Mihaly Csikszentmihalyi</td>\n",
       "      <td>1998</td>\n",
       "      <td>Editorial Kairos</td>\n",
       "      <td>barcelona</td>\n",
       "      <td>catalunya</td>\n",
       "      <td>spain</td>\n",
       "    </tr>\n",
       "    <tr>\n",
       "      <th>61342</th>\n",
       "      <td>Martes Con Mi Viejo Professor: UN Testimonio Sobre LA Vida, LA Amistad Y El Amor</td>\n",
       "      <td>Mitch Albom</td>\n",
       "      <td>2002</td>\n",
       "      <td>Distribooks Inc</td>\n",
       "      <td>barcelona</td>\n",
       "      <td>catalunya</td>\n",
       "      <td>spain</td>\n",
       "    </tr>\n",
       "    <tr>\n",
       "      <th>61340</th>\n",
       "      <td>Mas Platon, Menos Prozac</td>\n",
       "      <td>Lou Marinoff</td>\n",
       "      <td>2000</td>\n",
       "      <td>Ediciones B</td>\n",
       "      <td>barcelona</td>\n",
       "      <td>catalunya</td>\n",
       "      <td>spain</td>\n",
       "    </tr>\n",
       "  </tbody>\n",
       "</table>\n",
       "</div>"
      ],
      "text/plain": [
       "                                                                              Book-Title  \\\n",
       "115968                                                                      Small World.   \n",
       "80991                                       Balada de Cain (ColecciÃ³n Ancora y delfÃ­n)   \n",
       "81131                                        Fluir (Flow) Una Psicologia de La Felicidad   \n",
       "61342   Martes Con Mi Viejo Professor: UN Testimonio Sobre LA Vida, LA Amistad Y El Amor   \n",
       "61340                                                           Mas Platon, Menos Prozac   \n",
       "\n",
       "                    Book-Author  Year-Of-Publication          Publisher  \\\n",
       "115968             Martin Suter                 2000    Diogenes Verlag   \n",
       "80991             Manuel Vicent                 1996  Destino Ediciones   \n",
       "81131   Mihaly Csikszentmihalyi                 1998   Editorial Kairos   \n",
       "61342               Mitch Albom                 2002    Distribooks Inc   \n",
       "61340              Lou Marinoff                 2000        Ediciones B   \n",
       "\n",
       "             City      State      Country  \n",
       "115968       bern       bern  switzerland  \n",
       "80991   barcelona  catalunya        spain  \n",
       "81131   barcelona  catalunya        spain  \n",
       "61342   barcelona  catalunya        spain  \n",
       "61340   barcelona  catalunya        spain  "
      ]
     },
     "metadata": {},
     "output_type": "display_data"
    },
    {
     "name": "stdout",
     "output_type": "stream",
     "text": [
      "\n",
      "------------End-------------\n",
      "\n"
     ]
    }
   ],
   "source": [
    "for i in range(len(indeces)):\n",
    "    knn_dataset = data[data['Clusters']==samples_pred[i]]\n",
    "    knn_dataset = knn_dataset.reset_index()\n",
    "    knn = NearestNeighbors()\n",
    "    knn.fit(knn_dataset.iloc[:,1:-1])\n",
    "    neighbors = knn.kneighbors(pd.DataFrame(samples.loc[indeces[i]]).T,5,return_distance = False)\n",
    "    print(\"\\n------------Your Review-------------\\n\")\n",
    "    display(pd.DataFrame(dataset.loc[indeces[i],'ISBN':]).T)\n",
    "    print(f\"\\n------------Here are few recomendations based on your review that you may like-------------\\n\")\n",
    "    recomendations = pd.DataFrame(columns = dataset.columns)\n",
    "\n",
    "    for j in neighbors:\n",
    "        display(pd.DataFrame(dataset.loc[knn_dataset.loc[j]['index'],['Book-Title','Book-Author','Year-Of-Publication','Publisher','City','State','Country']]))\n",
    "    print(\"\\n------------End-------------\\n\")\n"
   ]
  },
  {
   "cell_type": "markdown",
   "metadata": {
    "id": "oIjed6vWYGFh"
   },
   "source": [
    "# ------------ Sameer Gururaj Contribution End ------------"
   ]
  },
  {
   "cell_type": "markdown",
   "metadata": {
    "id": "dInacVE0YGFh"
   },
   "source": [
    "# ------------ Sweta Samala Contribution ------------"
   ]
  },
  {
   "cell_type": "markdown",
   "metadata": {
    "id": "fGZ04SXxYGFh"
   },
   "source": [
    "#### Recommender System on Age based"
   ]
  },
  {
   "cell_type": "code",
   "execution_count": 83,
   "metadata": {
    "id": "kAEUb25SYGFh"
   },
   "outputs": [],
   "source": [
    "age_recommend_dataset = dataset[['Book-Title','Age']].copy()"
   ]
  },
  {
   "cell_type": "code",
   "execution_count": 84,
   "metadata": {
    "id": "q8oLOXtEYGFi"
   },
   "outputs": [],
   "source": [
    "def categorize_age(age):\n",
    "    if(age>=10 and age <=30):\n",
    "        return 'young'\n",
    "    elif age>30 and age<=60:\n",
    "        return \"mid-age\"\n",
    "    else: return \"old\""
   ]
  },
  {
   "cell_type": "code",
   "execution_count": 85,
   "metadata": {
    "colab": {
     "base_uri": "https://localhost:8080/",
     "height": 424
    },
    "id": "KUYrjdOcYGFi",
    "outputId": "b51c694d-5e65-48d2-f3cc-283996d14f8a"
   },
   "outputs": [
    {
     "data": {
      "text/html": [
       "<div>\n",
       "<style scoped>\n",
       "    .dataframe tbody tr th:only-of-type {\n",
       "        vertical-align: middle;\n",
       "    }\n",
       "\n",
       "    .dataframe tbody tr th {\n",
       "        vertical-align: top;\n",
       "    }\n",
       "\n",
       "    .dataframe thead th {\n",
       "        text-align: right;\n",
       "    }\n",
       "</style>\n",
       "<table border=\"1\" class=\"dataframe\">\n",
       "  <thead>\n",
       "    <tr style=\"text-align: right;\">\n",
       "      <th></th>\n",
       "      <th>Book-Title</th>\n",
       "      <th>Age</th>\n",
       "      <th>Age-Group</th>\n",
       "    </tr>\n",
       "  </thead>\n",
       "  <tbody>\n",
       "    <tr>\n",
       "      <th>0</th>\n",
       "      <td>Flesh Tones: A Novel</td>\n",
       "      <td>34</td>\n",
       "      <td>mid-age</td>\n",
       "    </tr>\n",
       "    <tr>\n",
       "      <th>1</th>\n",
       "      <td>All Around the Town</td>\n",
       "      <td>34</td>\n",
       "      <td>mid-age</td>\n",
       "    </tr>\n",
       "    <tr>\n",
       "      <th>2</th>\n",
       "      <td>Reap the Wind</td>\n",
       "      <td>34</td>\n",
       "      <td>mid-age</td>\n",
       "    </tr>\n",
       "    <tr>\n",
       "      <th>3</th>\n",
       "      <td>The Least Likely Bride</td>\n",
       "      <td>34</td>\n",
       "      <td>mid-age</td>\n",
       "    </tr>\n",
       "    <tr>\n",
       "      <th>4</th>\n",
       "      <td>High Country Bride (McKettrick Cowboys)</td>\n",
       "      <td>34</td>\n",
       "      <td>mid-age</td>\n",
       "    </tr>\n",
       "    <tr>\n",
       "      <th>...</th>\n",
       "      <td>...</td>\n",
       "      <td>...</td>\n",
       "      <td>...</td>\n",
       "    </tr>\n",
       "    <tr>\n",
       "      <th>132915</th>\n",
       "      <td>El Tiempo de Las Mujeres (Narrativas Hispanicas)</td>\n",
       "      <td>24</td>\n",
       "      <td>young</td>\n",
       "    </tr>\n",
       "    <tr>\n",
       "      <th>132916</th>\n",
       "      <td>Ich, Prinzessin aus dem Hause Al Saud / Ich, Prinzessin Sultana, und meine TÃ?Â¶chter.</td>\n",
       "      <td>50</td>\n",
       "      <td>mid-age</td>\n",
       "    </tr>\n",
       "    <tr>\n",
       "      <th>132917</th>\n",
       "      <td>The Honey Wall: A Novel</td>\n",
       "      <td>41</td>\n",
       "      <td>mid-age</td>\n",
       "    </tr>\n",
       "    <tr>\n",
       "      <th>132918</th>\n",
       "      <td>Sieben Generationen Wahnsinn.</td>\n",
       "      <td>27</td>\n",
       "      <td>young</td>\n",
       "    </tr>\n",
       "    <tr>\n",
       "      <th>132919</th>\n",
       "      <td>The Enzyme Cure: How Plant Enzymes Can Help You Relieve 36 Health Problems</td>\n",
       "      <td>34</td>\n",
       "      <td>mid-age</td>\n",
       "    </tr>\n",
       "  </tbody>\n",
       "</table>\n",
       "<p>132920 rows × 3 columns</p>\n",
       "</div>"
      ],
      "text/plain": [
       "                                                                                    Book-Title  \\\n",
       "0                                                                         Flesh Tones: A Novel   \n",
       "1                                                                          All Around the Town   \n",
       "2                                                                                Reap the Wind   \n",
       "3                                                                       The Least Likely Bride   \n",
       "4                                                      High Country Bride (McKettrick Cowboys)   \n",
       "...                                                                                        ...   \n",
       "132915                                        El Tiempo de Las Mujeres (Narrativas Hispanicas)   \n",
       "132916  Ich, Prinzessin aus dem Hause Al Saud / Ich, Prinzessin Sultana, und meine TÃ?Â¶chter.   \n",
       "132917                                                                 The Honey Wall: A Novel   \n",
       "132918                                                           Sieben Generationen Wahnsinn.   \n",
       "132919              The Enzyme Cure: How Plant Enzymes Can Help You Relieve 36 Health Problems   \n",
       "\n",
       "        Age Age-Group  \n",
       "0        34   mid-age  \n",
       "1        34   mid-age  \n",
       "2        34   mid-age  \n",
       "3        34   mid-age  \n",
       "4        34   mid-age  \n",
       "...     ...       ...  \n",
       "132915   24     young  \n",
       "132916   50   mid-age  \n",
       "132917   41   mid-age  \n",
       "132918   27     young  \n",
       "132919   34   mid-age  \n",
       "\n",
       "[132920 rows x 3 columns]"
      ]
     },
     "execution_count": 85,
     "metadata": {},
     "output_type": "execute_result"
    }
   ],
   "source": [
    "age_recommend_dataset['Age-Group'] = age_recommend_dataset['Age'].apply(categorize_age)\n",
    "age_recommend_dataset"
   ]
  },
  {
   "cell_type": "code",
   "execution_count": 86,
   "metadata": {
    "id": "QOXaiH2qYGFi"
   },
   "outputs": [],
   "source": [
    "## Created a function which takes the age and recommends books from the data set as per the age-group\n",
    "\n",
    "def age_based_recomendation(age,group):\n",
    "    age_data = age_recommend_dataset[age_recommend_dataset['Age-Group'] == group]\n",
    "    age_data = age_data.reset_index()\n",
    "    result = []\n",
    "    for i in range(age_data.shape[0]):\n",
    "        #column 2 = Age column\n",
    "        diff = abs(age_data.iloc[i,2] - age)\n",
    "        result.append([age_data.iloc[i,0],diff])\n",
    "    result.sort(key = lambda x: x[1])\n",
    "    age_data = []\n",
    "    for i in range(10):\n",
    "        age_data.append(result[i][0])\n",
    "    return age_data\n"
   ]
  },
  {
   "cell_type": "code",
   "execution_count": 87,
   "metadata": {
    "colab": {
     "base_uri": "https://localhost:8080/",
     "height": 225
    },
    "id": "UHKpnPnxYGFi",
    "outputId": "97a7b87d-aa73-49b1-cc6e-cb387f4b75b3"
   },
   "outputs": [
    {
     "name": "stdout",
     "output_type": "stream",
     "text": [
      "-------Here are some books people of your age are reading along------\n"
     ]
    },
    {
     "data": {
      "text/plain": [
       "4547                                                     Lightning\n",
       "4548                                     The Lovely Bones: A Novel\n",
       "4549                                             The Joy Luck Club\n",
       "4550                                                   Wild Animus\n",
       "4551    Dragons of Autumn Twilight (Dragonlance Chronicles, Vol 1)\n",
       "4552                                     The Bonesetter's Daughter\n",
       "4553                                             Girl, Interrupted\n",
       "4554                                        Me Talk Pretty One Day\n",
       "4555                                              Escape the Night\n",
       "4556                    A Time for Trolls: Fairy Tales from Norway\n",
       "Name: Book-Title, dtype: object"
      ]
     },
     "metadata": {},
     "output_type": "display_data"
    }
   ],
   "source": [
    "age = 26\n",
    "# Uncomment below line to enter age of you convinient\n",
    "# age = int(input('Enter you age'))\n",
    "if(age<=30):\n",
    "    age_data = age_based_recomendation(age,'young')\n",
    "elif(age>=30 and age<=60):\n",
    "    age_data = age_based_recomendation(age,'mid-age')\n",
    "else:\n",
    "    age_data = age_based_recomendation(age,'old')\n",
    "print(\"-------Here are some books people of your age are reading along------\")\n",
    "display(dataset.iloc[age_data]['Book-Title'])"
   ]
  },
  {
   "cell_type": "markdown",
   "metadata": {
    "id": "BbFHk-fHYGFi"
   },
   "source": [
    "### Collaborative Filtering"
   ]
  },
  {
   "cell_type": "markdown",
   "metadata": {
    "id": "6H3FDsCbYGFi"
   },
   "source": [
    "#### Item-Based Filtering using KNN"
   ]
  },
  {
   "cell_type": "code",
   "execution_count": 88,
   "metadata": {
    "colab": {
     "base_uri": "https://localhost:8080/",
     "height": 206
    },
    "id": "Q8ATi3cIYGFj",
    "outputId": "6d31d5c3-6085-4426-ec9d-688c6db44632"
   },
   "outputs": [
    {
     "data": {
      "text/html": [
       "<div>\n",
       "<style scoped>\n",
       "    .dataframe tbody tr th:only-of-type {\n",
       "        vertical-align: middle;\n",
       "    }\n",
       "\n",
       "    .dataframe tbody tr th {\n",
       "        vertical-align: top;\n",
       "    }\n",
       "\n",
       "    .dataframe thead th {\n",
       "        text-align: right;\n",
       "    }\n",
       "</style>\n",
       "<table border=\"1\" class=\"dataframe\">\n",
       "  <thead>\n",
       "    <tr style=\"text-align: right;\">\n",
       "      <th></th>\n",
       "      <th>User-ID</th>\n",
       "      <th>ISBN</th>\n",
       "      <th>Book-Rating</th>\n",
       "    </tr>\n",
       "  </thead>\n",
       "  <tbody>\n",
       "    <tr>\n",
       "      <th>0</th>\n",
       "      <td>276725</td>\n",
       "      <td>034545104X</td>\n",
       "      <td>0</td>\n",
       "    </tr>\n",
       "    <tr>\n",
       "      <th>1</th>\n",
       "      <td>276726</td>\n",
       "      <td>0155061224</td>\n",
       "      <td>5</td>\n",
       "    </tr>\n",
       "    <tr>\n",
       "      <th>2</th>\n",
       "      <td>276727</td>\n",
       "      <td>0446520802</td>\n",
       "      <td>0</td>\n",
       "    </tr>\n",
       "    <tr>\n",
       "      <th>3</th>\n",
       "      <td>276729</td>\n",
       "      <td>052165615X</td>\n",
       "      <td>3</td>\n",
       "    </tr>\n",
       "    <tr>\n",
       "      <th>4</th>\n",
       "      <td>276729</td>\n",
       "      <td>0521795028</td>\n",
       "      <td>6</td>\n",
       "    </tr>\n",
       "  </tbody>\n",
       "</table>\n",
       "</div>"
      ],
      "text/plain": [
       "   User-ID        ISBN  Book-Rating\n",
       "0   276725  034545104X            0\n",
       "1   276726  0155061224            5\n",
       "2   276727  0446520802            0\n",
       "3   276729  052165615X            3\n",
       "4   276729  0521795028            6"
      ]
     },
     "execution_count": 88,
     "metadata": {},
     "output_type": "execute_result"
    }
   ],
   "source": [
    "# lets check ratings dataframe\n",
    "ratings_df.head()"
   ]
  },
  {
   "cell_type": "code",
   "execution_count": 89,
   "metadata": {
    "colab": {
     "base_uri": "https://localhost:8080/"
    },
    "id": "rbs0EHQmYGFj",
    "outputId": "0b93cc04-35d7-494f-d7fa-ec07500e1276"
   },
   "outputs": [
    {
     "data": {
      "text/plain": [
       "User-ID\n",
       "11676     13602\n",
       "198711     7550\n",
       "153662     6109\n",
       "98391      5891\n",
       "35859      5850\n",
       "          ...  \n",
       "116180        1\n",
       "116166        1\n",
       "116154        1\n",
       "116137        1\n",
       "276723        1\n",
       "Name: count, Length: 105283, dtype: int64"
      ]
     },
     "execution_count": 89,
     "metadata": {},
     "output_type": "execute_result"
    }
   ],
   "source": [
    "# lets check the number of books each user rated:\n",
    "ratings_df['User-ID'].value_counts()"
   ]
  },
  {
   "cell_type": "code",
   "execution_count": 90,
   "metadata": {
    "colab": {
     "base_uri": "https://localhost:8080/"
    },
    "id": "SujDRre_YGFj",
    "outputId": "ef90a3ee-ccdc-4f5d-e027-c5c66280d7a8"
   },
   "outputs": [
    {
     "data": {
      "text/plain": [
       "(899,)"
      ]
     },
     "execution_count": 90,
     "metadata": {},
     "output_type": "execute_result"
    }
   ],
   "source": [
    "x=ratings_df['User-ID'].value_counts() > 200\n",
    "x[x].shape"
   ]
  },
  {
   "cell_type": "code",
   "execution_count": 91,
   "metadata": {
    "colab": {
     "base_uri": "https://localhost:8080/"
    },
    "id": "VAymDR18YGFj",
    "outputId": "bec2e61b-5c5b-4068-b107-e889300806fd"
   },
   "outputs": [
    {
     "data": {
      "text/plain": [
       "Index([ 11676, 198711, 153662,  98391,  35859, 212898, 278418,  76352, 110973,\n",
       "       235105,\n",
       "       ...\n",
       "       260183,  73681,  44296, 155916,   9856, 274808,  28634,  59727, 268622,\n",
       "       188951],\n",
       "      dtype='int64', name='User-ID', length=899)"
      ]
     },
     "execution_count": 91,
     "metadata": {},
     "output_type": "execute_result"
    }
   ],
   "source": [
    "y=x[x].index\n",
    "y"
   ]
  },
  {
   "cell_type": "code",
   "execution_count": 92,
   "metadata": {
    "colab": {
     "base_uri": "https://localhost:8080/",
     "height": 206
    },
    "id": "tK3aX2WBYGFj",
    "outputId": "87063031-d49b-4069-d255-c788ca0577af"
   },
   "outputs": [
    {
     "data": {
      "text/html": [
       "<div>\n",
       "<style scoped>\n",
       "    .dataframe tbody tr th:only-of-type {\n",
       "        vertical-align: middle;\n",
       "    }\n",
       "\n",
       "    .dataframe tbody tr th {\n",
       "        vertical-align: top;\n",
       "    }\n",
       "\n",
       "    .dataframe thead th {\n",
       "        text-align: right;\n",
       "    }\n",
       "</style>\n",
       "<table border=\"1\" class=\"dataframe\">\n",
       "  <thead>\n",
       "    <tr style=\"text-align: right;\">\n",
       "      <th></th>\n",
       "      <th>User-ID</th>\n",
       "      <th>ISBN</th>\n",
       "      <th>Book-Rating</th>\n",
       "    </tr>\n",
       "  </thead>\n",
       "  <tbody>\n",
       "    <tr>\n",
       "      <th>1456</th>\n",
       "      <td>277427</td>\n",
       "      <td>002542730X</td>\n",
       "      <td>10</td>\n",
       "    </tr>\n",
       "    <tr>\n",
       "      <th>1457</th>\n",
       "      <td>277427</td>\n",
       "      <td>0026217457</td>\n",
       "      <td>0</td>\n",
       "    </tr>\n",
       "    <tr>\n",
       "      <th>1458</th>\n",
       "      <td>277427</td>\n",
       "      <td>003008685X</td>\n",
       "      <td>8</td>\n",
       "    </tr>\n",
       "    <tr>\n",
       "      <th>1459</th>\n",
       "      <td>277427</td>\n",
       "      <td>0030615321</td>\n",
       "      <td>0</td>\n",
       "    </tr>\n",
       "    <tr>\n",
       "      <th>1460</th>\n",
       "      <td>277427</td>\n",
       "      <td>0060002050</td>\n",
       "      <td>0</td>\n",
       "    </tr>\n",
       "  </tbody>\n",
       "</table>\n",
       "</div>"
      ],
      "text/plain": [
       "      User-ID        ISBN  Book-Rating\n",
       "1456   277427  002542730X           10\n",
       "1457   277427  0026217457            0\n",
       "1458   277427  003008685X            8\n",
       "1459   277427  0030615321            0\n",
       "1460   277427  0060002050            0"
      ]
     },
     "execution_count": 92,
     "metadata": {},
     "output_type": "execute_result"
    }
   ],
   "source": [
    "ratings_knn=ratings_df[ratings_df['User-ID'].isin(y)]\n",
    "ratings_knn.head(5)"
   ]
  },
  {
   "cell_type": "code",
   "execution_count": 93,
   "metadata": {
    "colab": {
     "base_uri": "https://localhost:8080/",
     "height": 310
    },
    "id": "LCp-u1PAYGFj",
    "outputId": "58bf70cf-5b4f-4ecd-b65d-0f86f2b205d6"
   },
   "outputs": [
    {
     "data": {
      "text/html": [
       "<div>\n",
       "<style scoped>\n",
       "    .dataframe tbody tr th:only-of-type {\n",
       "        vertical-align: middle;\n",
       "    }\n",
       "\n",
       "    .dataframe tbody tr th {\n",
       "        vertical-align: top;\n",
       "    }\n",
       "\n",
       "    .dataframe thead th {\n",
       "        text-align: right;\n",
       "    }\n",
       "</style>\n",
       "<table border=\"1\" class=\"dataframe\">\n",
       "  <thead>\n",
       "    <tr style=\"text-align: right;\">\n",
       "      <th></th>\n",
       "      <th>User-ID</th>\n",
       "      <th>ISBN</th>\n",
       "      <th>Book-Rating</th>\n",
       "      <th>Book-Title</th>\n",
       "      <th>Book-Author</th>\n",
       "      <th>Year-Of-Publication</th>\n",
       "      <th>Publisher</th>\n",
       "    </tr>\n",
       "  </thead>\n",
       "  <tbody>\n",
       "    <tr>\n",
       "      <th>0</th>\n",
       "      <td>277427</td>\n",
       "      <td>002542730X</td>\n",
       "      <td>10</td>\n",
       "      <td>Politically Correct Bedtime Stories: Modern Tales for Our Life and Times</td>\n",
       "      <td>James Finn Garner</td>\n",
       "      <td>1994</td>\n",
       "      <td>John Wiley &amp;amp; Sons Inc</td>\n",
       "    </tr>\n",
       "    <tr>\n",
       "      <th>1</th>\n",
       "      <td>3363</td>\n",
       "      <td>002542730X</td>\n",
       "      <td>0</td>\n",
       "      <td>Politically Correct Bedtime Stories: Modern Tales for Our Life and Times</td>\n",
       "      <td>James Finn Garner</td>\n",
       "      <td>1994</td>\n",
       "      <td>John Wiley &amp;amp; Sons Inc</td>\n",
       "    </tr>\n",
       "    <tr>\n",
       "      <th>2</th>\n",
       "      <td>11676</td>\n",
       "      <td>002542730X</td>\n",
       "      <td>6</td>\n",
       "      <td>Politically Correct Bedtime Stories: Modern Tales for Our Life and Times</td>\n",
       "      <td>James Finn Garner</td>\n",
       "      <td>1994</td>\n",
       "      <td>John Wiley &amp;amp; Sons Inc</td>\n",
       "    </tr>\n",
       "    <tr>\n",
       "      <th>3</th>\n",
       "      <td>12538</td>\n",
       "      <td>002542730X</td>\n",
       "      <td>10</td>\n",
       "      <td>Politically Correct Bedtime Stories: Modern Tales for Our Life and Times</td>\n",
       "      <td>James Finn Garner</td>\n",
       "      <td>1994</td>\n",
       "      <td>John Wiley &amp;amp; Sons Inc</td>\n",
       "    </tr>\n",
       "    <tr>\n",
       "      <th>4</th>\n",
       "      <td>13552</td>\n",
       "      <td>002542730X</td>\n",
       "      <td>0</td>\n",
       "      <td>Politically Correct Bedtime Stories: Modern Tales for Our Life and Times</td>\n",
       "      <td>James Finn Garner</td>\n",
       "      <td>1994</td>\n",
       "      <td>John Wiley &amp;amp; Sons Inc</td>\n",
       "    </tr>\n",
       "  </tbody>\n",
       "</table>\n",
       "</div>"
      ],
      "text/plain": [
       "   User-ID        ISBN  Book-Rating  \\\n",
       "0   277427  002542730X           10   \n",
       "1     3363  002542730X            0   \n",
       "2    11676  002542730X            6   \n",
       "3    12538  002542730X           10   \n",
       "4    13552  002542730X            0   \n",
       "\n",
       "                                                                 Book-Title  \\\n",
       "0  Politically Correct Bedtime Stories: Modern Tales for Our Life and Times   \n",
       "1  Politically Correct Bedtime Stories: Modern Tales for Our Life and Times   \n",
       "2  Politically Correct Bedtime Stories: Modern Tales for Our Life and Times   \n",
       "3  Politically Correct Bedtime Stories: Modern Tales for Our Life and Times   \n",
       "4  Politically Correct Bedtime Stories: Modern Tales for Our Life and Times   \n",
       "\n",
       "         Book-Author  Year-Of-Publication                  Publisher  \n",
       "0  James Finn Garner                 1994  John Wiley &amp; Sons Inc  \n",
       "1  James Finn Garner                 1994  John Wiley &amp; Sons Inc  \n",
       "2  James Finn Garner                 1994  John Wiley &amp; Sons Inc  \n",
       "3  James Finn Garner                 1994  John Wiley &amp; Sons Inc  \n",
       "4  James Finn Garner                 1994  John Wiley &amp; Sons Inc  "
      ]
     },
     "execution_count": 93,
     "metadata": {},
     "output_type": "execute_result"
    }
   ],
   "source": [
    "ratings_with_name = ratings_knn.merge(books_df,on='ISBN')\n",
    "ratings_with_name.head()"
   ]
  },
  {
   "cell_type": "code",
   "execution_count": 94,
   "metadata": {
    "colab": {
     "base_uri": "https://localhost:8080/"
    },
    "id": "0IHu4cDSYGFk",
    "outputId": "a65ee417-ed5e-42d3-d860-7033cf6a77cd"
   },
   "outputs": [
    {
     "data": {
      "text/plain": [
       "(158319,)"
      ]
     },
     "execution_count": 94,
     "metadata": {},
     "output_type": "execute_result"
    }
   ],
   "source": [
    "ratings_with_name['Book-Title'].unique().shape"
   ]
  },
  {
   "cell_type": "markdown",
   "metadata": {
    "id": "oGqIa6iyYGFk"
   },
   "source": [
    "#### Lets compute the total ratings of each book"
   ]
  },
  {
   "cell_type": "code",
   "execution_count": 95,
   "metadata": {
    "colab": {
     "base_uri": "https://localhost:8080/",
     "height": 224
    },
    "id": "b8FFdC-oYGFk",
    "outputId": "196dea96-78cb-42a1-f0d9-03ccb4f96eca"
   },
   "outputs": [
    {
     "name": "stdout",
     "output_type": "stream",
     "text": [
      "(158319, 2)\n"
     ]
    },
    {
     "data": {
      "text/html": [
       "<div>\n",
       "<style scoped>\n",
       "    .dataframe tbody tr th:only-of-type {\n",
       "        vertical-align: middle;\n",
       "    }\n",
       "\n",
       "    .dataframe tbody tr th {\n",
       "        vertical-align: top;\n",
       "    }\n",
       "\n",
       "    .dataframe thead th {\n",
       "        text-align: right;\n",
       "    }\n",
       "</style>\n",
       "<table border=\"1\" class=\"dataframe\">\n",
       "  <thead>\n",
       "    <tr style=\"text-align: right;\">\n",
       "      <th></th>\n",
       "      <th>Book-Title</th>\n",
       "      <th>Book-Rating</th>\n",
       "    </tr>\n",
       "  </thead>\n",
       "  <tbody>\n",
       "    <tr>\n",
       "      <th>0</th>\n",
       "      <td>A Light in the Storm: The Civil War Diary of Amelia Martin, Fenwick Island, Delaware, 1861 (Dear America)</td>\n",
       "      <td>2</td>\n",
       "    </tr>\n",
       "    <tr>\n",
       "      <th>1</th>\n",
       "      <td>Always Have Popsicles</td>\n",
       "      <td>1</td>\n",
       "    </tr>\n",
       "    <tr>\n",
       "      <th>2</th>\n",
       "      <td>Apple Magic (The Collector's series)</td>\n",
       "      <td>1</td>\n",
       "    </tr>\n",
       "    <tr>\n",
       "      <th>3</th>\n",
       "      <td>Beyond IBM: Leadership Marketing and Finance for the 1990s</td>\n",
       "      <td>1</td>\n",
       "    </tr>\n",
       "    <tr>\n",
       "      <th>4</th>\n",
       "      <td>Clifford Visita El Hospital (Clifford El Gran Perro Colorado)</td>\n",
       "      <td>1</td>\n",
       "    </tr>\n",
       "  </tbody>\n",
       "</table>\n",
       "</div>"
      ],
      "text/plain": [
       "                                                                                                   Book-Title  \\\n",
       "0   A Light in the Storm: The Civil War Diary of Amelia Martin, Fenwick Island, Delaware, 1861 (Dear America)   \n",
       "1                                                                                       Always Have Popsicles   \n",
       "2                                                                        Apple Magic (The Collector's series)   \n",
       "3                                                  Beyond IBM: Leadership Marketing and Finance for the 1990s   \n",
       "4                                               Clifford Visita El Hospital (Clifford El Gran Perro Colorado)   \n",
       "\n",
       "   Book-Rating  \n",
       "0            2  \n",
       "1            1  \n",
       "2            1  \n",
       "3            1  \n",
       "4            1  "
      ]
     },
     "execution_count": 95,
     "metadata": {},
     "output_type": "execute_result"
    }
   ],
   "source": [
    "# lets compute the ratings of each book\n",
    "\n",
    "num_rating_df = ratings_with_name.groupby('Book-Title')['Book-Rating'].count().reset_index()\n",
    "print(num_rating_df.shape)\n",
    "num_rating_df.head()"
   ]
  },
  {
   "cell_type": "code",
   "execution_count": 96,
   "metadata": {
    "colab": {
     "base_uri": "https://localhost:8080/",
     "height": 206
    },
    "id": "V6RdPHRDYGFk",
    "outputId": "4460882f-df00-447e-d92c-b0530294ee78"
   },
   "outputs": [
    {
     "data": {
      "text/html": [
       "<div>\n",
       "<style scoped>\n",
       "    .dataframe tbody tr th:only-of-type {\n",
       "        vertical-align: middle;\n",
       "    }\n",
       "\n",
       "    .dataframe tbody tr th {\n",
       "        vertical-align: top;\n",
       "    }\n",
       "\n",
       "    .dataframe thead th {\n",
       "        text-align: right;\n",
       "    }\n",
       "</style>\n",
       "<table border=\"1\" class=\"dataframe\">\n",
       "  <thead>\n",
       "    <tr style=\"text-align: right;\">\n",
       "      <th></th>\n",
       "      <th>Book-Title</th>\n",
       "      <th>num_of_ratings</th>\n",
       "    </tr>\n",
       "  </thead>\n",
       "  <tbody>\n",
       "    <tr>\n",
       "      <th>0</th>\n",
       "      <td>A Light in the Storm: The Civil War Diary of Amelia Martin, Fenwick Island, Delaware, 1861 (Dear America)</td>\n",
       "      <td>2</td>\n",
       "    </tr>\n",
       "    <tr>\n",
       "      <th>1</th>\n",
       "      <td>Always Have Popsicles</td>\n",
       "      <td>1</td>\n",
       "    </tr>\n",
       "    <tr>\n",
       "      <th>2</th>\n",
       "      <td>Apple Magic (The Collector's series)</td>\n",
       "      <td>1</td>\n",
       "    </tr>\n",
       "    <tr>\n",
       "      <th>3</th>\n",
       "      <td>Beyond IBM: Leadership Marketing and Finance for the 1990s</td>\n",
       "      <td>1</td>\n",
       "    </tr>\n",
       "    <tr>\n",
       "      <th>4</th>\n",
       "      <td>Clifford Visita El Hospital (Clifford El Gran Perro Colorado)</td>\n",
       "      <td>1</td>\n",
       "    </tr>\n",
       "  </tbody>\n",
       "</table>\n",
       "</div>"
      ],
      "text/plain": [
       "                                                                                                   Book-Title  \\\n",
       "0   A Light in the Storm: The Civil War Diary of Amelia Martin, Fenwick Island, Delaware, 1861 (Dear America)   \n",
       "1                                                                                       Always Have Popsicles   \n",
       "2                                                                        Apple Magic (The Collector's series)   \n",
       "3                                                  Beyond IBM: Leadership Marketing and Finance for the 1990s   \n",
       "4                                               Clifford Visita El Hospital (Clifford El Gran Perro Colorado)   \n",
       "\n",
       "   num_of_ratings  \n",
       "0               2  \n",
       "1               1  \n",
       "2               1  \n",
       "3               1  \n",
       "4               1  "
      ]
     },
     "execution_count": 96,
     "metadata": {},
     "output_type": "execute_result"
    }
   ],
   "source": [
    "# Renaming the column as num_of_ratings\n",
    "\n",
    "num_rating_df.rename(columns={'Book-Rating': 'num_of_ratings'},inplace=True)\n",
    "num_rating_df.head()"
   ]
  },
  {
   "cell_type": "markdown",
   "metadata": {
    "id": "qP6e4agtYGFk"
   },
   "source": [
    "#### Lets filter out books with ratings greater than 50, coz the one with number of ratings as '1' wont give us sufficient info"
   ]
  },
  {
   "cell_type": "code",
   "execution_count": 97,
   "metadata": {
    "colab": {
     "base_uri": "https://localhost:8080/",
     "height": 310
    },
    "id": "HX1Arj1mYGFk",
    "outputId": "d4503e3b-ac0a-4ab9-d8c5-8e9334702dfe"
   },
   "outputs": [
    {
     "data": {
      "text/html": [
       "<div>\n",
       "<style scoped>\n",
       "    .dataframe tbody tr th:only-of-type {\n",
       "        vertical-align: middle;\n",
       "    }\n",
       "\n",
       "    .dataframe tbody tr th {\n",
       "        vertical-align: top;\n",
       "    }\n",
       "\n",
       "    .dataframe thead th {\n",
       "        text-align: right;\n",
       "    }\n",
       "</style>\n",
       "<table border=\"1\" class=\"dataframe\">\n",
       "  <thead>\n",
       "    <tr style=\"text-align: right;\">\n",
       "      <th></th>\n",
       "      <th>User-ID</th>\n",
       "      <th>ISBN</th>\n",
       "      <th>Book-Rating</th>\n",
       "      <th>Book-Title</th>\n",
       "      <th>Book-Author</th>\n",
       "      <th>Year-Of-Publication</th>\n",
       "      <th>Publisher</th>\n",
       "      <th>num_of_ratings</th>\n",
       "    </tr>\n",
       "  </thead>\n",
       "  <tbody>\n",
       "    <tr>\n",
       "      <th>0</th>\n",
       "      <td>277427</td>\n",
       "      <td>002542730X</td>\n",
       "      <td>10</td>\n",
       "      <td>Politically Correct Bedtime Stories: Modern Tales for Our Life and Times</td>\n",
       "      <td>James Finn Garner</td>\n",
       "      <td>1994</td>\n",
       "      <td>John Wiley &amp;amp; Sons Inc</td>\n",
       "      <td>82</td>\n",
       "    </tr>\n",
       "    <tr>\n",
       "      <th>1</th>\n",
       "      <td>3363</td>\n",
       "      <td>002542730X</td>\n",
       "      <td>0</td>\n",
       "      <td>Politically Correct Bedtime Stories: Modern Tales for Our Life and Times</td>\n",
       "      <td>James Finn Garner</td>\n",
       "      <td>1994</td>\n",
       "      <td>John Wiley &amp;amp; Sons Inc</td>\n",
       "      <td>82</td>\n",
       "    </tr>\n",
       "    <tr>\n",
       "      <th>2</th>\n",
       "      <td>11676</td>\n",
       "      <td>002542730X</td>\n",
       "      <td>6</td>\n",
       "      <td>Politically Correct Bedtime Stories: Modern Tales for Our Life and Times</td>\n",
       "      <td>James Finn Garner</td>\n",
       "      <td>1994</td>\n",
       "      <td>John Wiley &amp;amp; Sons Inc</td>\n",
       "      <td>82</td>\n",
       "    </tr>\n",
       "    <tr>\n",
       "      <th>3</th>\n",
       "      <td>12538</td>\n",
       "      <td>002542730X</td>\n",
       "      <td>10</td>\n",
       "      <td>Politically Correct Bedtime Stories: Modern Tales for Our Life and Times</td>\n",
       "      <td>James Finn Garner</td>\n",
       "      <td>1994</td>\n",
       "      <td>John Wiley &amp;amp; Sons Inc</td>\n",
       "      <td>82</td>\n",
       "    </tr>\n",
       "    <tr>\n",
       "      <th>4</th>\n",
       "      <td>13552</td>\n",
       "      <td>002542730X</td>\n",
       "      <td>0</td>\n",
       "      <td>Politically Correct Bedtime Stories: Modern Tales for Our Life and Times</td>\n",
       "      <td>James Finn Garner</td>\n",
       "      <td>1994</td>\n",
       "      <td>John Wiley &amp;amp; Sons Inc</td>\n",
       "      <td>82</td>\n",
       "    </tr>\n",
       "  </tbody>\n",
       "</table>\n",
       "</div>"
      ],
      "text/plain": [
       "   User-ID        ISBN  Book-Rating  \\\n",
       "0   277427  002542730X           10   \n",
       "1     3363  002542730X            0   \n",
       "2    11676  002542730X            6   \n",
       "3    12538  002542730X           10   \n",
       "4    13552  002542730X            0   \n",
       "\n",
       "                                                                 Book-Title  \\\n",
       "0  Politically Correct Bedtime Stories: Modern Tales for Our Life and Times   \n",
       "1  Politically Correct Bedtime Stories: Modern Tales for Our Life and Times   \n",
       "2  Politically Correct Bedtime Stories: Modern Tales for Our Life and Times   \n",
       "3  Politically Correct Bedtime Stories: Modern Tales for Our Life and Times   \n",
       "4  Politically Correct Bedtime Stories: Modern Tales for Our Life and Times   \n",
       "\n",
       "         Book-Author  Year-Of-Publication                  Publisher  \\\n",
       "0  James Finn Garner                 1994  John Wiley &amp; Sons Inc   \n",
       "1  James Finn Garner                 1994  John Wiley &amp; Sons Inc   \n",
       "2  James Finn Garner                 1994  John Wiley &amp; Sons Inc   \n",
       "3  James Finn Garner                 1994  John Wiley &amp; Sons Inc   \n",
       "4  James Finn Garner                 1994  John Wiley &amp; Sons Inc   \n",
       "\n",
       "   num_of_ratings  \n",
       "0              82  \n",
       "1              82  \n",
       "2              82  \n",
       "3              82  \n",
       "4              82  "
      ]
     },
     "execution_count": 97,
     "metadata": {},
     "output_type": "execute_result"
    }
   ],
   "source": [
    "final_rating = ratings_with_name.merge(num_rating_df,on='Book-Title')\n",
    "#final_rating.rename(columns={'Book-Rating_y':'num_of_rating'},inplace=True)\n",
    "final_rating.head()"
   ]
  },
  {
   "cell_type": "code",
   "execution_count": 98,
   "metadata": {
    "colab": {
     "base_uri": "https://localhost:8080/",
     "height": 310
    },
    "id": "rEnGBK9_YGFk",
    "outputId": "f9a4d658-61eb-4edb-881b-c532d60cda58"
   },
   "outputs": [
    {
     "data": {
      "text/html": [
       "<div>\n",
       "<style scoped>\n",
       "    .dataframe tbody tr th:only-of-type {\n",
       "        vertical-align: middle;\n",
       "    }\n",
       "\n",
       "    .dataframe tbody tr th {\n",
       "        vertical-align: top;\n",
       "    }\n",
       "\n",
       "    .dataframe thead th {\n",
       "        text-align: right;\n",
       "    }\n",
       "</style>\n",
       "<table border=\"1\" class=\"dataframe\">\n",
       "  <thead>\n",
       "    <tr style=\"text-align: right;\">\n",
       "      <th></th>\n",
       "      <th>User-ID</th>\n",
       "      <th>ISBN</th>\n",
       "      <th>Book-Rating</th>\n",
       "      <th>Book-Title</th>\n",
       "      <th>Book-Author</th>\n",
       "      <th>Year-Of-Publication</th>\n",
       "      <th>Publisher</th>\n",
       "      <th>num_of_ratings</th>\n",
       "    </tr>\n",
       "  </thead>\n",
       "  <tbody>\n",
       "    <tr>\n",
       "      <th>0</th>\n",
       "      <td>277427</td>\n",
       "      <td>002542730X</td>\n",
       "      <td>10</td>\n",
       "      <td>Politically Correct Bedtime Stories: Modern Tales for Our Life and Times</td>\n",
       "      <td>James Finn Garner</td>\n",
       "      <td>1994</td>\n",
       "      <td>John Wiley &amp;amp; Sons Inc</td>\n",
       "      <td>82</td>\n",
       "    </tr>\n",
       "    <tr>\n",
       "      <th>1</th>\n",
       "      <td>3363</td>\n",
       "      <td>002542730X</td>\n",
       "      <td>0</td>\n",
       "      <td>Politically Correct Bedtime Stories: Modern Tales for Our Life and Times</td>\n",
       "      <td>James Finn Garner</td>\n",
       "      <td>1994</td>\n",
       "      <td>John Wiley &amp;amp; Sons Inc</td>\n",
       "      <td>82</td>\n",
       "    </tr>\n",
       "    <tr>\n",
       "      <th>2</th>\n",
       "      <td>11676</td>\n",
       "      <td>002542730X</td>\n",
       "      <td>6</td>\n",
       "      <td>Politically Correct Bedtime Stories: Modern Tales for Our Life and Times</td>\n",
       "      <td>James Finn Garner</td>\n",
       "      <td>1994</td>\n",
       "      <td>John Wiley &amp;amp; Sons Inc</td>\n",
       "      <td>82</td>\n",
       "    </tr>\n",
       "    <tr>\n",
       "      <th>3</th>\n",
       "      <td>12538</td>\n",
       "      <td>002542730X</td>\n",
       "      <td>10</td>\n",
       "      <td>Politically Correct Bedtime Stories: Modern Tales for Our Life and Times</td>\n",
       "      <td>James Finn Garner</td>\n",
       "      <td>1994</td>\n",
       "      <td>John Wiley &amp;amp; Sons Inc</td>\n",
       "      <td>82</td>\n",
       "    </tr>\n",
       "    <tr>\n",
       "      <th>4</th>\n",
       "      <td>13552</td>\n",
       "      <td>002542730X</td>\n",
       "      <td>0</td>\n",
       "      <td>Politically Correct Bedtime Stories: Modern Tales for Our Life and Times</td>\n",
       "      <td>James Finn Garner</td>\n",
       "      <td>1994</td>\n",
       "      <td>John Wiley &amp;amp; Sons Inc</td>\n",
       "      <td>82</td>\n",
       "    </tr>\n",
       "  </tbody>\n",
       "</table>\n",
       "</div>"
      ],
      "text/plain": [
       "   User-ID        ISBN  Book-Rating  \\\n",
       "0   277427  002542730X           10   \n",
       "1     3363  002542730X            0   \n",
       "2    11676  002542730X            6   \n",
       "3    12538  002542730X           10   \n",
       "4    13552  002542730X            0   \n",
       "\n",
       "                                                                 Book-Title  \\\n",
       "0  Politically Correct Bedtime Stories: Modern Tales for Our Life and Times   \n",
       "1  Politically Correct Bedtime Stories: Modern Tales for Our Life and Times   \n",
       "2  Politically Correct Bedtime Stories: Modern Tales for Our Life and Times   \n",
       "3  Politically Correct Bedtime Stories: Modern Tales for Our Life and Times   \n",
       "4  Politically Correct Bedtime Stories: Modern Tales for Our Life and Times   \n",
       "\n",
       "         Book-Author  Year-Of-Publication                  Publisher  \\\n",
       "0  James Finn Garner                 1994  John Wiley &amp; Sons Inc   \n",
       "1  James Finn Garner                 1994  John Wiley &amp; Sons Inc   \n",
       "2  James Finn Garner                 1994  John Wiley &amp; Sons Inc   \n",
       "3  James Finn Garner                 1994  John Wiley &amp; Sons Inc   \n",
       "4  James Finn Garner                 1994  John Wiley &amp; Sons Inc   \n",
       "\n",
       "   num_of_ratings  \n",
       "0              82  \n",
       "1              82  \n",
       "2              82  \n",
       "3              82  \n",
       "4              82  "
      ]
     },
     "execution_count": 98,
     "metadata": {},
     "output_type": "execute_result"
    }
   ],
   "source": [
    "final_rating=final_rating[final_rating['num_of_ratings']>=50]\n",
    "final_rating.head(5)"
   ]
  },
  {
   "cell_type": "markdown",
   "metadata": {
    "id": "z623B5IDYGFk"
   },
   "source": [
    "#### Dropping duplicate values of user-id and title"
   ]
  },
  {
   "cell_type": "code",
   "execution_count": 99,
   "metadata": {
    "id": "_XazD5pQYGFk"
   },
   "outputs": [],
   "source": [
    "final_rating.drop_duplicates(['User-ID','Book-Title'], inplace=True)"
   ]
  },
  {
   "cell_type": "code",
   "execution_count": 100,
   "metadata": {
    "colab": {
     "base_uri": "https://localhost:8080/"
    },
    "id": "_Qy7xGZGYGFk",
    "outputId": "21259c61-92ef-4415-a0f1-62b007ad945b"
   },
   "outputs": [
    {
     "data": {
      "text/plain": [
       "(59507, 8)"
      ]
     },
     "execution_count": 100,
     "metadata": {},
     "output_type": "execute_result"
    }
   ],
   "source": [
    "final_rating.shape"
   ]
  },
  {
   "cell_type": "code",
   "execution_count": 101,
   "metadata": {
    "id": "3nQiYsKNYGFl"
   },
   "outputs": [],
   "source": [
    "book_pivot = final_rating.pivot_table(columns='User-ID',index='Book-Title', values='Book-Rating')"
   ]
  },
  {
   "cell_type": "code",
   "execution_count": 102,
   "metadata": {
    "colab": {
     "base_uri": "https://localhost:8080/",
     "height": 611
    },
    "id": "z9RwS1p3YGFl",
    "outputId": "fc20f624-5f26-4eac-9130-5a6ac910b034"
   },
   "outputs": [
    {
     "data": {
      "text/html": [
       "<div>\n",
       "<style scoped>\n",
       "    .dataframe tbody tr th:only-of-type {\n",
       "        vertical-align: middle;\n",
       "    }\n",
       "\n",
       "    .dataframe tbody tr th {\n",
       "        vertical-align: top;\n",
       "    }\n",
       "\n",
       "    .dataframe thead th {\n",
       "        text-align: right;\n",
       "    }\n",
       "</style>\n",
       "<table border=\"1\" class=\"dataframe\">\n",
       "  <thead>\n",
       "    <tr style=\"text-align: right;\">\n",
       "      <th>User-ID</th>\n",
       "      <th>254</th>\n",
       "      <th>2276</th>\n",
       "      <th>2766</th>\n",
       "      <th>2977</th>\n",
       "      <th>3363</th>\n",
       "      <th>3757</th>\n",
       "      <th>4017</th>\n",
       "      <th>4385</th>\n",
       "      <th>6242</th>\n",
       "      <th>6251</th>\n",
       "      <th>...</th>\n",
       "      <th>274004</th>\n",
       "      <th>274061</th>\n",
       "      <th>274301</th>\n",
       "      <th>274308</th>\n",
       "      <th>274808</th>\n",
       "      <th>275970</th>\n",
       "      <th>277427</th>\n",
       "      <th>277478</th>\n",
       "      <th>277639</th>\n",
       "      <th>278418</th>\n",
       "    </tr>\n",
       "    <tr>\n",
       "      <th>Book-Title</th>\n",
       "      <th></th>\n",
       "      <th></th>\n",
       "      <th></th>\n",
       "      <th></th>\n",
       "      <th></th>\n",
       "      <th></th>\n",
       "      <th></th>\n",
       "      <th></th>\n",
       "      <th></th>\n",
       "      <th></th>\n",
       "      <th></th>\n",
       "      <th></th>\n",
       "      <th></th>\n",
       "      <th></th>\n",
       "      <th></th>\n",
       "      <th></th>\n",
       "      <th></th>\n",
       "      <th></th>\n",
       "      <th></th>\n",
       "      <th></th>\n",
       "      <th></th>\n",
       "    </tr>\n",
       "  </thead>\n",
       "  <tbody>\n",
       "    <tr>\n",
       "      <th>1984</th>\n",
       "      <td>9.0</td>\n",
       "      <td>NaN</td>\n",
       "      <td>NaN</td>\n",
       "      <td>NaN</td>\n",
       "      <td>NaN</td>\n",
       "      <td>NaN</td>\n",
       "      <td>NaN</td>\n",
       "      <td>NaN</td>\n",
       "      <td>NaN</td>\n",
       "      <td>NaN</td>\n",
       "      <td>...</td>\n",
       "      <td>NaN</td>\n",
       "      <td>NaN</td>\n",
       "      <td>NaN</td>\n",
       "      <td>NaN</td>\n",
       "      <td>NaN</td>\n",
       "      <td>0.0</td>\n",
       "      <td>NaN</td>\n",
       "      <td>NaN</td>\n",
       "      <td>NaN</td>\n",
       "      <td>NaN</td>\n",
       "    </tr>\n",
       "    <tr>\n",
       "      <th>1st to Die: A Novel</th>\n",
       "      <td>NaN</td>\n",
       "      <td>NaN</td>\n",
       "      <td>NaN</td>\n",
       "      <td>NaN</td>\n",
       "      <td>NaN</td>\n",
       "      <td>NaN</td>\n",
       "      <td>NaN</td>\n",
       "      <td>NaN</td>\n",
       "      <td>NaN</td>\n",
       "      <td>NaN</td>\n",
       "      <td>...</td>\n",
       "      <td>NaN</td>\n",
       "      <td>NaN</td>\n",
       "      <td>NaN</td>\n",
       "      <td>NaN</td>\n",
       "      <td>NaN</td>\n",
       "      <td>NaN</td>\n",
       "      <td>NaN</td>\n",
       "      <td>NaN</td>\n",
       "      <td>NaN</td>\n",
       "      <td>NaN</td>\n",
       "    </tr>\n",
       "    <tr>\n",
       "      <th>2nd Chance</th>\n",
       "      <td>NaN</td>\n",
       "      <td>10.0</td>\n",
       "      <td>NaN</td>\n",
       "      <td>NaN</td>\n",
       "      <td>NaN</td>\n",
       "      <td>NaN</td>\n",
       "      <td>NaN</td>\n",
       "      <td>NaN</td>\n",
       "      <td>NaN</td>\n",
       "      <td>NaN</td>\n",
       "      <td>...</td>\n",
       "      <td>NaN</td>\n",
       "      <td>NaN</td>\n",
       "      <td>NaN</td>\n",
       "      <td>0.0</td>\n",
       "      <td>NaN</td>\n",
       "      <td>NaN</td>\n",
       "      <td>NaN</td>\n",
       "      <td>NaN</td>\n",
       "      <td>0.0</td>\n",
       "      <td>NaN</td>\n",
       "    </tr>\n",
       "    <tr>\n",
       "      <th>4 Blondes</th>\n",
       "      <td>NaN</td>\n",
       "      <td>NaN</td>\n",
       "      <td>NaN</td>\n",
       "      <td>NaN</td>\n",
       "      <td>NaN</td>\n",
       "      <td>NaN</td>\n",
       "      <td>NaN</td>\n",
       "      <td>NaN</td>\n",
       "      <td>NaN</td>\n",
       "      <td>0.0</td>\n",
       "      <td>...</td>\n",
       "      <td>NaN</td>\n",
       "      <td>NaN</td>\n",
       "      <td>NaN</td>\n",
       "      <td>NaN</td>\n",
       "      <td>NaN</td>\n",
       "      <td>NaN</td>\n",
       "      <td>NaN</td>\n",
       "      <td>NaN</td>\n",
       "      <td>NaN</td>\n",
       "      <td>NaN</td>\n",
       "    </tr>\n",
       "    <tr>\n",
       "      <th>A Bend in the Road</th>\n",
       "      <td>0.0</td>\n",
       "      <td>NaN</td>\n",
       "      <td>7.0</td>\n",
       "      <td>NaN</td>\n",
       "      <td>NaN</td>\n",
       "      <td>NaN</td>\n",
       "      <td>NaN</td>\n",
       "      <td>NaN</td>\n",
       "      <td>NaN</td>\n",
       "      <td>NaN</td>\n",
       "      <td>...</td>\n",
       "      <td>NaN</td>\n",
       "      <td>NaN</td>\n",
       "      <td>NaN</td>\n",
       "      <td>NaN</td>\n",
       "      <td>NaN</td>\n",
       "      <td>NaN</td>\n",
       "      <td>NaN</td>\n",
       "      <td>NaN</td>\n",
       "      <td>NaN</td>\n",
       "      <td>NaN</td>\n",
       "    </tr>\n",
       "    <tr>\n",
       "      <th>...</th>\n",
       "      <td>...</td>\n",
       "      <td>...</td>\n",
       "      <td>...</td>\n",
       "      <td>...</td>\n",
       "      <td>...</td>\n",
       "      <td>...</td>\n",
       "      <td>...</td>\n",
       "      <td>...</td>\n",
       "      <td>...</td>\n",
       "      <td>...</td>\n",
       "      <td>...</td>\n",
       "      <td>...</td>\n",
       "      <td>...</td>\n",
       "      <td>...</td>\n",
       "      <td>...</td>\n",
       "      <td>...</td>\n",
       "      <td>...</td>\n",
       "      <td>...</td>\n",
       "      <td>...</td>\n",
       "      <td>...</td>\n",
       "      <td>...</td>\n",
       "    </tr>\n",
       "    <tr>\n",
       "      <th>Year of Wonders</th>\n",
       "      <td>NaN</td>\n",
       "      <td>NaN</td>\n",
       "      <td>NaN</td>\n",
       "      <td>7.0</td>\n",
       "      <td>NaN</td>\n",
       "      <td>NaN</td>\n",
       "      <td>NaN</td>\n",
       "      <td>NaN</td>\n",
       "      <td>7.0</td>\n",
       "      <td>NaN</td>\n",
       "      <td>...</td>\n",
       "      <td>NaN</td>\n",
       "      <td>NaN</td>\n",
       "      <td>NaN</td>\n",
       "      <td>NaN</td>\n",
       "      <td>NaN</td>\n",
       "      <td>0.0</td>\n",
       "      <td>NaN</td>\n",
       "      <td>NaN</td>\n",
       "      <td>NaN</td>\n",
       "      <td>NaN</td>\n",
       "    </tr>\n",
       "    <tr>\n",
       "      <th>You Belong To Me</th>\n",
       "      <td>NaN</td>\n",
       "      <td>NaN</td>\n",
       "      <td>NaN</td>\n",
       "      <td>NaN</td>\n",
       "      <td>NaN</td>\n",
       "      <td>NaN</td>\n",
       "      <td>NaN</td>\n",
       "      <td>NaN</td>\n",
       "      <td>NaN</td>\n",
       "      <td>NaN</td>\n",
       "      <td>...</td>\n",
       "      <td>NaN</td>\n",
       "      <td>NaN</td>\n",
       "      <td>NaN</td>\n",
       "      <td>NaN</td>\n",
       "      <td>NaN</td>\n",
       "      <td>NaN</td>\n",
       "      <td>NaN</td>\n",
       "      <td>NaN</td>\n",
       "      <td>NaN</td>\n",
       "      <td>NaN</td>\n",
       "    </tr>\n",
       "    <tr>\n",
       "      <th>Zen and the Art of Motorcycle Maintenance: An Inquiry into Values</th>\n",
       "      <td>NaN</td>\n",
       "      <td>NaN</td>\n",
       "      <td>NaN</td>\n",
       "      <td>NaN</td>\n",
       "      <td>0.0</td>\n",
       "      <td>NaN</td>\n",
       "      <td>NaN</td>\n",
       "      <td>NaN</td>\n",
       "      <td>NaN</td>\n",
       "      <td>0.0</td>\n",
       "      <td>...</td>\n",
       "      <td>NaN</td>\n",
       "      <td>NaN</td>\n",
       "      <td>NaN</td>\n",
       "      <td>NaN</td>\n",
       "      <td>NaN</td>\n",
       "      <td>0.0</td>\n",
       "      <td>NaN</td>\n",
       "      <td>NaN</td>\n",
       "      <td>NaN</td>\n",
       "      <td>NaN</td>\n",
       "    </tr>\n",
       "    <tr>\n",
       "      <th>Zoya</th>\n",
       "      <td>NaN</td>\n",
       "      <td>NaN</td>\n",
       "      <td>NaN</td>\n",
       "      <td>NaN</td>\n",
       "      <td>NaN</td>\n",
       "      <td>NaN</td>\n",
       "      <td>NaN</td>\n",
       "      <td>NaN</td>\n",
       "      <td>NaN</td>\n",
       "      <td>NaN</td>\n",
       "      <td>...</td>\n",
       "      <td>NaN</td>\n",
       "      <td>NaN</td>\n",
       "      <td>NaN</td>\n",
       "      <td>NaN</td>\n",
       "      <td>NaN</td>\n",
       "      <td>NaN</td>\n",
       "      <td>NaN</td>\n",
       "      <td>NaN</td>\n",
       "      <td>NaN</td>\n",
       "      <td>NaN</td>\n",
       "    </tr>\n",
       "    <tr>\n",
       "      <th>\\O\\\" Is for Outlaw\"</th>\n",
       "      <td>NaN</td>\n",
       "      <td>NaN</td>\n",
       "      <td>NaN</td>\n",
       "      <td>NaN</td>\n",
       "      <td>NaN</td>\n",
       "      <td>NaN</td>\n",
       "      <td>NaN</td>\n",
       "      <td>NaN</td>\n",
       "      <td>NaN</td>\n",
       "      <td>NaN</td>\n",
       "      <td>...</td>\n",
       "      <td>NaN</td>\n",
       "      <td>NaN</td>\n",
       "      <td>8.0</td>\n",
       "      <td>NaN</td>\n",
       "      <td>NaN</td>\n",
       "      <td>NaN</td>\n",
       "      <td>NaN</td>\n",
       "      <td>NaN</td>\n",
       "      <td>NaN</td>\n",
       "      <td>NaN</td>\n",
       "    </tr>\n",
       "  </tbody>\n",
       "</table>\n",
       "<p>737 rows × 888 columns</p>\n",
       "</div>"
      ],
      "text/plain": [
       "User-ID                                                            254     \\\n",
       "Book-Title                                                                  \n",
       "1984                                                                  9.0   \n",
       "1st to Die: A Novel                                                   NaN   \n",
       "2nd Chance                                                            NaN   \n",
       "4 Blondes                                                             NaN   \n",
       "A Bend in the Road                                                    0.0   \n",
       "...                                                                   ...   \n",
       "Year of Wonders                                                       NaN   \n",
       "You Belong To Me                                                      NaN   \n",
       "Zen and the Art of Motorcycle Maintenance: An Inquiry into Values     NaN   \n",
       "Zoya                                                                  NaN   \n",
       "\\O\\\" Is for Outlaw\"                                                   NaN   \n",
       "\n",
       "User-ID                                                            2276    \\\n",
       "Book-Title                                                                  \n",
       "1984                                                                  NaN   \n",
       "1st to Die: A Novel                                                   NaN   \n",
       "2nd Chance                                                           10.0   \n",
       "4 Blondes                                                             NaN   \n",
       "A Bend in the Road                                                    NaN   \n",
       "...                                                                   ...   \n",
       "Year of Wonders                                                       NaN   \n",
       "You Belong To Me                                                      NaN   \n",
       "Zen and the Art of Motorcycle Maintenance: An Inquiry into Values     NaN   \n",
       "Zoya                                                                  NaN   \n",
       "\\O\\\" Is for Outlaw\"                                                   NaN   \n",
       "\n",
       "User-ID                                                            2766    \\\n",
       "Book-Title                                                                  \n",
       "1984                                                                  NaN   \n",
       "1st to Die: A Novel                                                   NaN   \n",
       "2nd Chance                                                            NaN   \n",
       "4 Blondes                                                             NaN   \n",
       "A Bend in the Road                                                    7.0   \n",
       "...                                                                   ...   \n",
       "Year of Wonders                                                       NaN   \n",
       "You Belong To Me                                                      NaN   \n",
       "Zen and the Art of Motorcycle Maintenance: An Inquiry into Values     NaN   \n",
       "Zoya                                                                  NaN   \n",
       "\\O\\\" Is for Outlaw\"                                                   NaN   \n",
       "\n",
       "User-ID                                                            2977    \\\n",
       "Book-Title                                                                  \n",
       "1984                                                                  NaN   \n",
       "1st to Die: A Novel                                                   NaN   \n",
       "2nd Chance                                                            NaN   \n",
       "4 Blondes                                                             NaN   \n",
       "A Bend in the Road                                                    NaN   \n",
       "...                                                                   ...   \n",
       "Year of Wonders                                                       7.0   \n",
       "You Belong To Me                                                      NaN   \n",
       "Zen and the Art of Motorcycle Maintenance: An Inquiry into Values     NaN   \n",
       "Zoya                                                                  NaN   \n",
       "\\O\\\" Is for Outlaw\"                                                   NaN   \n",
       "\n",
       "User-ID                                                            3363    \\\n",
       "Book-Title                                                                  \n",
       "1984                                                                  NaN   \n",
       "1st to Die: A Novel                                                   NaN   \n",
       "2nd Chance                                                            NaN   \n",
       "4 Blondes                                                             NaN   \n",
       "A Bend in the Road                                                    NaN   \n",
       "...                                                                   ...   \n",
       "Year of Wonders                                                       NaN   \n",
       "You Belong To Me                                                      NaN   \n",
       "Zen and the Art of Motorcycle Maintenance: An Inquiry into Values     0.0   \n",
       "Zoya                                                                  NaN   \n",
       "\\O\\\" Is for Outlaw\"                                                   NaN   \n",
       "\n",
       "User-ID                                                            3757    \\\n",
       "Book-Title                                                                  \n",
       "1984                                                                  NaN   \n",
       "1st to Die: A Novel                                                   NaN   \n",
       "2nd Chance                                                            NaN   \n",
       "4 Blondes                                                             NaN   \n",
       "A Bend in the Road                                                    NaN   \n",
       "...                                                                   ...   \n",
       "Year of Wonders                                                       NaN   \n",
       "You Belong To Me                                                      NaN   \n",
       "Zen and the Art of Motorcycle Maintenance: An Inquiry into Values     NaN   \n",
       "Zoya                                                                  NaN   \n",
       "\\O\\\" Is for Outlaw\"                                                   NaN   \n",
       "\n",
       "User-ID                                                            4017    \\\n",
       "Book-Title                                                                  \n",
       "1984                                                                  NaN   \n",
       "1st to Die: A Novel                                                   NaN   \n",
       "2nd Chance                                                            NaN   \n",
       "4 Blondes                                                             NaN   \n",
       "A Bend in the Road                                                    NaN   \n",
       "...                                                                   ...   \n",
       "Year of Wonders                                                       NaN   \n",
       "You Belong To Me                                                      NaN   \n",
       "Zen and the Art of Motorcycle Maintenance: An Inquiry into Values     NaN   \n",
       "Zoya                                                                  NaN   \n",
       "\\O\\\" Is for Outlaw\"                                                   NaN   \n",
       "\n",
       "User-ID                                                            4385    \\\n",
       "Book-Title                                                                  \n",
       "1984                                                                  NaN   \n",
       "1st to Die: A Novel                                                   NaN   \n",
       "2nd Chance                                                            NaN   \n",
       "4 Blondes                                                             NaN   \n",
       "A Bend in the Road                                                    NaN   \n",
       "...                                                                   ...   \n",
       "Year of Wonders                                                       NaN   \n",
       "You Belong To Me                                                      NaN   \n",
       "Zen and the Art of Motorcycle Maintenance: An Inquiry into Values     NaN   \n",
       "Zoya                                                                  NaN   \n",
       "\\O\\\" Is for Outlaw\"                                                   NaN   \n",
       "\n",
       "User-ID                                                            6242    \\\n",
       "Book-Title                                                                  \n",
       "1984                                                                  NaN   \n",
       "1st to Die: A Novel                                                   NaN   \n",
       "2nd Chance                                                            NaN   \n",
       "4 Blondes                                                             NaN   \n",
       "A Bend in the Road                                                    NaN   \n",
       "...                                                                   ...   \n",
       "Year of Wonders                                                       7.0   \n",
       "You Belong To Me                                                      NaN   \n",
       "Zen and the Art of Motorcycle Maintenance: An Inquiry into Values     NaN   \n",
       "Zoya                                                                  NaN   \n",
       "\\O\\\" Is for Outlaw\"                                                   NaN   \n",
       "\n",
       "User-ID                                                            6251    \\\n",
       "Book-Title                                                                  \n",
       "1984                                                                  NaN   \n",
       "1st to Die: A Novel                                                   NaN   \n",
       "2nd Chance                                                            NaN   \n",
       "4 Blondes                                                             0.0   \n",
       "A Bend in the Road                                                    NaN   \n",
       "...                                                                   ...   \n",
       "Year of Wonders                                                       NaN   \n",
       "You Belong To Me                                                      NaN   \n",
       "Zen and the Art of Motorcycle Maintenance: An Inquiry into Values     0.0   \n",
       "Zoya                                                                  NaN   \n",
       "\\O\\\" Is for Outlaw\"                                                   NaN   \n",
       "\n",
       "User-ID                                                            ...  \\\n",
       "Book-Title                                                         ...   \n",
       "1984                                                               ...   \n",
       "1st to Die: A Novel                                                ...   \n",
       "2nd Chance                                                         ...   \n",
       "4 Blondes                                                          ...   \n",
       "A Bend in the Road                                                 ...   \n",
       "...                                                                ...   \n",
       "Year of Wonders                                                    ...   \n",
       "You Belong To Me                                                   ...   \n",
       "Zen and the Art of Motorcycle Maintenance: An Inquiry into Values  ...   \n",
       "Zoya                                                               ...   \n",
       "\\O\\\" Is for Outlaw\"                                                ...   \n",
       "\n",
       "User-ID                                                            274004  \\\n",
       "Book-Title                                                                  \n",
       "1984                                                                  NaN   \n",
       "1st to Die: A Novel                                                   NaN   \n",
       "2nd Chance                                                            NaN   \n",
       "4 Blondes                                                             NaN   \n",
       "A Bend in the Road                                                    NaN   \n",
       "...                                                                   ...   \n",
       "Year of Wonders                                                       NaN   \n",
       "You Belong To Me                                                      NaN   \n",
       "Zen and the Art of Motorcycle Maintenance: An Inquiry into Values     NaN   \n",
       "Zoya                                                                  NaN   \n",
       "\\O\\\" Is for Outlaw\"                                                   NaN   \n",
       "\n",
       "User-ID                                                            274061  \\\n",
       "Book-Title                                                                  \n",
       "1984                                                                  NaN   \n",
       "1st to Die: A Novel                                                   NaN   \n",
       "2nd Chance                                                            NaN   \n",
       "4 Blondes                                                             NaN   \n",
       "A Bend in the Road                                                    NaN   \n",
       "...                                                                   ...   \n",
       "Year of Wonders                                                       NaN   \n",
       "You Belong To Me                                                      NaN   \n",
       "Zen and the Art of Motorcycle Maintenance: An Inquiry into Values     NaN   \n",
       "Zoya                                                                  NaN   \n",
       "\\O\\\" Is for Outlaw\"                                                   NaN   \n",
       "\n",
       "User-ID                                                            274301  \\\n",
       "Book-Title                                                                  \n",
       "1984                                                                  NaN   \n",
       "1st to Die: A Novel                                                   NaN   \n",
       "2nd Chance                                                            NaN   \n",
       "4 Blondes                                                             NaN   \n",
       "A Bend in the Road                                                    NaN   \n",
       "...                                                                   ...   \n",
       "Year of Wonders                                                       NaN   \n",
       "You Belong To Me                                                      NaN   \n",
       "Zen and the Art of Motorcycle Maintenance: An Inquiry into Values     NaN   \n",
       "Zoya                                                                  NaN   \n",
       "\\O\\\" Is for Outlaw\"                                                   8.0   \n",
       "\n",
       "User-ID                                                            274308  \\\n",
       "Book-Title                                                                  \n",
       "1984                                                                  NaN   \n",
       "1st to Die: A Novel                                                   NaN   \n",
       "2nd Chance                                                            0.0   \n",
       "4 Blondes                                                             NaN   \n",
       "A Bend in the Road                                                    NaN   \n",
       "...                                                                   ...   \n",
       "Year of Wonders                                                       NaN   \n",
       "You Belong To Me                                                      NaN   \n",
       "Zen and the Art of Motorcycle Maintenance: An Inquiry into Values     NaN   \n",
       "Zoya                                                                  NaN   \n",
       "\\O\\\" Is for Outlaw\"                                                   NaN   \n",
       "\n",
       "User-ID                                                            274808  \\\n",
       "Book-Title                                                                  \n",
       "1984                                                                  NaN   \n",
       "1st to Die: A Novel                                                   NaN   \n",
       "2nd Chance                                                            NaN   \n",
       "4 Blondes                                                             NaN   \n",
       "A Bend in the Road                                                    NaN   \n",
       "...                                                                   ...   \n",
       "Year of Wonders                                                       NaN   \n",
       "You Belong To Me                                                      NaN   \n",
       "Zen and the Art of Motorcycle Maintenance: An Inquiry into Values     NaN   \n",
       "Zoya                                                                  NaN   \n",
       "\\O\\\" Is for Outlaw\"                                                   NaN   \n",
       "\n",
       "User-ID                                                            275970  \\\n",
       "Book-Title                                                                  \n",
       "1984                                                                  0.0   \n",
       "1st to Die: A Novel                                                   NaN   \n",
       "2nd Chance                                                            NaN   \n",
       "4 Blondes                                                             NaN   \n",
       "A Bend in the Road                                                    NaN   \n",
       "...                                                                   ...   \n",
       "Year of Wonders                                                       0.0   \n",
       "You Belong To Me                                                      NaN   \n",
       "Zen and the Art of Motorcycle Maintenance: An Inquiry into Values     0.0   \n",
       "Zoya                                                                  NaN   \n",
       "\\O\\\" Is for Outlaw\"                                                   NaN   \n",
       "\n",
       "User-ID                                                            277427  \\\n",
       "Book-Title                                                                  \n",
       "1984                                                                  NaN   \n",
       "1st to Die: A Novel                                                   NaN   \n",
       "2nd Chance                                                            NaN   \n",
       "4 Blondes                                                             NaN   \n",
       "A Bend in the Road                                                    NaN   \n",
       "...                                                                   ...   \n",
       "Year of Wonders                                                       NaN   \n",
       "You Belong To Me                                                      NaN   \n",
       "Zen and the Art of Motorcycle Maintenance: An Inquiry into Values     NaN   \n",
       "Zoya                                                                  NaN   \n",
       "\\O\\\" Is for Outlaw\"                                                   NaN   \n",
       "\n",
       "User-ID                                                            277478  \\\n",
       "Book-Title                                                                  \n",
       "1984                                                                  NaN   \n",
       "1st to Die: A Novel                                                   NaN   \n",
       "2nd Chance                                                            NaN   \n",
       "4 Blondes                                                             NaN   \n",
       "A Bend in the Road                                                    NaN   \n",
       "...                                                                   ...   \n",
       "Year of Wonders                                                       NaN   \n",
       "You Belong To Me                                                      NaN   \n",
       "Zen and the Art of Motorcycle Maintenance: An Inquiry into Values     NaN   \n",
       "Zoya                                                                  NaN   \n",
       "\\O\\\" Is for Outlaw\"                                                   NaN   \n",
       "\n",
       "User-ID                                                            277639  \\\n",
       "Book-Title                                                                  \n",
       "1984                                                                  NaN   \n",
       "1st to Die: A Novel                                                   NaN   \n",
       "2nd Chance                                                            0.0   \n",
       "4 Blondes                                                             NaN   \n",
       "A Bend in the Road                                                    NaN   \n",
       "...                                                                   ...   \n",
       "Year of Wonders                                                       NaN   \n",
       "You Belong To Me                                                      NaN   \n",
       "Zen and the Art of Motorcycle Maintenance: An Inquiry into Values     NaN   \n",
       "Zoya                                                                  NaN   \n",
       "\\O\\\" Is for Outlaw\"                                                   NaN   \n",
       "\n",
       "User-ID                                                            278418  \n",
       "Book-Title                                                                 \n",
       "1984                                                                  NaN  \n",
       "1st to Die: A Novel                                                   NaN  \n",
       "2nd Chance                                                            NaN  \n",
       "4 Blondes                                                             NaN  \n",
       "A Bend in the Road                                                    NaN  \n",
       "...                                                                   ...  \n",
       "Year of Wonders                                                       NaN  \n",
       "You Belong To Me                                                      NaN  \n",
       "Zen and the Art of Motorcycle Maintenance: An Inquiry into Values     NaN  \n",
       "Zoya                                                                  NaN  \n",
       "\\O\\\" Is for Outlaw\"                                                   NaN  \n",
       "\n",
       "[737 rows x 888 columns]"
      ]
     },
     "execution_count": 102,
     "metadata": {},
     "output_type": "execute_result"
    }
   ],
   "source": [
    "book_pivot"
   ]
  },
  {
   "cell_type": "markdown",
   "metadata": {
    "id": "fq_2V92rYGFl"
   },
   "source": [
    "#### From the above table, we can see there are Nan values so lets fill it with '0'"
   ]
  },
  {
   "cell_type": "code",
   "execution_count": 103,
   "metadata": {
    "colab": {
     "base_uri": "https://localhost:8080/",
     "height": 594
    },
    "id": "TiktgZQ1YGFl",
    "outputId": "adc1edce-85bb-4ed8-93dc-e04fc67346f1"
   },
   "outputs": [
    {
     "data": {
      "text/html": [
       "<div>\n",
       "<style scoped>\n",
       "    .dataframe tbody tr th:only-of-type {\n",
       "        vertical-align: middle;\n",
       "    }\n",
       "\n",
       "    .dataframe tbody tr th {\n",
       "        vertical-align: top;\n",
       "    }\n",
       "\n",
       "    .dataframe thead th {\n",
       "        text-align: right;\n",
       "    }\n",
       "</style>\n",
       "<table border=\"1\" class=\"dataframe\">\n",
       "  <thead>\n",
       "    <tr style=\"text-align: right;\">\n",
       "      <th>User-ID</th>\n",
       "      <th>254</th>\n",
       "      <th>2276</th>\n",
       "      <th>2766</th>\n",
       "      <th>2977</th>\n",
       "      <th>3363</th>\n",
       "      <th>3757</th>\n",
       "      <th>4017</th>\n",
       "      <th>4385</th>\n",
       "      <th>6242</th>\n",
       "      <th>6251</th>\n",
       "      <th>...</th>\n",
       "      <th>274004</th>\n",
       "      <th>274061</th>\n",
       "      <th>274301</th>\n",
       "      <th>274308</th>\n",
       "      <th>274808</th>\n",
       "      <th>275970</th>\n",
       "      <th>277427</th>\n",
       "      <th>277478</th>\n",
       "      <th>277639</th>\n",
       "      <th>278418</th>\n",
       "    </tr>\n",
       "    <tr>\n",
       "      <th>Book-Title</th>\n",
       "      <th></th>\n",
       "      <th></th>\n",
       "      <th></th>\n",
       "      <th></th>\n",
       "      <th></th>\n",
       "      <th></th>\n",
       "      <th></th>\n",
       "      <th></th>\n",
       "      <th></th>\n",
       "      <th></th>\n",
       "      <th></th>\n",
       "      <th></th>\n",
       "      <th></th>\n",
       "      <th></th>\n",
       "      <th></th>\n",
       "      <th></th>\n",
       "      <th></th>\n",
       "      <th></th>\n",
       "      <th></th>\n",
       "      <th></th>\n",
       "      <th></th>\n",
       "    </tr>\n",
       "  </thead>\n",
       "  <tbody>\n",
       "    <tr>\n",
       "      <th>1984</th>\n",
       "      <td>9.0</td>\n",
       "      <td>0.0</td>\n",
       "      <td>0.0</td>\n",
       "      <td>0.0</td>\n",
       "      <td>0.0</td>\n",
       "      <td>0.0</td>\n",
       "      <td>0.0</td>\n",
       "      <td>0.0</td>\n",
       "      <td>0.0</td>\n",
       "      <td>0.0</td>\n",
       "      <td>...</td>\n",
       "      <td>0.0</td>\n",
       "      <td>0.0</td>\n",
       "      <td>0.0</td>\n",
       "      <td>0.0</td>\n",
       "      <td>0.0</td>\n",
       "      <td>0.0</td>\n",
       "      <td>0.0</td>\n",
       "      <td>0.0</td>\n",
       "      <td>0.0</td>\n",
       "      <td>0.0</td>\n",
       "    </tr>\n",
       "    <tr>\n",
       "      <th>1st to Die: A Novel</th>\n",
       "      <td>0.0</td>\n",
       "      <td>0.0</td>\n",
       "      <td>0.0</td>\n",
       "      <td>0.0</td>\n",
       "      <td>0.0</td>\n",
       "      <td>0.0</td>\n",
       "      <td>0.0</td>\n",
       "      <td>0.0</td>\n",
       "      <td>0.0</td>\n",
       "      <td>0.0</td>\n",
       "      <td>...</td>\n",
       "      <td>0.0</td>\n",
       "      <td>0.0</td>\n",
       "      <td>0.0</td>\n",
       "      <td>0.0</td>\n",
       "      <td>0.0</td>\n",
       "      <td>0.0</td>\n",
       "      <td>0.0</td>\n",
       "      <td>0.0</td>\n",
       "      <td>0.0</td>\n",
       "      <td>0.0</td>\n",
       "    </tr>\n",
       "    <tr>\n",
       "      <th>2nd Chance</th>\n",
       "      <td>0.0</td>\n",
       "      <td>10.0</td>\n",
       "      <td>0.0</td>\n",
       "      <td>0.0</td>\n",
       "      <td>0.0</td>\n",
       "      <td>0.0</td>\n",
       "      <td>0.0</td>\n",
       "      <td>0.0</td>\n",
       "      <td>0.0</td>\n",
       "      <td>0.0</td>\n",
       "      <td>...</td>\n",
       "      <td>0.0</td>\n",
       "      <td>0.0</td>\n",
       "      <td>0.0</td>\n",
       "      <td>0.0</td>\n",
       "      <td>0.0</td>\n",
       "      <td>0.0</td>\n",
       "      <td>0.0</td>\n",
       "      <td>0.0</td>\n",
       "      <td>0.0</td>\n",
       "      <td>0.0</td>\n",
       "    </tr>\n",
       "    <tr>\n",
       "      <th>4 Blondes</th>\n",
       "      <td>0.0</td>\n",
       "      <td>0.0</td>\n",
       "      <td>0.0</td>\n",
       "      <td>0.0</td>\n",
       "      <td>0.0</td>\n",
       "      <td>0.0</td>\n",
       "      <td>0.0</td>\n",
       "      <td>0.0</td>\n",
       "      <td>0.0</td>\n",
       "      <td>0.0</td>\n",
       "      <td>...</td>\n",
       "      <td>0.0</td>\n",
       "      <td>0.0</td>\n",
       "      <td>0.0</td>\n",
       "      <td>0.0</td>\n",
       "      <td>0.0</td>\n",
       "      <td>0.0</td>\n",
       "      <td>0.0</td>\n",
       "      <td>0.0</td>\n",
       "      <td>0.0</td>\n",
       "      <td>0.0</td>\n",
       "    </tr>\n",
       "    <tr>\n",
       "      <th>A Bend in the Road</th>\n",
       "      <td>0.0</td>\n",
       "      <td>0.0</td>\n",
       "      <td>7.0</td>\n",
       "      <td>0.0</td>\n",
       "      <td>0.0</td>\n",
       "      <td>0.0</td>\n",
       "      <td>0.0</td>\n",
       "      <td>0.0</td>\n",
       "      <td>0.0</td>\n",
       "      <td>0.0</td>\n",
       "      <td>...</td>\n",
       "      <td>0.0</td>\n",
       "      <td>0.0</td>\n",
       "      <td>0.0</td>\n",
       "      <td>0.0</td>\n",
       "      <td>0.0</td>\n",
       "      <td>0.0</td>\n",
       "      <td>0.0</td>\n",
       "      <td>0.0</td>\n",
       "      <td>0.0</td>\n",
       "      <td>0.0</td>\n",
       "    </tr>\n",
       "    <tr>\n",
       "      <th>...</th>\n",
       "      <td>...</td>\n",
       "      <td>...</td>\n",
       "      <td>...</td>\n",
       "      <td>...</td>\n",
       "      <td>...</td>\n",
       "      <td>...</td>\n",
       "      <td>...</td>\n",
       "      <td>...</td>\n",
       "      <td>...</td>\n",
       "      <td>...</td>\n",
       "      <td>...</td>\n",
       "      <td>...</td>\n",
       "      <td>...</td>\n",
       "      <td>...</td>\n",
       "      <td>...</td>\n",
       "      <td>...</td>\n",
       "      <td>...</td>\n",
       "      <td>...</td>\n",
       "      <td>...</td>\n",
       "      <td>...</td>\n",
       "      <td>...</td>\n",
       "    </tr>\n",
       "    <tr>\n",
       "      <th>Year of Wonders</th>\n",
       "      <td>0.0</td>\n",
       "      <td>0.0</td>\n",
       "      <td>0.0</td>\n",
       "      <td>7.0</td>\n",
       "      <td>0.0</td>\n",
       "      <td>0.0</td>\n",
       "      <td>0.0</td>\n",
       "      <td>0.0</td>\n",
       "      <td>7.0</td>\n",
       "      <td>0.0</td>\n",
       "      <td>...</td>\n",
       "      <td>0.0</td>\n",
       "      <td>0.0</td>\n",
       "      <td>0.0</td>\n",
       "      <td>0.0</td>\n",
       "      <td>0.0</td>\n",
       "      <td>0.0</td>\n",
       "      <td>0.0</td>\n",
       "      <td>0.0</td>\n",
       "      <td>0.0</td>\n",
       "      <td>0.0</td>\n",
       "    </tr>\n",
       "    <tr>\n",
       "      <th>You Belong To Me</th>\n",
       "      <td>0.0</td>\n",
       "      <td>0.0</td>\n",
       "      <td>0.0</td>\n",
       "      <td>0.0</td>\n",
       "      <td>0.0</td>\n",
       "      <td>0.0</td>\n",
       "      <td>0.0</td>\n",
       "      <td>0.0</td>\n",
       "      <td>0.0</td>\n",
       "      <td>0.0</td>\n",
       "      <td>...</td>\n",
       "      <td>0.0</td>\n",
       "      <td>0.0</td>\n",
       "      <td>0.0</td>\n",
       "      <td>0.0</td>\n",
       "      <td>0.0</td>\n",
       "      <td>0.0</td>\n",
       "      <td>0.0</td>\n",
       "      <td>0.0</td>\n",
       "      <td>0.0</td>\n",
       "      <td>0.0</td>\n",
       "    </tr>\n",
       "    <tr>\n",
       "      <th>Zen and the Art of Motorcycle Maintenance: An Inquiry into Values</th>\n",
       "      <td>0.0</td>\n",
       "      <td>0.0</td>\n",
       "      <td>0.0</td>\n",
       "      <td>0.0</td>\n",
       "      <td>0.0</td>\n",
       "      <td>0.0</td>\n",
       "      <td>0.0</td>\n",
       "      <td>0.0</td>\n",
       "      <td>0.0</td>\n",
       "      <td>0.0</td>\n",
       "      <td>...</td>\n",
       "      <td>0.0</td>\n",
       "      <td>0.0</td>\n",
       "      <td>0.0</td>\n",
       "      <td>0.0</td>\n",
       "      <td>0.0</td>\n",
       "      <td>0.0</td>\n",
       "      <td>0.0</td>\n",
       "      <td>0.0</td>\n",
       "      <td>0.0</td>\n",
       "      <td>0.0</td>\n",
       "    </tr>\n",
       "    <tr>\n",
       "      <th>Zoya</th>\n",
       "      <td>0.0</td>\n",
       "      <td>0.0</td>\n",
       "      <td>0.0</td>\n",
       "      <td>0.0</td>\n",
       "      <td>0.0</td>\n",
       "      <td>0.0</td>\n",
       "      <td>0.0</td>\n",
       "      <td>0.0</td>\n",
       "      <td>0.0</td>\n",
       "      <td>0.0</td>\n",
       "      <td>...</td>\n",
       "      <td>0.0</td>\n",
       "      <td>0.0</td>\n",
       "      <td>0.0</td>\n",
       "      <td>0.0</td>\n",
       "      <td>0.0</td>\n",
       "      <td>0.0</td>\n",
       "      <td>0.0</td>\n",
       "      <td>0.0</td>\n",
       "      <td>0.0</td>\n",
       "      <td>0.0</td>\n",
       "    </tr>\n",
       "    <tr>\n",
       "      <th>\\O\\\" Is for Outlaw\"</th>\n",
       "      <td>0.0</td>\n",
       "      <td>0.0</td>\n",
       "      <td>0.0</td>\n",
       "      <td>0.0</td>\n",
       "      <td>0.0</td>\n",
       "      <td>0.0</td>\n",
       "      <td>0.0</td>\n",
       "      <td>0.0</td>\n",
       "      <td>0.0</td>\n",
       "      <td>0.0</td>\n",
       "      <td>...</td>\n",
       "      <td>0.0</td>\n",
       "      <td>0.0</td>\n",
       "      <td>8.0</td>\n",
       "      <td>0.0</td>\n",
       "      <td>0.0</td>\n",
       "      <td>0.0</td>\n",
       "      <td>0.0</td>\n",
       "      <td>0.0</td>\n",
       "      <td>0.0</td>\n",
       "      <td>0.0</td>\n",
       "    </tr>\n",
       "  </tbody>\n",
       "</table>\n",
       "<p>737 rows × 888 columns</p>\n",
       "</div>"
      ],
      "text/plain": [
       "User-ID                                                            254     \\\n",
       "Book-Title                                                                  \n",
       "1984                                                                  9.0   \n",
       "1st to Die: A Novel                                                   0.0   \n",
       "2nd Chance                                                            0.0   \n",
       "4 Blondes                                                             0.0   \n",
       "A Bend in the Road                                                    0.0   \n",
       "...                                                                   ...   \n",
       "Year of Wonders                                                       0.0   \n",
       "You Belong To Me                                                      0.0   \n",
       "Zen and the Art of Motorcycle Maintenance: An Inquiry into Values     0.0   \n",
       "Zoya                                                                  0.0   \n",
       "\\O\\\" Is for Outlaw\"                                                   0.0   \n",
       "\n",
       "User-ID                                                            2276    \\\n",
       "Book-Title                                                                  \n",
       "1984                                                                  0.0   \n",
       "1st to Die: A Novel                                                   0.0   \n",
       "2nd Chance                                                           10.0   \n",
       "4 Blondes                                                             0.0   \n",
       "A Bend in the Road                                                    0.0   \n",
       "...                                                                   ...   \n",
       "Year of Wonders                                                       0.0   \n",
       "You Belong To Me                                                      0.0   \n",
       "Zen and the Art of Motorcycle Maintenance: An Inquiry into Values     0.0   \n",
       "Zoya                                                                  0.0   \n",
       "\\O\\\" Is for Outlaw\"                                                   0.0   \n",
       "\n",
       "User-ID                                                            2766    \\\n",
       "Book-Title                                                                  \n",
       "1984                                                                  0.0   \n",
       "1st to Die: A Novel                                                   0.0   \n",
       "2nd Chance                                                            0.0   \n",
       "4 Blondes                                                             0.0   \n",
       "A Bend in the Road                                                    7.0   \n",
       "...                                                                   ...   \n",
       "Year of Wonders                                                       0.0   \n",
       "You Belong To Me                                                      0.0   \n",
       "Zen and the Art of Motorcycle Maintenance: An Inquiry into Values     0.0   \n",
       "Zoya                                                                  0.0   \n",
       "\\O\\\" Is for Outlaw\"                                                   0.0   \n",
       "\n",
       "User-ID                                                            2977    \\\n",
       "Book-Title                                                                  \n",
       "1984                                                                  0.0   \n",
       "1st to Die: A Novel                                                   0.0   \n",
       "2nd Chance                                                            0.0   \n",
       "4 Blondes                                                             0.0   \n",
       "A Bend in the Road                                                    0.0   \n",
       "...                                                                   ...   \n",
       "Year of Wonders                                                       7.0   \n",
       "You Belong To Me                                                      0.0   \n",
       "Zen and the Art of Motorcycle Maintenance: An Inquiry into Values     0.0   \n",
       "Zoya                                                                  0.0   \n",
       "\\O\\\" Is for Outlaw\"                                                   0.0   \n",
       "\n",
       "User-ID                                                            3363    \\\n",
       "Book-Title                                                                  \n",
       "1984                                                                  0.0   \n",
       "1st to Die: A Novel                                                   0.0   \n",
       "2nd Chance                                                            0.0   \n",
       "4 Blondes                                                             0.0   \n",
       "A Bend in the Road                                                    0.0   \n",
       "...                                                                   ...   \n",
       "Year of Wonders                                                       0.0   \n",
       "You Belong To Me                                                      0.0   \n",
       "Zen and the Art of Motorcycle Maintenance: An Inquiry into Values     0.0   \n",
       "Zoya                                                                  0.0   \n",
       "\\O\\\" Is for Outlaw\"                                                   0.0   \n",
       "\n",
       "User-ID                                                            3757    \\\n",
       "Book-Title                                                                  \n",
       "1984                                                                  0.0   \n",
       "1st to Die: A Novel                                                   0.0   \n",
       "2nd Chance                                                            0.0   \n",
       "4 Blondes                                                             0.0   \n",
       "A Bend in the Road                                                    0.0   \n",
       "...                                                                   ...   \n",
       "Year of Wonders                                                       0.0   \n",
       "You Belong To Me                                                      0.0   \n",
       "Zen and the Art of Motorcycle Maintenance: An Inquiry into Values     0.0   \n",
       "Zoya                                                                  0.0   \n",
       "\\O\\\" Is for Outlaw\"                                                   0.0   \n",
       "\n",
       "User-ID                                                            4017    \\\n",
       "Book-Title                                                                  \n",
       "1984                                                                  0.0   \n",
       "1st to Die: A Novel                                                   0.0   \n",
       "2nd Chance                                                            0.0   \n",
       "4 Blondes                                                             0.0   \n",
       "A Bend in the Road                                                    0.0   \n",
       "...                                                                   ...   \n",
       "Year of Wonders                                                       0.0   \n",
       "You Belong To Me                                                      0.0   \n",
       "Zen and the Art of Motorcycle Maintenance: An Inquiry into Values     0.0   \n",
       "Zoya                                                                  0.0   \n",
       "\\O\\\" Is for Outlaw\"                                                   0.0   \n",
       "\n",
       "User-ID                                                            4385    \\\n",
       "Book-Title                                                                  \n",
       "1984                                                                  0.0   \n",
       "1st to Die: A Novel                                                   0.0   \n",
       "2nd Chance                                                            0.0   \n",
       "4 Blondes                                                             0.0   \n",
       "A Bend in the Road                                                    0.0   \n",
       "...                                                                   ...   \n",
       "Year of Wonders                                                       0.0   \n",
       "You Belong To Me                                                      0.0   \n",
       "Zen and the Art of Motorcycle Maintenance: An Inquiry into Values     0.0   \n",
       "Zoya                                                                  0.0   \n",
       "\\O\\\" Is for Outlaw\"                                                   0.0   \n",
       "\n",
       "User-ID                                                            6242    \\\n",
       "Book-Title                                                                  \n",
       "1984                                                                  0.0   \n",
       "1st to Die: A Novel                                                   0.0   \n",
       "2nd Chance                                                            0.0   \n",
       "4 Blondes                                                             0.0   \n",
       "A Bend in the Road                                                    0.0   \n",
       "...                                                                   ...   \n",
       "Year of Wonders                                                       7.0   \n",
       "You Belong To Me                                                      0.0   \n",
       "Zen and the Art of Motorcycle Maintenance: An Inquiry into Values     0.0   \n",
       "Zoya                                                                  0.0   \n",
       "\\O\\\" Is for Outlaw\"                                                   0.0   \n",
       "\n",
       "User-ID                                                            6251    \\\n",
       "Book-Title                                                                  \n",
       "1984                                                                  0.0   \n",
       "1st to Die: A Novel                                                   0.0   \n",
       "2nd Chance                                                            0.0   \n",
       "4 Blondes                                                             0.0   \n",
       "A Bend in the Road                                                    0.0   \n",
       "...                                                                   ...   \n",
       "Year of Wonders                                                       0.0   \n",
       "You Belong To Me                                                      0.0   \n",
       "Zen and the Art of Motorcycle Maintenance: An Inquiry into Values     0.0   \n",
       "Zoya                                                                  0.0   \n",
       "\\O\\\" Is for Outlaw\"                                                   0.0   \n",
       "\n",
       "User-ID                                                            ...  \\\n",
       "Book-Title                                                         ...   \n",
       "1984                                                               ...   \n",
       "1st to Die: A Novel                                                ...   \n",
       "2nd Chance                                                         ...   \n",
       "4 Blondes                                                          ...   \n",
       "A Bend in the Road                                                 ...   \n",
       "...                                                                ...   \n",
       "Year of Wonders                                                    ...   \n",
       "You Belong To Me                                                   ...   \n",
       "Zen and the Art of Motorcycle Maintenance: An Inquiry into Values  ...   \n",
       "Zoya                                                               ...   \n",
       "\\O\\\" Is for Outlaw\"                                                ...   \n",
       "\n",
       "User-ID                                                            274004  \\\n",
       "Book-Title                                                                  \n",
       "1984                                                                  0.0   \n",
       "1st to Die: A Novel                                                   0.0   \n",
       "2nd Chance                                                            0.0   \n",
       "4 Blondes                                                             0.0   \n",
       "A Bend in the Road                                                    0.0   \n",
       "...                                                                   ...   \n",
       "Year of Wonders                                                       0.0   \n",
       "You Belong To Me                                                      0.0   \n",
       "Zen and the Art of Motorcycle Maintenance: An Inquiry into Values     0.0   \n",
       "Zoya                                                                  0.0   \n",
       "\\O\\\" Is for Outlaw\"                                                   0.0   \n",
       "\n",
       "User-ID                                                            274061  \\\n",
       "Book-Title                                                                  \n",
       "1984                                                                  0.0   \n",
       "1st to Die: A Novel                                                   0.0   \n",
       "2nd Chance                                                            0.0   \n",
       "4 Blondes                                                             0.0   \n",
       "A Bend in the Road                                                    0.0   \n",
       "...                                                                   ...   \n",
       "Year of Wonders                                                       0.0   \n",
       "You Belong To Me                                                      0.0   \n",
       "Zen and the Art of Motorcycle Maintenance: An Inquiry into Values     0.0   \n",
       "Zoya                                                                  0.0   \n",
       "\\O\\\" Is for Outlaw\"                                                   0.0   \n",
       "\n",
       "User-ID                                                            274301  \\\n",
       "Book-Title                                                                  \n",
       "1984                                                                  0.0   \n",
       "1st to Die: A Novel                                                   0.0   \n",
       "2nd Chance                                                            0.0   \n",
       "4 Blondes                                                             0.0   \n",
       "A Bend in the Road                                                    0.0   \n",
       "...                                                                   ...   \n",
       "Year of Wonders                                                       0.0   \n",
       "You Belong To Me                                                      0.0   \n",
       "Zen and the Art of Motorcycle Maintenance: An Inquiry into Values     0.0   \n",
       "Zoya                                                                  0.0   \n",
       "\\O\\\" Is for Outlaw\"                                                   8.0   \n",
       "\n",
       "User-ID                                                            274308  \\\n",
       "Book-Title                                                                  \n",
       "1984                                                                  0.0   \n",
       "1st to Die: A Novel                                                   0.0   \n",
       "2nd Chance                                                            0.0   \n",
       "4 Blondes                                                             0.0   \n",
       "A Bend in the Road                                                    0.0   \n",
       "...                                                                   ...   \n",
       "Year of Wonders                                                       0.0   \n",
       "You Belong To Me                                                      0.0   \n",
       "Zen and the Art of Motorcycle Maintenance: An Inquiry into Values     0.0   \n",
       "Zoya                                                                  0.0   \n",
       "\\O\\\" Is for Outlaw\"                                                   0.0   \n",
       "\n",
       "User-ID                                                            274808  \\\n",
       "Book-Title                                                                  \n",
       "1984                                                                  0.0   \n",
       "1st to Die: A Novel                                                   0.0   \n",
       "2nd Chance                                                            0.0   \n",
       "4 Blondes                                                             0.0   \n",
       "A Bend in the Road                                                    0.0   \n",
       "...                                                                   ...   \n",
       "Year of Wonders                                                       0.0   \n",
       "You Belong To Me                                                      0.0   \n",
       "Zen and the Art of Motorcycle Maintenance: An Inquiry into Values     0.0   \n",
       "Zoya                                                                  0.0   \n",
       "\\O\\\" Is for Outlaw\"                                                   0.0   \n",
       "\n",
       "User-ID                                                            275970  \\\n",
       "Book-Title                                                                  \n",
       "1984                                                                  0.0   \n",
       "1st to Die: A Novel                                                   0.0   \n",
       "2nd Chance                                                            0.0   \n",
       "4 Blondes                                                             0.0   \n",
       "A Bend in the Road                                                    0.0   \n",
       "...                                                                   ...   \n",
       "Year of Wonders                                                       0.0   \n",
       "You Belong To Me                                                      0.0   \n",
       "Zen and the Art of Motorcycle Maintenance: An Inquiry into Values     0.0   \n",
       "Zoya                                                                  0.0   \n",
       "\\O\\\" Is for Outlaw\"                                                   0.0   \n",
       "\n",
       "User-ID                                                            277427  \\\n",
       "Book-Title                                                                  \n",
       "1984                                                                  0.0   \n",
       "1st to Die: A Novel                                                   0.0   \n",
       "2nd Chance                                                            0.0   \n",
       "4 Blondes                                                             0.0   \n",
       "A Bend in the Road                                                    0.0   \n",
       "...                                                                   ...   \n",
       "Year of Wonders                                                       0.0   \n",
       "You Belong To Me                                                      0.0   \n",
       "Zen and the Art of Motorcycle Maintenance: An Inquiry into Values     0.0   \n",
       "Zoya                                                                  0.0   \n",
       "\\O\\\" Is for Outlaw\"                                                   0.0   \n",
       "\n",
       "User-ID                                                            277478  \\\n",
       "Book-Title                                                                  \n",
       "1984                                                                  0.0   \n",
       "1st to Die: A Novel                                                   0.0   \n",
       "2nd Chance                                                            0.0   \n",
       "4 Blondes                                                             0.0   \n",
       "A Bend in the Road                                                    0.0   \n",
       "...                                                                   ...   \n",
       "Year of Wonders                                                       0.0   \n",
       "You Belong To Me                                                      0.0   \n",
       "Zen and the Art of Motorcycle Maintenance: An Inquiry into Values     0.0   \n",
       "Zoya                                                                  0.0   \n",
       "\\O\\\" Is for Outlaw\"                                                   0.0   \n",
       "\n",
       "User-ID                                                            277639  \\\n",
       "Book-Title                                                                  \n",
       "1984                                                                  0.0   \n",
       "1st to Die: A Novel                                                   0.0   \n",
       "2nd Chance                                                            0.0   \n",
       "4 Blondes                                                             0.0   \n",
       "A Bend in the Road                                                    0.0   \n",
       "...                                                                   ...   \n",
       "Year of Wonders                                                       0.0   \n",
       "You Belong To Me                                                      0.0   \n",
       "Zen and the Art of Motorcycle Maintenance: An Inquiry into Values     0.0   \n",
       "Zoya                                                                  0.0   \n",
       "\\O\\\" Is for Outlaw\"                                                   0.0   \n",
       "\n",
       "User-ID                                                            278418  \n",
       "Book-Title                                                                 \n",
       "1984                                                                  0.0  \n",
       "1st to Die: A Novel                                                   0.0  \n",
       "2nd Chance                                                            0.0  \n",
       "4 Blondes                                                             0.0  \n",
       "A Bend in the Road                                                    0.0  \n",
       "...                                                                   ...  \n",
       "Year of Wonders                                                       0.0  \n",
       "You Belong To Me                                                      0.0  \n",
       "Zen and the Art of Motorcycle Maintenance: An Inquiry into Values     0.0  \n",
       "Zoya                                                                  0.0  \n",
       "\\O\\\" Is for Outlaw\"                                                   0.0  \n",
       "\n",
       "[737 rows x 888 columns]"
      ]
     },
     "execution_count": 103,
     "metadata": {},
     "output_type": "execute_result"
    }
   ],
   "source": [
    "#lets fill nan with '0'\n",
    "\n",
    "book_pivot.fillna(0, inplace=True)\n",
    "book_pivot"
   ]
  },
  {
   "cell_type": "code",
   "execution_count": 104,
   "metadata": {
    "id": "YESj_d2wYGFl"
   },
   "outputs": [],
   "source": [
    "book_sparse =csr_matrix(book_pivot)"
   ]
  },
  {
   "cell_type": "markdown",
   "metadata": {
    "id": "xsCNjqv0YGFl"
   },
   "source": [
    "#### ************* Implementing the KNN *********************"
   ]
  },
  {
   "cell_type": "code",
   "execution_count": 105,
   "metadata": {
    "id": "inRdPFzSYGFl"
   },
   "outputs": [],
   "source": [
    "from sklearn.neighbors import NearestNeighbors\n",
    "model=NearestNeighbors(algorithm='brute')\n"
   ]
  },
  {
   "cell_type": "code",
   "execution_count": 106,
   "metadata": {
    "colab": {
     "base_uri": "https://localhost:8080/",
     "height": 75
    },
    "id": "dhs1XRTBYGFl",
    "outputId": "0d558ae7-87a1-426f-849e-a8f547aac12c"
   },
   "outputs": [
    {
     "data": {
      "text/html": [
       "<style>#sk-container-id-2 {color: black;background-color: white;}#sk-container-id-2 pre{padding: 0;}#sk-container-id-2 div.sk-toggleable {background-color: white;}#sk-container-id-2 label.sk-toggleable__label {cursor: pointer;display: block;width: 100%;margin-bottom: 0;padding: 0.3em;box-sizing: border-box;text-align: center;}#sk-container-id-2 label.sk-toggleable__label-arrow:before {content: \"▸\";float: left;margin-right: 0.25em;color: #696969;}#sk-container-id-2 label.sk-toggleable__label-arrow:hover:before {color: black;}#sk-container-id-2 div.sk-estimator:hover label.sk-toggleable__label-arrow:before {color: black;}#sk-container-id-2 div.sk-toggleable__content {max-height: 0;max-width: 0;overflow: hidden;text-align: left;background-color: #f0f8ff;}#sk-container-id-2 div.sk-toggleable__content pre {margin: 0.2em;color: black;border-radius: 0.25em;background-color: #f0f8ff;}#sk-container-id-2 input.sk-toggleable__control:checked~div.sk-toggleable__content {max-height: 200px;max-width: 100%;overflow: auto;}#sk-container-id-2 input.sk-toggleable__control:checked~label.sk-toggleable__label-arrow:before {content: \"▾\";}#sk-container-id-2 div.sk-estimator input.sk-toggleable__control:checked~label.sk-toggleable__label {background-color: #d4ebff;}#sk-container-id-2 div.sk-label input.sk-toggleable__control:checked~label.sk-toggleable__label {background-color: #d4ebff;}#sk-container-id-2 input.sk-hidden--visually {border: 0;clip: rect(1px 1px 1px 1px);clip: rect(1px, 1px, 1px, 1px);height: 1px;margin: -1px;overflow: hidden;padding: 0;position: absolute;width: 1px;}#sk-container-id-2 div.sk-estimator {font-family: monospace;background-color: #f0f8ff;border: 1px dotted black;border-radius: 0.25em;box-sizing: border-box;margin-bottom: 0.5em;}#sk-container-id-2 div.sk-estimator:hover {background-color: #d4ebff;}#sk-container-id-2 div.sk-parallel-item::after {content: \"\";width: 100%;border-bottom: 1px solid gray;flex-grow: 1;}#sk-container-id-2 div.sk-label:hover label.sk-toggleable__label {background-color: #d4ebff;}#sk-container-id-2 div.sk-serial::before {content: \"\";position: absolute;border-left: 1px solid gray;box-sizing: border-box;top: 0;bottom: 0;left: 50%;z-index: 0;}#sk-container-id-2 div.sk-serial {display: flex;flex-direction: column;align-items: center;background-color: white;padding-right: 0.2em;padding-left: 0.2em;position: relative;}#sk-container-id-2 div.sk-item {position: relative;z-index: 1;}#sk-container-id-2 div.sk-parallel {display: flex;align-items: stretch;justify-content: center;background-color: white;position: relative;}#sk-container-id-2 div.sk-item::before, #sk-container-id-2 div.sk-parallel-item::before {content: \"\";position: absolute;border-left: 1px solid gray;box-sizing: border-box;top: 0;bottom: 0;left: 50%;z-index: -1;}#sk-container-id-2 div.sk-parallel-item {display: flex;flex-direction: column;z-index: 1;position: relative;background-color: white;}#sk-container-id-2 div.sk-parallel-item:first-child::after {align-self: flex-end;width: 50%;}#sk-container-id-2 div.sk-parallel-item:last-child::after {align-self: flex-start;width: 50%;}#sk-container-id-2 div.sk-parallel-item:only-child::after {width: 0;}#sk-container-id-2 div.sk-dashed-wrapped {border: 1px dashed gray;margin: 0 0.4em 0.5em 0.4em;box-sizing: border-box;padding-bottom: 0.4em;background-color: white;}#sk-container-id-2 div.sk-label label {font-family: monospace;font-weight: bold;display: inline-block;line-height: 1.2em;}#sk-container-id-2 div.sk-label-container {text-align: center;}#sk-container-id-2 div.sk-container {/* jupyter's `normalize.less` sets `[hidden] { display: none; }` but bootstrap.min.css set `[hidden] { display: none !important; }` so we also need the `!important` here to be able to override the default hidden behavior on the sphinx rendered scikit-learn.org. See: https://github.com/scikit-learn/scikit-learn/issues/21755 */display: inline-block !important;position: relative;}#sk-container-id-2 div.sk-text-repr-fallback {display: none;}</style><div id=\"sk-container-id-2\" class=\"sk-top-container\"><div class=\"sk-text-repr-fallback\"><pre>NearestNeighbors(algorithm=&#x27;brute&#x27;)</pre><b>In a Jupyter environment, please rerun this cell to show the HTML representation or trust the notebook. <br />On GitHub, the HTML representation is unable to render, please try loading this page with nbviewer.org.</b></div><div class=\"sk-container\" hidden><div class=\"sk-item\"><div class=\"sk-estimator sk-toggleable\"><input class=\"sk-toggleable__control sk-hidden--visually\" id=\"sk-estimator-id-2\" type=\"checkbox\" checked><label for=\"sk-estimator-id-2\" class=\"sk-toggleable__label sk-toggleable__label-arrow\">NearestNeighbors</label><div class=\"sk-toggleable__content\"><pre>NearestNeighbors(algorithm=&#x27;brute&#x27;)</pre></div></div></div></div></div>"
      ],
      "text/plain": [
       "NearestNeighbors(algorithm='brute')"
      ]
     },
     "execution_count": 106,
     "metadata": {},
     "output_type": "execute_result"
    }
   ],
   "source": [
    "model.fit(book_sparse)"
   ]
  },
  {
   "cell_type": "code",
   "execution_count": 107,
   "metadata": {
    "colab": {
     "base_uri": "https://localhost:8080/",
     "height": 35
    },
    "id": "f8CwQZMkYGFm",
    "outputId": "6522dcc0-ccc1-45f0-d9b7-f49ce3dd6be5"
   },
   "outputs": [
    {
     "data": {
      "text/plain": [
       "'Harry Potter and the Chamber of Secrets (Book 2)'"
      ]
     },
     "execution_count": 107,
     "metadata": {},
     "output_type": "execute_result"
    }
   ],
   "source": [
    "book_pivot.iloc[233,:].name"
   ]
  },
  {
   "cell_type": "code",
   "execution_count": 108,
   "metadata": {
    "id": "XvDinOaaYGFm"
   },
   "outputs": [],
   "source": [
    "\n",
    "distance,suggestion = model.kneighbors(book_pivot.iloc[233,:].values.reshape(1,-1), n_neighbors=10)"
   ]
  },
  {
   "cell_type": "code",
   "execution_count": 109,
   "metadata": {
    "colab": {
     "base_uri": "https://localhost:8080/"
    },
    "id": "VSj_4keUYGFm",
    "outputId": "23898716-5b04-405b-9a09-f21ebf1c1ce7"
   },
   "outputs": [
    {
     "data": {
      "text/plain": [
       "array([[ 0.        , 68.78953409, 69.5413546 , 72.64296249, 76.83098333,\n",
       "        77.28518616, 77.59510294, 77.60154638, 77.65307463, 77.68526244]])"
      ]
     },
     "execution_count": 109,
     "metadata": {},
     "output_type": "execute_result"
    }
   ],
   "source": [
    "distance"
   ]
  },
  {
   "cell_type": "code",
   "execution_count": 110,
   "metadata": {
    "colab": {
     "base_uri": "https://localhost:8080/"
    },
    "id": "5WLqi7W3YGFm",
    "outputId": "d09722e6-ba79-4461-8b9d-9bf7c7c2042e"
   },
   "outputs": [
    {
     "data": {
      "text/plain": [
       "array([[233, 236, 234, 237, 180, 531, 670, 681, 684, 592]], dtype=int64)"
      ]
     },
     "execution_count": 110,
     "metadata": {},
     "output_type": "execute_result"
    }
   ],
   "source": [
    "suggestion"
   ]
  },
  {
   "cell_type": "code",
   "execution_count": 111,
   "metadata": {
    "colab": {
     "base_uri": "https://localhost:8080/"
    },
    "id": "HAuPtlNEYGFm",
    "outputId": "9c976ec6-cd91-4bf5-bbfb-4b4bafdacdad"
   },
   "outputs": [
    {
     "name": "stdout",
     "output_type": "stream",
     "text": [
      "Index(['Harry Potter and the Chamber of Secrets (Book 2)',\n",
      "       'Harry Potter and the Prisoner of Azkaban (Book 3)',\n",
      "       'Harry Potter and the Goblet of Fire (Book 4)',\n",
      "       'Harry Potter and the Sorcerer's Stone (Book 1)', 'Exclusive',\n",
      "       'The Cradle Will Fall', 'The Witness',\n",
      "       'Tom Clancy's Op-Center (Tom Clancy's Op Center (Paperback))', 'Toxin',\n",
      "       'The Long Road Home'],\n",
      "      dtype='object', name='Book-Title')\n"
     ]
    }
   ],
   "source": [
    "# we need book names\n",
    "for i in range(len(suggestion)):\n",
    "    print(book_pivot.index[suggestion[i]])"
   ]
  },
  {
   "cell_type": "code",
   "execution_count": 112,
   "metadata": {
    "colab": {
     "base_uri": "https://localhost:8080/",
     "height": 35
    },
    "id": "KEeQo9WwT0C1",
    "outputId": "7aa5862a-cdc1-4dc7-80cd-654452d86fd6"
   },
   "outputs": [
    {
     "data": {
      "text/plain": [
       "'A Bend in the Road'"
      ]
     },
     "execution_count": 112,
     "metadata": {},
     "output_type": "execute_result"
    }
   ],
   "source": [
    "book_pivot.index[4]"
   ]
  },
  {
   "cell_type": "code",
   "execution_count": 113,
   "metadata": {
    "colab": {
     "base_uri": "https://localhost:8080/"
    },
    "id": "p2pnzm0AUBzz",
    "outputId": "219e9bcd-732b-446f-b6ae-38291c0b02b5"
   },
   "outputs": [
    {
     "data": {
      "text/plain": [
       "Index(['1984', '1st to Die: A Novel', '2nd Chance', '4 Blondes',\n",
       "       'A Bend in the Road', 'A Case of Need',\n",
       "       'A Child Called \\It\\\": One Child's Courage to Survive\"',\n",
       "       'A Civil Action', 'A Cry In The Night', 'A Darkness More Than Night',\n",
       "       ...\n",
       "       'Winter Solstice', 'Wish You Well', 'Without Remorse',\n",
       "       'Wizard and Glass (The Dark Tower, Book 4)', 'Wuthering Heights',\n",
       "       'Year of Wonders', 'You Belong To Me',\n",
       "       'Zen and the Art of Motorcycle Maintenance: An Inquiry into Values',\n",
       "       'Zoya', '\\O\\\" Is for Outlaw\"'],\n",
       "      dtype='object', name='Book-Title', length=737)"
      ]
     },
     "execution_count": 113,
     "metadata": {},
     "output_type": "execute_result"
    }
   ],
   "source": [
    "book_pivot.index"
   ]
  },
  {
   "cell_type": "code",
   "execution_count": 114,
   "metadata": {
    "id": "VIVz4ql8T6R2"
   },
   "outputs": [],
   "source": [
    "books_name = book_pivot.index"
   ]
  },
  {
   "cell_type": "code",
   "execution_count": 115,
   "metadata": {
    "id": "e7P4AwfeRHbp"
   },
   "outputs": [],
   "source": [
    "import pickle as pk\n",
    "pk.dump(model, open('model.pkl', 'wb'))\n",
    "pk.dump(books_name, open('books_name.pkl', 'wb'))\n",
    "pk.dump(final_rating, open('final_rating.pkl', 'wb'))\n",
    "pk.dump(book_pivot, open('book_pivot.pkl', 'wb'))"
   ]
  },
  {
   "cell_type": "markdown",
   "metadata": {
    "id": "BH3-xxvoYGFm"
   },
   "source": [
    "#### Lets write a function which takes book-id and recommends nearest books"
   ]
  },
  {
   "cell_type": "code",
   "execution_count": 116,
   "metadata": {
    "id": "1SBl96JTYGFm"
   },
   "outputs": [],
   "source": [
    "def recommend_book(book_name):\n",
    "    book_id=np.where(book_pivot.index == book_name)[0][0]\n",
    "    distance,suggestion = model.kneighbors(book_pivot.iloc[book_id,:].values.reshape(1,-1), n_neighbors=10)\n",
    "\n",
    "    for i in range(len(suggestion)):\n",
    "        books = book_pivot.index[suggestion[i]]\n",
    "        print(\"BELOW ARE THE RECOMMENDED BOOKS:  \\n\")\n",
    "        for j in books:\n",
    "            print(j)\n",
    "\n"
   ]
  },
  {
   "cell_type": "code",
   "execution_count": 117,
   "metadata": {
    "colab": {
     "base_uri": "https://localhost:8080/"
    },
    "id": "6Ta3IGuOYGFm",
    "outputId": "129d3975-72cf-459a-e033-7c36adae39e5"
   },
   "outputs": [
    {
     "name": "stdout",
     "output_type": "stream",
     "text": [
      "BELOW ARE THE RECOMMENDED BOOKS:  \n",
      "\n",
      "1984\n",
      "No Safe Place\n",
      "A Civil Action\n",
      "Foucault's Pendulum\n",
      "Long After Midnight\n",
      "Abduction\n",
      "Master of the Game\n",
      "Exclusive\n",
      "The Terminal Man\n",
      "Lake Wobegon days\n"
     ]
    }
   ],
   "source": [
    "## Taking the book name\n",
    "book_name= '1984'\n",
    "recommend_book(book_name)"
   ]
  },
  {
   "cell_type": "markdown",
   "metadata": {
    "id": "4DMlm4SJYGFm"
   },
   "source": [
    "#### This is the output of ITEM BASED SYSTEM"
   ]
  },
  {
   "cell_type": "markdown",
   "metadata": {
    "id": "ffqVQtbOYGFn"
   },
   "source": [
    "#### ************** SVD ***************"
   ]
  },
  {
   "cell_type": "markdown",
   "metadata": {
    "id": "pSPknsmiYGFn"
   },
   "source": [
    "#### Creation of Distance and SVD Functions:"
   ]
  },
  {
   "cell_type": "code",
   "execution_count": 118,
   "metadata": {
    "id": "2fox9j-qYGFn"
   },
   "outputs": [],
   "source": [
    "def euclidSim(inA,inB):\n",
    "    return 1.0/(1.0 + np.linalg.norm(inA - inB))\n",
    "\n",
    "def pearsonSim(inA,inB):\n",
    "    if len(inA) < 3 : return 1.0\n",
    "    return 0.5+0.5*np.corrcoef(inA, inB, rowvar = 0)[0][1]\n",
    "\n",
    "def svdEst(dataMat, user, simMeas, item):\n",
    "    n = np.shape(dataMat)[1]\n",
    "    simTotal = 0.0; ratSimTotal = 0.0\n",
    "    data=np.mat(dataMat)\n",
    "    U,Sigma,VT = np.linalg.svd(data)\n",
    "    Sig4 = np.mat(np.eye(4)*Sigma[:4]) #arrange Sig4 into a diagonal matrix\n",
    "    xformedItems = data.T * U[:,:4] * Sig4.I  #create transformed items\n",
    "    for j in range(n):\n",
    "        userRating = data[user,j]\n",
    "        if userRating == 0 or j==item: continue\n",
    "        similarity = simMeas(xformedItems[item,:].T, xformedItems[j,:].T)\n",
    "        #print('the %d and %d similarity is: %f' % (item, j, similarity))\n",
    "        simTotal += similarity\n",
    "        ratSimTotal += similarity * userRating\n",
    "    if simTotal == 0: return 0\n",
    "    else: return ratSimTotal/simTotal"
   ]
  },
  {
   "cell_type": "markdown",
   "metadata": {
    "id": "xN9OqhXDYGFn"
   },
   "source": [
    "#### Developed the ‘recommend’ function to generate book recommendations for a specific user by taking below parameter"
   ]
  },
  {
   "cell_type": "code",
   "execution_count": 119,
   "metadata": {
    "id": "PXHGf2-hYGFn"
   },
   "outputs": [],
   "source": [
    "def recommend(dataMat, user, N=3, simMeas = pearsonSim, estMethod=svdEst):\n",
    "    unratedItems = np.nonzero(dataMat[user,:].A==0)[1] #find unrated items\n",
    "    if len(unratedItems) == 0: return 'you rated everything'\n",
    "    itemScores = []\n",
    "    for item in unratedItems:\n",
    "        estimatedScore = estMethod(dataMat, user, simMeas, item)\n",
    "        itemScores.append((item, estimatedScore))\n",
    "    return sorted(itemScores, key=lambda jj: jj[1], reverse=True)[:N]"
   ]
  },
  {
   "cell_type": "code",
   "execution_count": 120,
   "metadata": {
    "id": "5eOZbbn1YGFn"
   },
   "outputs": [],
   "source": [
    "data=np.mat(book_pivot.T)"
   ]
  },
  {
   "cell_type": "markdown",
   "metadata": {
    "id": "uzZVf2R9YGFn"
   },
   "source": [
    "#### Calling the function to get the recommendations to particular user"
   ]
  },
  {
   "cell_type": "code",
   "execution_count": 121,
   "metadata": {
    "colab": {
     "base_uri": "https://localhost:8080/"
    },
    "id": "SB6HlV09YGFn",
    "outputId": "5f8d60c5-6a5e-47e8-acd3-b963630df9a0"
   },
   "outputs": [
    {
     "name": "stdout",
     "output_type": "stream",
     "text": [
      "[(671, 9.150652915656469), (647, 9.150549475537884), (409, 9.150286404879854), (246, 9.150274334533847), (649, 9.14983296631765)]\n"
     ]
    }
   ],
   "source": [
    "user = 18\n",
    "recommendations = recommend(data, user, N=5, simMeas=pearsonSim, estMethod=svdEst)\n",
    "print(recommendations)\n"
   ]
  },
  {
   "cell_type": "markdown",
   "metadata": {
    "id": "xPrq0m-4YGFo"
   },
   "source": [
    "#### Implemented a loop to iterate over the recommendations generated by the recommed function."
   ]
  },
  {
   "cell_type": "code",
   "execution_count": 122,
   "metadata": {
    "colab": {
     "base_uri": "https://localhost:8080/"
    },
    "id": "TRTyqZQoYGFo",
    "outputId": "0b064ff7-b404-46ae-ac16-8192558f115c"
   },
   "outputs": [
    {
     "name": "stdout",
     "output_type": "stream",
     "text": [
      "Recommended Items for User 18 :\n",
      "\n",
      "Book: \"The Woman Next Door\" , Rating : \"9.15\"\n",
      "Book: \"The Summerhouse\" , Rating : \"9.15\"\n",
      "Book: \"Reap The Wind\" , Rating : \"9.15\"\n",
      "Book: \"Hemlock Bay\" , Rating : \"9.15\"\n",
      "Book: \"The Surgeon\" , Rating : \"9.15\"\n"
     ]
    }
   ],
   "source": [
    "print(\"Recommended Items for User\", user, \":\\n\")\n",
    "for i, p in recommendations:\n",
    "    print(f'Book: \"{book_pivot.index[i].title()}\" , Rating : \"{round(p,2)}\"')"
   ]
  },
  {
   "cell_type": "code",
   "execution_count": 123,
   "metadata": {
    "id": "cwbkD620L-88"
   },
   "outputs": [],
   "source": [
    "# #save model\n",
    "# import pickle as pk\n",
    "# pk.dump(users_df,open('users_df.pkl','wb'))\n",
    "# pk.dump(books_df,open('books_df.pkl','wb'))\n",
    "# pk.dump(recomendations, open('recomendations.pkl','wb'))\n"
   ]
  },
  {
   "cell_type": "code",
   "execution_count": 124,
   "metadata": {
    "id": "kHwxlkM_Dsw1"
   },
   "outputs": [],
   "source": [
    "#load model\n"
   ]
  },
  {
   "cell_type": "code",
   "execution_count": null,
   "metadata": {
    "id": "f_aQnZGTDl6h"
   },
   "outputs": [],
   "source": []
  }
 ],
 "metadata": {
  "accelerator": "GPU",
  "colab": {
   "gpuType": "T4",
   "provenance": []
  },
  "kaggle": {
   "accelerator": "none",
   "dataSources": [
    {
     "datasetId": 912577,
     "sourceId": 1546766,
     "sourceType": "datasetVersion"
    }
   ],
   "dockerImageVersionId": 30646,
   "isGpuEnabled": false,
   "isInternetEnabled": false,
   "language": "python",
   "sourceType": "notebook"
  },
  "kernelspec": {
   "display_name": "Python 3 (ipykernel)",
   "language": "python",
   "name": "python3"
  },
  "language_info": {
   "codemirror_mode": {
    "name": "ipython",
    "version": 3
   },
   "file_extension": ".py",
   "mimetype": "text/x-python",
   "name": "python",
   "nbconvert_exporter": "python",
   "pygments_lexer": "ipython3",
   "version": "3.11.7"
  }
 },
 "nbformat": 4,
 "nbformat_minor": 4
}
